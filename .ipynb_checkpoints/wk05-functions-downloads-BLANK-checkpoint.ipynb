{
 "cells": [
  {
   "cell_type": "markdown",
   "metadata": {},
   "source": [
    "# Functions & Downloads\n",
    "\n",
    "Today we'll learn how to write more efficient code using ```functions``` and then apply them toward scraping/downloading documents from the Web."
   ]
  },
  {
   "cell_type": "markdown",
   "metadata": {
    "id": "LqFjblutisVw"
   },
   "source": [
    "## Functions: Making Your Code Work Smarter\n",
    "\n",
    "A **function** is a reusable block of code that performs a specific task. Instead of writing the same code over and over, you write it once in a function and call it whenever you need it.\n",
    "\n",
    "Functions help you:\n",
    "* **Stay DRY** (Don't Repeat Yourself) – write code once, use it many times\n",
    "* **Organize your code** – break complex problems into smaller, manageable pieces\n",
    "* **Make debugging easier** – fix issues in one place instead of hunting through repeated code\n",
    "* **Build modular programs** – combine simple functions to accomplish complex tasks\n",
    "\n",
    "A function runs only when something \"invokes\" or \"calls\" it, giving you control over when and how your code executes.\n"
   ]
  },
  {
   "cell_type": "code",
   "execution_count": null,
   "metadata": {},
   "outputs": [],
   "source": []
  },
  {
   "cell_type": "code",
   "execution_count": null,
   "metadata": {},
   "outputs": [],
   "source": []
  },
  {
   "cell_type": "code",
   "execution_count": null,
   "metadata": {},
   "outputs": [],
   "source": []
  },
  {
   "cell_type": "code",
   "execution_count": null,
   "metadata": {},
   "outputs": [],
   "source": []
  },
  {
   "cell_type": "code",
   "execution_count": null,
   "metadata": {},
   "outputs": [],
   "source": []
  },
  {
   "cell_type": "code",
   "execution_count": null,
   "metadata": {},
   "outputs": [],
   "source": []
  },
  {
   "cell_type": "markdown",
   "metadata": {},
   "source": [
    "### Build a credit check function\n",
    "\n",
    "Recall that we built a conditional expression to evaluate credit rating based on these values:\n",
    "\n",
    "- 300-579: Poor\n",
    "- 580-669: Fair\n",
    "- 670-739: Good\n",
    "- 740-799: Very good\n",
    "- 800-850: Excellent\n",
    "\n",
    "Now build a function that evaluates a score to return a rating, but also prints \"Your credit rating is **whatever**!\""
   ]
  },
  {
   "cell_type": "markdown",
   "metadata": {},
   "source": [
    "## here is the expression we previously built:\n",
    "\n",
    "```python\n",
    "if credit <= 579:\n",
    "  print(f\"Your credit of {credit} is poor\")\n",
    "elif 579 < credit <= 669:\n",
    "  print(f\"Your credit of {credit} is fair\")\n",
    "elif 670 < credit <= 739:\n",
    "  print(f\"Your credit of {credit} is good\")\n",
    "elif 740 <= credit <= 799:\n",
    "  print(f\"Your credit of {credit} is very good\")\n",
    "else:\n",
    "  print(f\"Your credit of {credit} is excellent\")\n",
    "\n",
    "```\n",
    "\n",
    "Can you think of a way to make it more efficient and DRY."
   ]
  },
  {
   "cell_type": "code",
   "execution_count": null,
   "metadata": {},
   "outputs": [],
   "source": [
    "## Code your function here"
   ]
  },
  {
   "cell_type": "markdown",
   "metadata": {},
   "source": [
    "## Why functions are awesome\n",
    "\n",
    "For functions I use regularly, I can simply import them and reduce time spent copy-n-pasting, or rewriting same functions.\n",
    "\n",
    "#### (The next few steps are demo only)"
   ]
  },
  {
   "cell_type": "code",
   "execution_count": null,
   "metadata": {},
   "outputs": [],
   "source": [
    "pip install git+https://github.com/sandeepmj/my_functions.git"
   ]
  },
  {
   "cell_type": "code",
   "execution_count": null,
   "metadata": {},
   "outputs": [],
   "source": [
    "## import my_fuctions\n"
   ]
  },
  {
   "cell_type": "code",
   "execution_count": null,
   "metadata": {
    "scrolled": true
   },
   "outputs": [],
   "source": []
  },
  {
   "cell_type": "markdown",
   "metadata": {},
   "source": [
    "### Your Challenge\n",
    "\n",
    "Write a function that makes a request to a website and returns the content as soup."
   ]
  },
  {
   "cell_type": "code",
   "execution_count": null,
   "metadata": {},
   "outputs": [],
   "source": [
    "     \n",
    "    "
   ]
  },
  {
   "cell_type": "markdown",
   "metadata": {},
   "source": [
    "## Scraping/Downloading Web Documents\n",
    "\n",
    "You want to create a dataset that tracks how many companies the <a href=\"https://www.sec.gov/litigation/suspensions.shtml\">SEC suspended</a> between 2024 and 2004 (and for what reasons).\n",
    "\n",
    "We want to write a scraper that aggregates:\n",
    "\n",
    "* Date of suspension\n",
    "* Company name\n",
    "* Order\n",
    "* Release (the PDFs in the XX-YYYYY format\n",
    "\n",
    "The challenge? All that info is held in the PDFs.\n",
    "\n",
    "We will need to download all the PDFs before we can analyze the info.\n",
    "\n",
    "## Practice Site\n",
    "\n",
    "We'll practice the required techniques <a href=\"https://sandeepmj.github.io/scrape-example-page/pages.html\">on this demo site</a> by:\n",
    "\n",
    "1. downloading all ```txt``` files.\n",
    "2. downloading all ```pdf``` files.\n",
    "3. Perhaps all files at one time."
   ]
  },
  {
   "cell_type": "code",
   "execution_count": null,
   "metadata": {},
   "outputs": [],
   "source": []
  }
 ],
 "metadata": {
  "celltoolbar": "Slideshow",
  "colab": {
   "collapsed_sections": [
    "u1gQhop93U1m",
    "KEs8xN58isXw"
   ],
   "provenance": []
  },
  "kernelspec": {
   "display_name": "Python [conda env:base] *",
   "language": "python",
   "name": "conda-base-py"
  },
  "language_info": {
   "codemirror_mode": {
    "name": "ipython",
    "version": 3
   },
   "file_extension": ".py",
   "mimetype": "text/x-python",
   "name": "python",
   "nbconvert_exporter": "python",
   "pygments_lexer": "ipython3",
   "version": "3.12.2"
  }
 },
 "nbformat": 4,
 "nbformat_minor": 4
}
