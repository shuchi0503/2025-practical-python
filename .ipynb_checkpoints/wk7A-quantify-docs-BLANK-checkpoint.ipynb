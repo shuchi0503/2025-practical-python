{
 "cells": [
  {
   "cell_type": "markdown",
   "metadata": {},
   "source": [
    "# Investigations in which documents are key\n",
    "\n",
    "We might have in hand vast amounts of raw data from leaks, public records, web scrapes, FOIA requests, or whistleblowers. These could be emails, financial documents, contracts, social media posts, judicial judgments and discloser forms. \n",
    "\n",
    "Finding the buried story is another challenge. How do we read through thousands of pages to structure all this unstructured data.\n",
    "\n",
    "AI will put on the brakes if you upload massive amounts of documents. \n",
    "\n",
    "We'll learn how to use modern investigative techniques to discover patterns, anomalies, and insights that might otherwise go unnoticed.\n",
    "\n",
    "Here are a handful of examples:\n",
    "\n",
    "**ProPublica**: <a href =\"https://www.propublica.org/article/facebook-advertising-discrimination-housing-race-sex-national-origin\">Facebook (Still) Letting Housing Advertisers Exclude Users by Race</a>\n",
    "- This investigation uncovered how Facebook allowed advertisers to exclude users by race. Journalists used keyword searches to identify discriminatory practices in ad targeting.\n",
    "\n",
    "**The New York Times**: <a href=\"https://www.nytimes.com/2015/10/25/us/racial-disparity-traffic-stops-driving-black.html\">The Disproportionate Risks of Driving While Black</a>\n",
    "- NYT reporters analyzed police traffic stop data to expose racial disparities. They used keyword searches to identify patterns in the data, revealing that Black drivers were more likely to be stopped and searched.\n",
    "\n",
    "**ICIJ**: <a href=\"https://www.icij.org/investigations/panama-papers/\">THE PANAMA PAPERS</a>\n",
    "- This monumental collaborative investigation dug through 11.5 million leaked files **(2.6 terabytes of data)** to expose the offshore holdings of world political leaders, links to global scandals, and details of the hidden financial dealings of fraudsters, drug traffickers, billionaires, celebrities, sports stars and more.\n",
    "\n",
    "\n",
    "Today, we'll learn to quantify unstructured text with this challenge:\n",
    "\n",
    "#### Confession Judgments\n",
    "\n",
    "Confession Judgments have been around since the Middle Ages, but are especially common in New York State.\n",
    "\n",
    "This legal procedure is a signed agreement where someone admits they owe money and allows the creditor to get a court judgment without a lawsuit if they don’t pay. It saves time for creditors but can be risky for debtors because they give up their right to defend themselves in court.\n",
    "\n",
    "You scrape thousands of confession judgments from NYS court website and want to quantify how many have been signed by residents to deal with falling behind in rent or mortgage payments, or on utility bills. You also discover an interesting confession judgment and decide you want to quantify that too.\n",
    "\n",
    "## Steps we need to take:\n",
    "1. Acquisition, either through scraping, FOAI, or being given files by a source(s)\n",
    "2. Organzing\n",
    "3. Reading & understanding a few to uncover any patterns\n",
    "4. Structuring unstructured content to quantify values\n",
    "\n",
    "We'll work our way up to that challenge."
   ]
  },
  {
   "cell_type": "markdown",
   "metadata": {
    "id": "fv1F1HyA9zmX"
   },
   "source": [
    "# Download, Capture, Structure\n",
    "\n",
    "A few weeks ago we downloaded all **all** the files on <a href=\"https://sandeepmj.github.io/scrape-example-page/pages.html\">the demo site</a>. \n",
    "\n",
    "Let's say we have all the files <a href=\"https://drive.google.com/file/d/1yNfAK-a72oLFv_QxRbvDi3HCj-Gxd6T9/view?usp=sharing\">in this folder</a>. Download this folder and move it next to your ```.ipynb``` file. (Soon we'll learn how to do this programmatically.)\n",
    "\n"
   ]
  },
  {
   "cell_type": "code",
   "execution_count": null,
   "metadata": {},
   "outputs": [],
   "source": [
    "## import libraries\n"
   ]
  },
  {
   "cell_type": "markdown",
   "metadata": {},
   "source": [
    "## Organizing our files using ```glob```\n",
    "\n",
    "```glob``` does one thing and one thing only: it collects all files in a folder and places them in a list.\n",
    "\n",
    "\"glob\" all files in the main directory:"
   ]
  },
  {
   "cell_type": "code",
   "execution_count": null,
   "metadata": {},
   "outputs": [],
   "source": [
    "## pull all files in the main directory\n",
    "\n"
   ]
  },
  {
   "cell_type": "code",
   "execution_count": null,
   "metadata": {},
   "outputs": [],
   "source": [
    "## capture only the pdfs\n",
    "\n",
    "\n"
   ]
  },
  {
   "cell_type": "code",
   "execution_count": null,
   "metadata": {},
   "outputs": [],
   "source": [
    "## capture only the text files\n"
   ]
  },
  {
   "cell_type": "code",
   "execution_count": null,
   "metadata": {},
   "outputs": [],
   "source": [
    "## capture only the pdfs that have the words adolf coors in them\n",
    "\n"
   ]
  },
  {
   "cell_type": "code",
   "execution_count": null,
   "metadata": {},
   "outputs": [],
   "source": [
    "## files about florida\n"
   ]
  },
  {
   "cell_type": "code",
   "execution_count": null,
   "metadata": {},
   "outputs": [],
   "source": [
    "## finally, just the ones that say text-doc...and store in list called target_files\n",
    "\n"
   ]
  },
  {
   "cell_type": "markdown",
   "metadata": {},
   "source": [
    "### Sort for clarity\n",
    "\n",
    "use ```sorted()```"
   ]
  },
  {
   "cell_type": "code",
   "execution_count": null,
   "metadata": {},
   "outputs": [],
   "source": [
    "## sorted list\n"
   ]
  },
  {
   "cell_type": "markdown",
   "metadata": {},
   "source": [
    "## Read & Structure\n",
    "\n",
    "Create a dataframe that holds:\n",
    "\n",
    "- name of the renter, \n",
    "- whether their lease of renewed or terminated,\n",
    "- the name of the source file.\n",
    "\n",
    "We'll do this two ways:\n",
    "\n",
    "1. by coding Python (when we want to keep our data confidential).\n",
    "\n",
    "2. by tapping the ChatGPT API (when it's publicly available data).\n",
    "\n",
    "\n",
    "### We want to keep it confidential:"
   ]
  },
  {
   "cell_type": "code",
   "execution_count": null,
   "metadata": {},
   "outputs": [],
   "source": [
    "## step one, open and read files\n",
    "\n",
    "        "
   ]
  },
  {
   "cell_type": "markdown",
   "metadata": {},
   "source": [
    "`.readlines()` is a Python file method that reads **all lines** from an open text file and returns them as a **list of strings**, where each string represents one line (including the newline character `\\n` at the end of each line)."
   ]
  },
  {
   "cell_type": "code",
   "execution_count": null,
   "metadata": {},
   "outputs": [],
   "source": [
    "## step one, open and read files\n",
    "\n",
    "        "
   ]
  },
  {
   "cell_type": "markdown",
   "metadata": {},
   "source": [
    "## now let's add logic:"
   ]
  },
  {
   "cell_type": "code",
   "execution_count": null,
   "metadata": {},
   "outputs": [],
   "source": [
    "## code here\n"
   ]
  },
  {
   "cell_type": "code",
   "execution_count": null,
   "metadata": {},
   "outputs": [],
   "source": [
    "## show decision list\n"
   ]
  },
  {
   "cell_type": "code",
   "execution_count": null,
   "metadata": {},
   "outputs": [],
   "source": [
    "## turn into dataframe\n"
   ]
  },
  {
   "cell_type": "markdown",
   "metadata": {},
   "source": [
    "## ChatGPT API\n",
    "\n",
    "These documents are publicly available, but we have thousands. We can use ChatGPT API to avoid messages like \"You can only upload 10 documents at a time.\"\n",
    "\n",
    "Let's use the ```ChatGPT``` API, but some meta concepts first:\n",
    "\n",
    "## 1. Get Your API Key\n",
    "\n",
    "An API key is like a password that lets your code access the AI service.\n",
    "\n",
    "**How to get it:**\n",
    "- Go to the AI provider's website\n",
    "- Create an account\n",
    "- Find the API keys section\n",
    "- Generate a new key\n",
    "- Copy it immediately (you'll only see it once)\n",
    "- I save all my keys in a password manager in one document call ```API Keys```\n",
    "\n",
    "---\n",
    "\n",
    "## 2. Using Your API Key\n",
    "\n",
    "**Keep it secret:**\n",
    "- Store it in a separate file (called `.env`)\n",
    "- Never put it directly in your code\n",
    "- Never share it with others\n",
    "- Never upload it to GitHub or email it\n",
    "\n",
    "**Why?**\n",
    "- Anyone with your key can use your account\n",
    "- You'll be charged for their usage\n",
    "- They could rack up thousands of dollars in charges\n",
    "\n",
    "---\n",
    "\n",
    "## 3. Keep Track of Cost\n",
    "\n",
    "**AI APIs charge you for:**\n",
    "- Every request you make\n",
    "- The amount of text you send\n",
    "- The amount of text the AI generates\n",
    "\n",
    "**How to manage costs:**\n",
    "- Check the pricing before you start\n",
    "- Estimate your total cost: (number of files) × (cost per file)\n",
    "- Test on a small batch first (like 10 files)\n",
    "- Set up billing alerts\n",
    "- Monitor your usage regularly\n",
    "\n",
    "**Example:**\n",
    "If each document costs ```$0.01``` to process, then 5000 documents = $50\n",
    "\n",
    "## Survey class on their RAMS\n",
    "\n",
    "## 4. Don't Send Sensitive Information\n",
    "\n",
    "**Never send:**\n",
    "- Social Security Numbers\n",
    "- Credit card numbers  \n",
    "- Passwords\n",
    "- Medical records\n",
    "- Personal financial information\n",
    "- Confidential source memos, emails, etc.\n",
    "\n",
    "**Why?**\n",
    "- Your data gets sent to the AI company's servers\n",
    "- It may be stored temporarily\n",
    "- There's always a privacy risk\n",
    "- It may be used as training data\n",
    "- It may be subpoenaed\n",
    "\n",
    "**When in doubt:** Remove sensitive information first, or don't use the API.\n",
    "\n",
    "---\n",
    "\n",
    "## Summary\n",
    "\n",
    "1. **Get your API key** - Your password to use the AI service\n",
    "2. **Protect it** - Keep it secret, never share or upload it\n",
    "3. **Watch costs** - Test small, estimate total, set alerts\n",
    "4. **Privacy first** - Don't send sensitive personal or confidential data\n",
    "\n",
    "\n",
    "We need a few things before we can do this:\n",
    "1. An ChatGPT API key\n",
    "2. A way to hide that key (you don't to use up your entire quota if someone stumbles on your key)\n",
    "\n",
    "#### How to get a ChatGPT key:\n",
    "\n",
    "1. **Go to the OpenAI platform:** https://platform.openai.com/api-keys\n",
    "\n",
    "2. **Log in** (or create) your OpenAI account.\n",
    "\n",
    "3. **Navigate to the API keys section** (sometimes under your profile icon → \"View API keys\").\n",
    "\n",
    "4. **Click \"Create new secret key\"** (or similar). A new key will be generated.\n",
    "\n",
    "5. **Copy and securely store the key immediately**, because you'll only see it once. If you lose it, you'll need to regenerate. I keep all my API keys in Dashlane in a document called ```API keys```.\n",
    "\n",
    "6. **Set the key secretly in your notebook:**\n",
    "\n",
    "We will use `python-dotenv`, a professional way to hide your API key used at Bloomberg and other places.\n",
    "\n",
    "```python\n",
    "     from dotenv import load_dotenv\n",
    "     load_dotenv()  # Reads from .env file \n",
    "     import os   ## to handle environment variables\n",
    "```\n",
    "You need to ```pip install dotenv``` first.\n",
    "\n",
    "\n",
    "7. Create a file named ```.env``` using VSCode. **Note:** once you save it and close it, you won't see it anymore."
   ]
  },
  {
   "cell_type": "code",
   "execution_count": null,
   "metadata": {},
   "outputs": [],
   "source": []
  },
  {
   "cell_type": "code",
   "execution_count": null,
   "metadata": {},
   "outputs": [],
   "source": [
    "## import \n",
    "\n"
   ]
  },
  {
   "cell_type": "code",
   "execution_count": null,
   "metadata": {},
   "outputs": [],
   "source": [
    "## pull secret API key into your notebook\n",
    "\n"
   ]
  },
  {
   "cell_type": "code",
   "execution_count": null,
   "metadata": {},
   "outputs": [],
   "source": []
  },
  {
   "cell_type": "code",
   "execution_count": null,
   "metadata": {},
   "outputs": [],
   "source": [
    "## import openai\n"
   ]
  },
  {
   "cell_type": "code",
   "execution_count": null,
   "metadata": {
    "scrolled": true
   },
   "outputs": [],
   "source": [
    "# use the key you already loaded\n"
   ]
  },
  {
   "cell_type": "markdown",
   "metadata": {},
   "source": [
    "## From OpenAI:\n",
    "\n",
    "#### OpenAI Models Overview (for Data Journalism – 2025)\n",
    "\n",
    "| Model | Ideal Use Cases | Strengths | Limitations | Notes |\n",
    "|--------|----------------|------------|--------------|-------|\n",
    "| **gpt-4o-2024-08-06** | Deep text analysis, summarization, document extraction, mixed media (text + images) | Fast, accurate, handles long documents (128k tokens), can analyze charts/images | Slightly higher cost than 3.5 models | Best overall model for newsroom analytics & investigative automation |\n",
    "| **gpt-4-turbo** | Structured data extraction, complex reasoning, policy analysis | Excellent at nuanced reasoning & tone analysis | Text-only | Great for in-depth narrative analysis or investigative topics |\n",
    "| **gpt-3.5-turbo-0125** | Quick categorization, entity extraction, keyword tagging | Fast & cheap, good for large-scale automation | Weaker reasoning, less factual consistency | Ideal for bulk processing thousands of records or articles |\n",
    "| **gpt-4o-mini** | Summarization, tagging, lightweight insight extraction | Very low latency and cost | Less detail in long reasoning | Best for high-volume, real-time dashboards |\n",
    "| **text-embedding-3-large** | Search, clustering, similarity, topic modeling | Generates high-quality vector embeddings | Not generative (no text output) | Combine with a vector DB (e.g., FAISS, Pinecone) for newsroom archive search |\n",
    "| **text-embedding-3-small** | Fast keyword and semantic search | Cheap and lightweight | Lower embedding quality | Great for smaller newsroom tools or prototypes |\n",
    "| **whisper-1** | Transcription of interviews, speeches, press conferences | Accurate multilingual transcription | Audio-only | Can auto-generate transcripts for podcasts or public meetings |\n",
    "| **gpt-4o-realtime-preview** | Live interviews, streaming Q&A, event monitoring | Responds to audio, text, or video in real time | Experimental API access | Future-facing for live analysis during debates or press events |\n",
    "\n",
    "\\*Prices change frequently — always confirm at [https://openai.com/api/pricing](https://openai.com/api/pricing)."
   ]
  },
  {
   "cell_type": "markdown",
   "metadata": {},
   "source": [
    "## Breaking it down:\n",
    "\n",
    "### Line 1: Getting ChatGPT's response text\n",
    "```python\n",
    "result = response.choices[0].message.content.strip()\n",
    "```\n",
    "\n",
    "- `response` = the full API response object from OpenAI\n",
    "- `.choices[0]` = get the first response (OpenAI can return multiple options, but we just want the first one)\n",
    "- `.message.content` = extract the actual text ChatGPT wrote, message is the container that holds the actual content\n",
    "- `.strip()` = remove any extra spaces/newlines from the beginning or end\n",
    "\n",
    "**Example:** `result` becomes `\"Pen Federal Credit Union|renew\"`\n",
    "\n",
    "---\n",
    "\n",
    "### Line 2: Splitting the text into two variables\n",
    "```python\n",
    "client_name, decision = result.split('|')\n",
    "```\n",
    "\n",
    "- `result.split('|')` = split the string at the pipe character `|`, creating a list with 2 items\n",
    "- `client_name, decision =` = unpack those 2 items into 2 separate variables\n",
    "\n",
    "**Example:**\n",
    "- `result.split('|')` → `[\"Pen Federal Credit Union\", \"renew\"]`\n",
    "- Then Python assigns:\n",
    "  - `client_name = \"Pen Federal Credit Union\"`\n",
    "  - `decision = \"renew\"`\n",
    "\n"
   ]
  },
  {
   "cell_type": "code",
   "execution_count": null,
   "metadata": {},
   "outputs": [],
   "source": [
    "df"
   ]
  },
  {
   "cell_type": "markdown",
   "metadata": {},
   "source": [
    "## Our Confession Judgment Challenge"
   ]
  },
  {
   "cell_type": "code",
   "execution_count": null,
   "metadata": {},
   "outputs": [],
   "source": [
    "## glob confession judgment files\n"
   ]
  },
  {
   "cell_type": "markdown",
   "metadata": {},
   "source": [
    "Unlike our previous ```.txt``` files, these are ```pdf``` files, and PDFs are notoriously obnoxious. They are designed so people can't change them easily. Old packages like ```PyPDF2``` pretty much sucked.\n",
    "\n",
    "But our ability to read PDFs has improved dramatically, or has at least been simplified, because AI companies NEED to unlock their content to train their LLMs. There's ```pymupdf4llm```,   ```PyMuPDF``` and several others.\n",
    "\n",
    "We'll use ```PyMuPDF``` to read these files because it's clean and super fast!\n",
    "\n",
    "```bash\n",
    "pip install PyMuPDF\n",
    "```"
   ]
  },
  {
   "cell_type": "code",
   "execution_count": null,
   "metadata": {},
   "outputs": [],
   "source": []
  },
  {
   "cell_type": "markdown",
   "metadata": {},
   "source": [
    "#### import PyMuPDF which uses the name 'fitz'\n",
    "```python\n",
    "import fitz  \n",
    "```"
   ]
  },
  {
   "cell_type": "code",
   "execution_count": null,
   "metadata": {},
   "outputs": [],
   "source": [
    "## import fitz\n",
    "\n"
   ]
  },
  {
   "cell_type": "code",
   "execution_count": null,
   "metadata": {},
   "outputs": [],
   "source": [
    "## read a single file\n"
   ]
  },
  {
   "cell_type": "markdown",
   "metadata": {},
   "source": [
    "## Use AI to code your code here to quantify the info"
   ]
  },
  {
   "cell_type": "code",
   "execution_count": null,
   "metadata": {},
   "outputs": [],
   "source": [
    "## code here"
   ]
  },
  {
   "cell_type": "code",
   "execution_count": null,
   "metadata": {},
   "outputs": [],
   "source": []
  }
 ],
 "metadata": {
  "celltoolbar": "Slideshow",
  "colab": {
   "collapsed_sections": [],
   "name": "week-8C-download-and-read_BLANK.ipynb",
   "provenance": [
    {
     "file_id": "1O76yK1JGDPc1kRTHTOIDjev2XbLGExhv",
     "timestamp": 1646785092936
    },
    {
     "file_id": "1U8zDTAuA8NQ2JaDzSqzSn03P2iT8KFLG",
     "timestamp": 1639579061177
    },
    {
     "file_id": "1tC30RwvbvYZQU9bLZ75I6kBbMski9LFN",
     "timestamp": 1628626954402
    }
   ]
  },
  "kernelspec": {
   "display_name": "test1",
   "language": "python",
   "name": "test1"
  },
  "language_info": {
   "codemirror_mode": {
    "name": "ipython",
    "version": 3
   },
   "file_extension": ".py",
   "mimetype": "text/x-python",
   "name": "python",
   "nbconvert_exporter": "python",
   "pygments_lexer": "ipython3",
   "version": "3.9.6"
  }
 },
 "nbformat": 4,
 "nbformat_minor": 4
}
