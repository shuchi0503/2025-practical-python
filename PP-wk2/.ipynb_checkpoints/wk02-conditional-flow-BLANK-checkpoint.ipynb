{
 "cells": [
  {
   "cell_type": "markdown",
   "id": "f492c687",
   "metadata": {},
   "source": [
    "# Challenge – Multi-page Tables Scrape \n",
    "\n",
    "You're often going to encounter data and tables spread across hundreds if not thousands of pages. We might want, for example, to compile details about all the doctors  <a href=\"https://apps.health.ny.gov/pubdoh/professionals/doctors/conduct/factions/AllRecordsAction.action\">on this site</a> and export to a ```dataframe``` and a ```.csv``` file.\n",
    "\n",
    "But we'll practice first on <a href=\"https://sandeepmj.github.io/scrape-example-page/heaviest-animals-page1.html\">a mock site</a>.\n",
    "\n",
    "While you could try to jump straight to your AI Assistants, let's brainstorm how you might, in pseudocoding, scrape this site. "
   ]
  },
  {
   "cell_type": "markdown",
   "id": "417c67d6",
   "metadata": {},
   "source": [
    "## <a id='toc1_'></a>[Controlling the flow](#toc0_)\n",
    "\n",
    "We always need to ensure that our scripts are able to handle various scenarios to return error-free and meaningful outputs. We do this by controlling the flow of our code (and not just how fast it runs).\n",
    "\n",
    "Here are two main reasons we will control the flow:\n",
    "\n",
    "\n",
    "### 1. <a id='toc1_1_2_'></a>[Exception Handling: managing unforeseen errors](#toc0_)\n",
    "\n",
    "> Our scripts might need to interact with external web pages (or documents or other data). We can't account for every single variation we might run into and our code will break down when it doesn't know how to proceed.\n",
    "\n",
    "> Flow control ensures that when errors happen, the program can handle them gracefully instead of crashing.\n",
    "\n",
    "### 2. <a id='toc1_1_3_'></a>[Time Delays - pacing the speed of our code.](#toc0_)\n",
    "\n",
    "> Python can be super fast – often faster than a website can populate its content. We need to slow down our code.\n",
    "\n",
    "\n",
    "\n",
    "\n",
    "\n",
    "\n",
    "\n",
    "\n"
   ]
  },
  {
   "cell_type": "code",
   "execution_count": 1,
   "id": "0ff6003f",
   "metadata": {},
   "outputs": [
    {
     "name": "stdout",
     "output_type": "stream",
     "text": [
      "The Zen of Python, by Tim Peters\n",
      "\n",
      "Beautiful is better than ugly.\n",
      "Explicit is better than implicit.\n",
      "Simple is better than complex.\n",
      "Complex is better than complicated.\n",
      "Flat is better than nested.\n",
      "Sparse is better than dense.\n",
      "Readability counts.\n",
      "Special cases aren't special enough to break the rules.\n",
      "Although practicality beats purity.\n",
      "Errors should never pass silently.\n",
      "Unless explicitly silenced.\n",
      "In the face of ambiguity, refuse the temptation to guess.\n",
      "There should be one-- and preferably only one --obvious way to do it.\n",
      "Although that way may not be obvious at first unless you're Dutch.\n",
      "Now is better than never.\n",
      "Although never is often better than *right* now.\n",
      "If the implementation is hard to explain, it's a bad idea.\n",
      "If the implementation is easy to explain, it may be a good idea.\n",
      "Namespaces are one honking great idea -- let's do more of those!\n"
     ]
    }
   ],
   "source": [
    "## the zen of python\n",
    "import this"
   ]
  },
  {
   "cell_type": "markdown",
   "id": "c62290c0",
   "metadata": {},
   "source": [
    "### 2. Exception Handling: managing unforeseen errors\n",
    "\n",
    "> Our scripts might need to interact with external web pages (or documents or other data). We can't account for every single variation we might run into and our code will break down when it doesn't know how to proceed.\n",
    "\n",
    "> Flow control ensures that when errors happen, the program can handle them gracefully instead of crashing.\n"
   ]
  },
  {
   "cell_type": "markdown",
   "id": "8781e768",
   "metadata": {},
   "source": [
    "In Python, an ```exception``` is an error that occurs during the execution of a script.\n",
    "If not handled, exceptions will stop the program and raise an error message.\n",
    "\n",
    "We will run into errors when we scrape webpages, read documents and run natural language analysis. \n",
    "\n",
    "We might have to iterate through 10,000 links to scrape the content of each page. If some of those pages aren't structured as our scraper expects, our script will break. We'll get to those more complex cases in the near future. Today, we'll deal with a simplier ```exception```."
   ]
  },
  {
   "cell_type": "code",
   "execution_count": 5,
   "id": "c695dccd",
   "metadata": {},
   "outputs": [
    {
     "data": {
      "text/plain": [
       "10.0"
      ]
     },
     "execution_count": 5,
     "metadata": {},
     "output_type": "execute_result"
    }
   ],
   "source": [
    "## divide 100 by 10\n",
    "100 / 10"
   ]
  },
  {
   "cell_type": "code",
   "execution_count": 7,
   "id": "c541f8db",
   "metadata": {},
   "outputs": [
    {
     "ename": "ZeroDivisionError",
     "evalue": "division by zero",
     "output_type": "error",
     "traceback": [
      "\u001b[0;31m---------------------------------------------------------------------------\u001b[0m",
      "\u001b[0;31mZeroDivisionError\u001b[0m                         Traceback (most recent call last)",
      "Cell \u001b[0;32mIn[7], line 3\u001b[0m\n\u001b[1;32m      1\u001b[0m \u001b[38;5;66;03m## divide 100 by 0\u001b[39;00m\n\u001b[0;32m----> 3\u001b[0m \u001b[38;5;241m100\u001b[39m\u001b[38;5;241m/\u001b[39m\u001b[38;5;241m0\u001b[39m\n",
      "\u001b[0;31mZeroDivisionError\u001b[0m: division by zero"
     ]
    }
   ],
   "source": [
    "## divide 100 by 0\n",
    "\n",
    "100/0"
   ]
  },
  {
   "cell_type": "markdown",
   "id": "b8f761e1",
   "metadata": {},
   "source": [
    "### ```try-except``` blocks:\n",
    "\n",
    "<img src=\"https://sandeepmj.github.io/image-host/try-except.png\" width=\"550\">\n"
   ]
  },
  {
   "cell_type": "code",
   "execution_count": null,
   "id": "224b7c7a",
   "metadata": {},
   "outputs": [],
   "source": [
    "## code try-except block here\n",
    "\n",
    "try:\n",
    "    num = int(input(\"enter number: \"))\n",
    "    result = 100 / num\n",
    "    print(f\"100 divided by {num} is {result}\")\n",
    "\n",
    "except ZeroDivisionError:\n",
    "    print(\"you can't divide by zero!\")\n",
    "\n",
    "100/0"
   ]
  },
  {
   "cell_type": "markdown",
   "id": "ff453850",
   "metadata": {},
   "source": [
    "### You can have multiple exceptions"
   ]
  },
  {
   "cell_type": "code",
   "execution_count": null,
   "id": "9343935c",
   "metadata": {},
   "outputs": [],
   "source": [
    "## divide a number by a string\n"
   ]
  },
  {
   "cell_type": "code",
   "execution_count": null,
   "id": "a2712ba6",
   "metadata": {},
   "outputs": [],
   "source": [
    "## code try-multiple exceptions here\n"
   ]
  },
  {
   "cell_type": "markdown",
   "id": "4aff1a5a",
   "metadata": {},
   "source": [
    "### ```try-except-finally```\n",
    "\n",
    "We tack on a ```finally``` block that executes code regardless of whether an exception was raised or not, usually just to show us how far our code has progressed.\n",
    "\n",
    "<img src=\"https://sandeepmj.github.io/image-host/try-except-finally.png\" width=\"550\">\n"
   ]
  },
  {
   "cell_type": "code",
   "execution_count": null,
   "id": "056e1ee3",
   "metadata": {},
   "outputs": [],
   "source": [
    "## demo here\n",
    "\n",
    "rent = 1_000\n",
    "# food = 300\n",
    "# income = 1_500\n",
    "income = \"$1,500\"\n",
    "food = \"300\"\n",
    "\n"
   ]
  },
  {
   "cell_type": "markdown",
   "id": "d57a391c",
   "metadata": {},
   "source": [
    "## Totally Unexpected Errors?\n",
    "\n",
    "You actually don't even need to know what type of error you might encounter.\n",
    "\n",
    "You can log an error, using the ```logging``` package."
   ]
  },
  {
   "cell_type": "code",
   "execution_count": null,
   "id": "3ab7bf7c",
   "metadata": {},
   "outputs": [],
   "source": [
    "## code try-except variables here\n",
    "rent = 1_000\n",
    "# food = 300\n",
    "# income = 1_500\n",
    "income = \"$1,500\"\n",
    "food = \"300\"\n",
    "\n"
   ]
  },
  {
   "cell_type": "code",
   "execution_count": null,
   "id": "9c547772",
   "metadata": {},
   "outputs": [],
   "source": [
    "## import logging\n"
   ]
  },
  {
   "cell_type": "code",
   "execution_count": null,
   "id": "caf3f2a0",
   "metadata": {},
   "outputs": [],
   "source": [
    "## try with logging\n"
   ]
  },
  {
   "cell_type": "markdown",
   "id": "1bec4754",
   "metadata": {},
   "source": [
    "### 2. Time Delays\n",
    "\n",
    "**Delay timers** are critical when scraping data from websites for several reasons. The **two** most important reasons are:\n",
    "\n",
    "1. Sometimes your scraper clicks on links and must wait for the content to actually populated on the new page. Your script is likely to run faster than a page can load.\n",
    "\n",
    "\n",
    "2. You don't want your scraper to be mistaken for a hostile attack on a server. You have to slow down the scrapes."
   ]
  },
  {
   "cell_type": "code",
   "execution_count": null,
   "id": "e1033784",
   "metadata": {},
   "outputs": [],
   "source": [
    "## run this cell to activate the list\n",
    "URLS = [\n",
    "    'great-unique-data-1.html',\n",
    "    'great-unique-data-2.html',\n",
    "    'great-unique-data-3.html',\n",
    "    'great-unique-data-4.html',\n",
    "    'great-unique-data-5.html',\n",
    "    'great-unique-data-6.html',\n",
    "    'great-unique-data-7.html',\n",
    "    'great-unique-data-8.html',\n",
    "    'great-unique-data-9.html',\n",
    "    'great-unique-data-10.html',\n",
    "    'great-unique-data-11.html',\n",
    "    'great-unique-data-12.html',\n",
    "    'great-unique-data-13.html',\n",
    "    'great-unique-data-14.html',\n",
    "    'great-unique-data-15.html'\n",
    "]"
   ]
  },
  {
   "cell_type": "code",
   "execution_count": null,
   "id": "29619934",
   "metadata": {},
   "outputs": [],
   "source": [
    "## import a package includes a method that's like a stopwatch\n"
   ]
  },
  {
   "cell_type": "code",
   "execution_count": null,
   "id": "635d0479",
   "metadata": {},
   "outputs": [],
   "source": [
    "# time how fast code runs\n"
   ]
  },
  {
   "cell_type": "code",
   "execution_count": null,
   "id": "0a8c0878",
   "metadata": {},
   "outputs": [],
   "source": [
    "# time is required. we will use its sleep function\n"
   ]
  },
  {
   "cell_type": "code",
   "execution_count": null,
   "id": "ce2b5ef8",
   "metadata": {},
   "outputs": [],
   "source": [
    "## snooze for 5 seconds between scrapes\n",
    "\n",
    "\n",
    "    \n",
    "\n",
    "    \n"
   ]
  },
  {
   "cell_type": "markdown",
   "id": "bd540122",
   "metadata": {},
   "source": [
    "### Randomize\n",
    "\n",
    "Software that tracks traffic to a server might grow suspicious about a hit every nth seconds.\n",
    "\n",
    "Let's **randomize** the time between hits by using ```randint``` or ```uniform``` from the ```random``` library.\n",
    "\n",
    "\n",
    "#### What's the difference?\n",
    "\n",
    "**Difference 1**\n",
    "\n",
    "```uniform``` returns a ```float```.\n",
    "\n",
    "```randint``` returns an ```integer```. \n",
    "\n",
    "**Syntax**\n",
    "\n",
    "```uniform(1, 10)```  will return a float between 1 and 10\n",
    "\n",
    "```randint(1, 10)``` will return an integer between 1 and 10\n"
   ]
  },
  {
   "cell_type": "code",
   "execution_count": null,
   "id": "6adbccc5",
   "metadata": {},
   "outputs": [],
   "source": [
    "# import randint necessary library\n"
   ]
  },
  {
   "cell_type": "code",
   "execution_count": null,
   "id": "c06d474a",
   "metadata": {},
   "outputs": [],
   "source": [
    "## test it randint\n"
   ]
  },
  {
   "cell_type": "code",
   "execution_count": null,
   "id": "2bfed7b0",
   "metadata": {},
   "outputs": [],
   "source": [
    "## test it uniform\n"
   ]
  },
  {
   "cell_type": "code",
   "execution_count": null,
   "id": "549949f4",
   "metadata": {},
   "outputs": [],
   "source": [
    "## snooze for a random number of seconds between 5 and 12 seconds between scrapes\n",
    "\n"
   ]
  },
  {
   "cell_type": "markdown",
   "id": "50e0c002",
   "metadata": {},
   "source": [
    "### ```range()``` and ```for loop```\n",
    "\n",
    "```range()``` is a built-in function that generates a sequence of numbers.\n",
    "\n",
    "It takes 2 import parameters:\n",
    "\n",
    "```range(start_number, end_number)```"
   ]
  },
  {
   "cell_type": "code",
   "execution_count": null,
   "id": "f38de0bf",
   "metadata": {},
   "outputs": [],
   "source": [
    "## can't just call range()\n"
   ]
  },
  {
   "cell_type": "markdown",
   "id": "36d10f92",
   "metadata": {},
   "source": [
    "### range() must be paired with ```for loops```"
   ]
  },
  {
   "cell_type": "code",
   "execution_count": null,
   "id": "959fda11",
   "metadata": {},
   "outputs": [],
   "source": [
    "## range 1-10 and print out each generated number\n"
   ]
  },
  {
   "cell_type": "code",
   "execution_count": null,
   "id": "a499318b",
   "metadata": {},
   "outputs": [],
   "source": [
    "# import libraries\n",
    "import pandas as pd\n",
    "# import randint necessary library\n",
    "from random import randint, uniform\n",
    "## import logging\n",
    "import logging\n",
    "# time is required. we will use its sleep function\n",
    "import time\n"
   ]
  },
  {
   "cell_type": "code",
   "execution_count": null,
   "id": "9b080019",
   "metadata": {},
   "outputs": [],
   "source": [
    "## headers\n",
    "headers = {\"User-Agent\": \"Mozilla/5.0 (Windows NT 10.0; Win64; x64) \"           \n",
    "                         \"AppleWebKit/537.36 (KHTML, like Gecko) \"\n",
    "                         \"Chrome/124.0.0.0 Safari/537.36\"}"
   ]
  },
  {
   "cell_type": "code",
   "execution_count": null,
   "id": "5e6860ce",
   "metadata": {},
   "outputs": [],
   "source": [
    "# simple scrape example of single page\n"
   ]
  },
  {
   "cell_type": "code",
   "execution_count": null,
   "id": "c577c65f",
   "metadata": {},
   "outputs": [],
   "source": [
    "## full scrape example of multiple pages with error handling and snoozing\n"
   ]
  },
  {
   "cell_type": "code",
   "execution_count": null,
   "id": "1894dbc8",
   "metadata": {},
   "outputs": [],
   "source": [
    "# call the list\n"
   ]
  },
  {
   "cell_type": "code",
   "execution_count": null,
   "id": "0e7e0e85",
   "metadata": {},
   "outputs": [],
   "source": [
    "# concat the list into a single dataframe\n"
   ]
  },
  {
   "cell_type": "markdown",
   "id": "9a1f127c",
   "metadata": {},
   "source": [
    "## To recap\n",
    "\n",
    "When we scrape, analyze data or documents, we need to control the flow of our code.\n",
    "\n",
    "- ```error handling``` will allos you to write script that doesn't break down when it encounters its first blip, and will even let you collect info on what exactly went wrong.\n",
    "- ```timers``` help so down your code so you are not flagged as a hacker!\n",
    "- ```headers``` so the site thinks you are a humand, and not ```code```.\n",
    "- ```random``` to generate random numbers.\n"
   ]
  },
  {
   "cell_type": "code",
   "execution_count": null,
   "id": "e8d92ba7",
   "metadata": {},
   "outputs": [],
   "source": []
  },
  {
   "cell_type": "code",
   "execution_count": null,
   "id": "a4abe463",
   "metadata": {},
   "outputs": [],
   "source": []
  }
 ],
 "metadata": {
  "kernelspec": {
   "display_name": "Python [conda env:base] *",
   "language": "python",
   "name": "conda-base-py"
  },
  "language_info": {
   "codemirror_mode": {
    "name": "ipython",
    "version": 3
   },
   "file_extension": ".py",
   "mimetype": "text/x-python",
   "name": "python",
   "nbconvert_exporter": "python",
   "pygments_lexer": "ipython3",
   "version": "3.12.7"
  }
 },
 "nbformat": 4,
 "nbformat_minor": 5
}
