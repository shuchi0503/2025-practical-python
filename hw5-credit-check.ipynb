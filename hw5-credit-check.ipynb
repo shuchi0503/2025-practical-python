{
 "cells": [
  {
   "cell_type": "markdown",
   "id": "5045af04-dacd-4889-a91b-071295a5db7f",
   "metadata": {},
   "source": [
    "### Build a credit check function\n",
    "\n",
    "Recall that we built a conditional expression to evaluate credit rating based on these values:\n",
    "\n",
    "- 300-579: Poor\n",
    "- 580-669: Fair\n",
    "- 670-739: Good\n",
    "- 740-799: Very good\n",
    "- 800-850: Excellent\n",
    "\n",
    "Now build a function that evaluates a score to return a rating, but also prints \"Your credit rating is **whatever**!\""
   ]
  },
  {
   "cell_type": "markdown",
   "id": "0b062887-6359-48d7-92c8-e22ae05e921d",
   "metadata": {},
   "source": [
    "## here is the expression we previously built:\n",
    "\n",
    "```python\n",
    "if credit <= 579:\n",
    "  print(f\"Your credit of {credit} is poor\")\n",
    "elif 579 < credit <= 669:\n",
    "  print(f\"Your credit of {credit} is fair\")\n",
    "elif 670 < credit <= 739:\n",
    "  print(f\"Your credit of {credit} is good\")\n",
    "elif 740 <= credit <= 799:\n",
    "  print(f\"Your credit of {credit} is very good\")\n",
    "else:\n",
    "  print(f\"Your credit of {credit} is excellent\")\n",
    "\n",
    "```\n",
    "\n",
    "Can you think of a way to make it more efficient and DRY.\n"
   ]
  },
  {
   "cell_type": "code",
   "execution_count": 48,
   "id": "e80e4af8-a7c9-4679-b89b-4c9386e5e619",
   "metadata": {},
   "outputs": [],
   "source": [
    "def checkCreditScore(credit):\n",
    "\n",
    "    \"\"\"\n",
    "    Checks credit score and returns if rating is good, fair, poor etc.\n",
    "    \"\"\"\n",
    "\n",
    "    if credit <= 579:\n",
    "        rating = \"poor\"\n",
    "        \n",
    "    elif 579 < credit <= 669: \n",
    "        rating = \"fair\"\n",
    "\n",
    "    elif 670 < credit <= 739:\n",
    "        rating = \"good\"\n",
    "\n",
    "    elif 740 <= credit <= 799:\n",
    "        rating = \"very good\"\n",
    "\n",
    "    else:\n",
    "        rating = \"excellent\"\n",
    "\n",
    "    print (f\"Your credit rating is {rating}!\")\n",
    "    return rating "
   ]
  },
  {
   "cell_type": "code",
   "execution_count": 50,
   "id": "4bf8bc6c-4078-4bdf-82c7-21b88d0665b1",
   "metadata": {},
   "outputs": [
    {
     "name": "stdout",
     "output_type": "stream",
     "text": [
      "Your credit rating is very good!\n"
     ]
    },
    {
     "data": {
      "text/plain": [
       "'very good'"
      ]
     },
     "execution_count": 50,
     "metadata": {},
     "output_type": "execute_result"
    }
   ],
   "source": [
    "## does the function work?\n",
    "checkCreditScore(750)"
   ]
  },
  {
   "cell_type": "code",
   "execution_count": 52,
   "id": "f714f61c-4784-451a-bff5-3b227a6b9324",
   "metadata": {},
   "outputs": [],
   "source": [
    "## First function worked, but used AI to see if there is a way to do it without so many elif statements. \n",
    "## This is function is from what AI suggested. I understand it (and adding here for ref) but the first one feels more straightforward. \n",
    "\n",
    "\n",
    "def checkCreditScore(credit):\n",
    "    \"\"\"\n",
    "    Evaluates a credit score and returns the rating category.\n",
    "    Also prints a message with the rating.\n",
    "    \n",
    "    Args:\n",
    "        score: An integer credit score between 300 and 850\n",
    "        \n",
    "    Returns:\n",
    "        str: The credit rating category\n",
    "    \"\"\"\n",
    "    ranges = [\n",
    "        (579, \"Poor\"),\n",
    "        (669, \"Fair\"),\n",
    "        (739, \"Good\"),\n",
    "        (799, \"Very good\"),\n",
    "        (850, \"Excellent\")\n",
    "    ]\n",
    "    \n",
    "    if credit < 300 or credit > 850:\n",
    "        rating = \"Invalid\"\n",
    "    else:\n",
    "        for max_credit, category in ranges:\n",
    "            if credit <= max_credit:\n",
    "                rating = category\n",
    "                break\n",
    "    \n",
    "    print(f\"Your credit rating is {rating}!\")\n",
    "    return rating\n"
   ]
  },
  {
   "cell_type": "code",
   "execution_count": 54,
   "id": "7395d5ea-a8d2-4b5b-b870-ae1dab468421",
   "metadata": {},
   "outputs": [
    {
     "name": "stdout",
     "output_type": "stream",
     "text": [
      "Your credit rating is Good!\n"
     ]
    },
    {
     "data": {
      "text/plain": [
       "'Good'"
      ]
     },
     "execution_count": 54,
     "metadata": {},
     "output_type": "execute_result"
    }
   ],
   "source": [
    "checkCreditScore(720)"
   ]
  }
 ],
 "metadata": {
  "kernelspec": {
   "display_name": "Python [conda env:base] *",
   "language": "python",
   "name": "conda-base-py"
  },
  "language_info": {
   "codemirror_mode": {
    "name": "ipython",
    "version": 3
   },
   "file_extension": ".py",
   "mimetype": "text/x-python",
   "name": "python",
   "nbconvert_exporter": "python",
   "pygments_lexer": "ipython3",
   "version": "3.12.7"
  }
 },
 "nbformat": 4,
 "nbformat_minor": 5
}
