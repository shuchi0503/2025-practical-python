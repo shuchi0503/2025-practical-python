{
 "cells": [
  {
   "cell_type": "markdown",
   "metadata": {},
   "source": [
    "# Functions & Downloads\n",
    "\n",
    "Today we'll learn how to write more efficient code using ```functions``` and then apply them toward scraping/downloading documents from the Web."
   ]
  },
  {
   "cell_type": "markdown",
   "metadata": {
    "id": "LqFjblutisVw"
   },
   "source": [
    "## Functions: Making Your Code Work Smarter\n",
    "\n",
    "A **function** is a reusable block of code that performs a specific task. Instead of writing the same code over and over, you write it once in a function and call it whenever you need it.\n",
    "\n",
    "Functions help you:\n",
    "* **Stay DRY** (Don't Repeat Yourself) – write code once, use it many times\n",
    "* **Organize your code** – break complex problems into smaller, manageable pieces\n",
    "* **Make debugging easier** – fix issues in one place instead of hunting through repeated code\n",
    "* **Build modular programs** – combine simple functions to accomplish complex tasks\n",
    "\n",
    "A function runs only when something \"invokes\" or \"calls\" it, giving you control over when and how your code executes.\n"
   ]
  },
  {
   "cell_type": "code",
   "execution_count": 3,
   "metadata": {},
   "outputs": [],
   "source": [
    "# you've been using functions like print\n"
   ]
  },
  {
   "cell_type": "code",
   "execution_count": 4,
   "metadata": {},
   "outputs": [],
   "source": [
    "# define a function that says hello world \n",
    "def sayHello():\n",
    "    print(\"Hello World\")"
   ]
  },
  {
   "cell_type": "code",
   "execution_count": 5,
   "metadata": {},
   "outputs": [
    {
     "name": "stdout",
     "output_type": "stream",
     "text": [
      "Hello World\n"
     ]
    }
   ],
   "source": [
    "# invoke or call this function\n",
    "sayHello()"
   ]
  },
  {
   "cell_type": "code",
   "execution_count": 6,
   "metadata": {},
   "outputs": [],
   "source": [
    "# let's create a function that says hello to someone \n",
    "def sayHello():\n",
    "    print(\"Hello Shuchi, hope you're having a good day!\")"
   ]
  },
  {
   "cell_type": "code",
   "execution_count": 7,
   "metadata": {},
   "outputs": [
    {
     "name": "stdout",
     "output_type": "stream",
     "text": [
      "Hello Shuchi, hope you're having a good day!\n"
     ]
    }
   ],
   "source": [
    "# call it\n",
    "sayHello()"
   ]
  },
  {
   "cell_type": "code",
   "execution_count": 8,
   "metadata": {},
   "outputs": [],
   "source": [
    "# what if we want a different name?\n",
    "def sayHello2():\n",
    "    print(\"Hello Frank, hope you're having a good day!\")"
   ]
  },
  {
   "cell_type": "code",
   "execution_count": 9,
   "metadata": {},
   "outputs": [],
   "source": [
    "# instead of writing a different function for differen people, we add a parameter.\n",
    "\n",
    "def sayHello(name):\n",
    "    print(f\"Hello {name}, hope you're having a good day!\")"
   ]
  },
  {
   "cell_type": "code",
   "execution_count": 10,
   "metadata": {},
   "outputs": [
    {
     "name": "stdout",
     "output_type": "stream",
     "text": [
      "Hello Sami, hope you're having a good day!\n"
     ]
    }
   ],
   "source": [
    "# call updated function\n",
    "sayHello(\"Sami\")"
   ]
  },
  {
   "cell_type": "code",
   "execution_count": 11,
   "metadata": {},
   "outputs": [],
   "source": [
    "# build a function called addFunction\n",
    "\n",
    "def addNumbers(number1, number2):\n",
    "    total = number1 + number2\n",
    "    print(f\"The sum of {number1} and {number2} is {total}\")\n",
    "    "
   ]
  },
  {
   "cell_type": "code",
   "execution_count": 12,
   "metadata": {},
   "outputs": [
    {
     "name": "stdout",
     "output_type": "stream",
     "text": [
      "The sum of 3 and 4 is 7\n"
     ]
    }
   ],
   "source": [
    "#call \n",
    "addNumbers(3,4)"
   ]
  },
  {
   "cell_type": "code",
   "execution_count": 13,
   "metadata": {},
   "outputs": [
    {
     "name": "stdout",
     "output_type": "stream",
     "text": [
      "Sandeep is 59 years old\n"
     ]
    }
   ],
   "source": [
    "# create a function that \n",
    "\n",
    "def aging (name, age):\n",
    "    print(f\"{name} is {age} years old\")\n",
    "\n",
    "aging(\"Sandeep\", 59)"
   ]
  },
  {
   "cell_type": "code",
   "execution_count": 14,
   "metadata": {},
   "outputs": [
    {
     "name": "stdout",
     "output_type": "stream",
     "text": [
      "59 is Sandeep years old\n"
     ]
    }
   ],
   "source": [
    "# note that the order of the parameters matter because they are getting mapped to the different parts of the function.\n",
    "\n",
    "aging(59, \"Sandeep\")"
   ]
  },
  {
   "cell_type": "code",
   "execution_count": 15,
   "metadata": {},
   "outputs": [
    {
     "name": "stdout",
     "output_type": "stream",
     "text": [
      "The sum of 10 and 20 is 30\n"
     ]
    }
   ],
   "source": [
    "# going back to the addNumber func\n",
    "addNumbers(10,20)"
   ]
  },
  {
   "cell_type": "code",
   "execution_count": 16,
   "metadata": {},
   "outputs": [
    {
     "name": "stdout",
     "output_type": "stream",
     "text": [
      "The sum of 10 and 30 is 40\n"
     ]
    }
   ],
   "source": [
    "# lets try to save it as a variable\n",
    "my_result = addNumbers(10,30)"
   ]
  },
  {
   "cell_type": "code",
   "execution_count": 17,
   "metadata": {},
   "outputs": [
    {
     "name": "stdout",
     "output_type": "stream",
     "text": [
      "None\n"
     ]
    }
   ],
   "source": [
    "# print or call this variable. What does it hold?\n",
    "print(my_result)"
   ]
  },
  {
   "cell_type": "code",
   "execution_count": 18,
   "metadata": {},
   "outputs": [
    {
     "data": {
      "text/plain": [
       "NoneType"
      ]
     },
     "execution_count": 18,
     "metadata": {},
     "output_type": "execute_result"
    }
   ],
   "source": [
    "type(my_result)"
   ]
  },
  {
   "cell_type": "code",
   "execution_count": 19,
   "metadata": {},
   "outputs": [],
   "source": [
    "# tweak function by adding a return statement \n",
    "\n",
    "def addNumbers(number1, number2):\n",
    "    # total = number1 + number2\n",
    "    # print(f\"The sum of {number1} and {number2} is {total}\")\n",
    "    return number1 + number2"
   ]
  },
  {
   "cell_type": "code",
   "execution_count": 20,
   "metadata": {},
   "outputs": [
    {
     "data": {
      "text/plain": [
       "40"
      ]
     },
     "execution_count": 20,
     "metadata": {},
     "output_type": "execute_result"
    }
   ],
   "source": [
    "my_result = addNumbers (10,30)\n",
    "my_result"
   ]
  },
  {
   "cell_type": "code",
   "execution_count": 21,
   "metadata": {},
   "outputs": [],
   "source": [
    "### Docstrings \n",
    "def pctChg(old_value, new_value):\n",
    "    '''\n",
    "    This function takes two numbers and returns the percent change\n",
    "    parameter1 = old number\n",
    "    parameter2 = newer number\n",
    "    '''\n",
    "    return(new_value - old_value)/ old_value * 100\n"
   ]
  },
  {
   "cell_type": "code",
   "execution_count": 22,
   "metadata": {},
   "outputs": [
    {
     "data": {
      "text/plain": [
       "100.0"
      ]
     },
     "execution_count": 22,
     "metadata": {},
     "output_type": "execute_result"
    }
   ],
   "source": [
    "# run function -- click shift tab to get popup\n",
    "pctChg(50, 100)"
   ]
  },
  {
   "cell_type": "code",
   "execution_count": 23,
   "metadata": {},
   "outputs": [
    {
     "data": {
      "text/plain": [
       "function"
      ]
     },
     "execution_count": 23,
     "metadata": {},
     "output_type": "execute_result"
    }
   ],
   "source": [
    "type(pctChg)"
   ]
  },
  {
   "cell_type": "markdown",
   "metadata": {},
   "source": [
    "### Build a credit check function\n",
    "\n",
    "Recall that we built a conditional expression to evaluate credit rating based on these values:\n",
    "\n",
    "- 300-579: Poor\n",
    "- 580-669: Fair\n",
    "- 670-739: Good\n",
    "- 740-799: Very good\n",
    "- 800-850: Excellent\n",
    "\n",
    "Now build a function that evaluates a score to return a rating, but also prints \"Your credit rating is **whatever**!\""
   ]
  },
  {
   "cell_type": "markdown",
   "metadata": {},
   "source": [
    "## here is the expression we previously built:\n",
    "\n",
    "```python\n",
    "if credit <= 579:\n",
    "  print(f\"Your credit of {credit} is poor\")\n",
    "elif 579 < credit <= 669:\n",
    "  print(f\"Your credit of {credit} is fair\")\n",
    "elif 670 < credit <= 739:\n",
    "  print(f\"Your credit of {credit} is good\")\n",
    "elif 740 <= credit <= 799:\n",
    "  print(f\"Your credit of {credit} is very good\")\n",
    "else:\n",
    "  print(f\"Your credit of {credit} is excellent\")\n",
    "\n",
    "```\n",
    "\n",
    "Can you think of a way to make it more efficient and DRY."
   ]
  },
  {
   "cell_type": "code",
   "execution_count": 26,
   "metadata": {},
   "outputs": [],
   "source": [
    "## Code your function here"
   ]
  },
  {
   "cell_type": "markdown",
   "metadata": {},
   "source": [
    "## Why functions are awesome\n",
    "\n",
    "For functions I use regularly, I can simply import them and reduce time spent copy-n-pasting, or rewriting same functions.\n",
    "\n",
    "#### (The next few steps are demo only)"
   ]
  },
  {
   "cell_type": "code",
   "execution_count": 30,
   "metadata": {},
   "outputs": [
    {
     "name": "stdout",
     "output_type": "stream",
     "text": [
      "Collecting git+https://github.com/sandeepmj/my_functions.git\n",
      "  Cloning https://github.com/sandeepmj/my_functions.git to /private/var/folders/7k/dkrw1dkn70xb44njcjrldx2w0000gn/T/pip-req-build-1mmnrlov\n",
      "  \u001b[1;31merror\u001b[0m: \u001b[1msubprocess-exited-with-error\u001b[0m\n",
      "  \n",
      "  \u001b[31m×\u001b[0m \u001b[32mgit version\u001b[0m did not run successfully.\n",
      "  \u001b[31m│\u001b[0m exit code: \u001b[1;36m1\u001b[0m\n",
      "  \u001b[31m╰─>\u001b[0m \u001b[31m[2 lines of output]\u001b[0m\n",
      "  \u001b[31m   \u001b[0m xcode-select: note: no developer tools were found at '/Applications/Xcode.app', requesting install. Choose an option in the dialog to download the command line developer tools.\n",
      "  \u001b[31m   \u001b[0m \u001b[31m[end of output]\u001b[0m\n",
      "  \n",
      "  \u001b[1;35mnote\u001b[0m: This error originates from a subprocess, and is likely not a problem with pip.\n",
      "\u001b[1;31merror\u001b[0m: \u001b[1msubprocess-exited-with-error\u001b[0m\n",
      "\n",
      "\u001b[31m×\u001b[0m \u001b[32mgit version\u001b[0m did not run successfully.\n",
      "\u001b[31m│\u001b[0m exit code: \u001b[1;36m1\u001b[0m\n",
      "\u001b[31m╰─>\u001b[0m See above for output.\n",
      "\n",
      "\u001b[1;35mnote\u001b[0m: This error originates from a subprocess, and is likely not a problem with pip.\n",
      "Note: you may need to restart the kernel to use updated packages.\n"
     ]
    }
   ],
   "source": [
    "pip install git+https://github.com/sandeepmj/my_functions.git"
   ]
  },
  {
   "cell_type": "code",
   "execution_count": 32,
   "metadata": {},
   "outputs": [
    {
     "ename": "ModuleNotFoundError",
     "evalue": "No module named 'my_functions'",
     "output_type": "error",
     "traceback": [
      "\u001b[0;31m---------------------------------------------------------------------------\u001b[0m",
      "\u001b[0;31mModuleNotFoundError\u001b[0m                       Traceback (most recent call last)",
      "Cell \u001b[0;32mIn[32], line 2\u001b[0m\n\u001b[1;32m      1\u001b[0m \u001b[38;5;66;03m## import my_fuctions\u001b[39;00m\n\u001b[0;32m----> 2\u001b[0m \u001b[38;5;28;01mfrom\u001b[39;00m \u001b[38;5;21;01mmy_functions\u001b[39;00m \u001b[38;5;28;01mimport\u001b[39;00m timer\n",
      "\u001b[0;31mModuleNotFoundError\u001b[0m: No module named 'my_functions'"
     ]
    }
   ],
   "source": [
    "## import my_fuctions\n",
    "from my_functions import timer"
   ]
  },
  {
   "cell_type": "code",
   "execution_count": 34,
   "metadata": {
    "scrolled": true
   },
   "outputs": [
    {
     "ename": "NameError",
     "evalue": "name 'timer' is not defined",
     "output_type": "error",
     "traceback": [
      "\u001b[0;31m---------------------------------------------------------------------------\u001b[0m",
      "\u001b[0;31mNameError\u001b[0m                                 Traceback (most recent call last)",
      "Cell \u001b[0;32mIn[34], line 3\u001b[0m\n\u001b[1;32m      1\u001b[0m \u001b[38;5;66;03m# write a loop that counts to 5 and prints the number\u001b[39;00m\n\u001b[1;32m      2\u001b[0m \u001b[38;5;66;03m# add a timer \u001b[39;00m\n\u001b[0;32m----> 3\u001b[0m timer(\u001b[38;5;241m10\u001b[39m,\u001b[38;5;241m20\u001b[39m)\n",
      "\u001b[0;31mNameError\u001b[0m: name 'timer' is not defined"
     ]
    }
   ],
   "source": [
    "# write a loop that counts to 5 and prints the number\n",
    "# add a timer \n",
    "timer(10,20)"
   ]
  },
  {
   "cell_type": "markdown",
   "metadata": {},
   "source": [
    "### Your Challenge\n",
    "\n",
    "Write a function that makes a request to a website and returns the content as soup."
   ]
  },
  {
   "cell_type": "code",
   "execution_count": 40,
   "metadata": {},
   "outputs": [],
   "source": [
    "## dependencies\n",
    "import requests\n",
    "from bs4 import BeautifulSoup\n",
    "\n",
    "## function\n",
    "def makeSoup(url):\n",
    "\n",
    "    '''\n",
    "    Makes soup of any html site\n",
    "    para1 = url of site to be scraped\n",
    "    Returns soup\n",
    "    '''\n",
    "    \n",
    "    headers = {\n",
    "    'User-Agent': 'Mozilla/5.0 (Macintosh; Intel Mac OS X 10_15_7) AppleWebKit/537.36 (KHTML, like Gecko) Chrome/120.0.0.0 Safari/537.36'}\n",
    "    response = requests.get(url, headers = headers)\n",
    "    if response.status_code == 200:\n",
    "        return BeautifulSoup(response.text, \"html.parser\")\n",
    "\n",
    "    else:\n",
    "        print(f\"Your request returned {response.status_code}\")\n",
    "    "
   ]
  },
  {
   "cell_type": "code",
   "execution_count": 46,
   "metadata": {
    "collapsed": true,
    "jupyter": {
     "outputs_hidden": true
    }
   },
   "outputs": [
    {
     "data": {
      "text/plain": [
       "\n",
       "<!DOCTYPE html>\n",
       "\n",
       "<html class=\"no-js\" lang=\"en-US\">\n",
       "<head>\n",
       "<meta charset=\"utf-8\"/>\n",
       "<meta content=\"width=device-width\" name=\"viewport\"/>\n",
       "<link href=\"https://gmpg.org/xfn/11\" rel=\"profile\"/>\n",
       "<link href=\"https://bestsellingalbums.org/xmlrpc.php\" rel=\"pingback\"/>\n",
       "<!--[if lt IE 9]>\n",
       "    <script src=\"https://bestsellingalbums.org/wp-content/themes/twentyfifteen/js/html5.js?ver=3.7.0\"></script>\n",
       "    <![endif]-->\n",
       "<script>(function(html){html.className = html.className.replace(/\\bno-js\\b/,'js')})(document.documentElement);</script>\n",
       "<!-- This site is optimized with the Yoast SEO plugin v14.5 - https://yoast.com/wordpress/plugins/seo/ -->\n",
       "<title>Best-selling albums of 2010's</title>\n",
       "<meta content=\"Best-selling albums of 2010's\" name=\"description\">\n",
       "<meta content=\"index, follow\" name=\"robots\">\n",
       "<meta content=\"index, follow, max-snippet:-1, max-image-preview:large, max-video-preview:-1\" name=\"googlebot\"/>\n",
       "<meta content=\"index, follow, max-snippet:-1, max-image-preview:large, max-video-preview:-1\" name=\"bingbot\"/>\n",
       "<link href=\"https://bestsellingalbums.org/decade/2010\" rel=\"canonical\">\n",
       "<meta content=\"en_US\" property=\"og:locale\"/>\n",
       "<meta content=\"website\" property=\"og:type\"/>\n",
       "<meta content=\"Best-selling albums of 2010's\" property=\"og:title\"/>\n",
       "<meta content=\"\" property=\"og:description\"/>\n",
       "<meta content=\"BestSellingAlbums.org\" property=\"og:site_name\"/>\n",
       "<meta content=\"2021-10-16T18:31:34+00:00\" property=\"article:modified_time\"/>\n",
       "<meta content=\"summary_large_image\" name=\"twitter:card\"/>\n",
       "<meta content=\"summary_large_image\" name=\"twitter:card\"/>\n",
       "<!-- / Yoast SEO plugin. -->\n",
       "<link href=\"//www.googletagmanager.com\" rel=\"dns-prefetch\">\n",
       "<link href=\"//fonts.googleapis.com\" rel=\"dns-prefetch\"/>\n",
       "<link href=\"//s.w.org\" rel=\"dns-prefetch\"/>\n",
       "<link crossorigin=\"\" href=\"https://fonts.gstatic.com\" rel=\"preconnect\"/>\n",
       "<link href=\"https://bestsellingalbums.org/feed/\" rel=\"alternate\" title=\"BestSellingAlbums.org » Feed\" type=\"application/rss+xml\"/>\n",
       "<link href=\"https://bestsellingalbums.org/comments/feed/\" rel=\"alternate\" title=\"BestSellingAlbums.org » Comments Feed\" type=\"application/rss+xml\"/>\n",
       "<!-- This site uses the Google Analytics by MonsterInsights plugin v7.11.0 - Using Analytics tracking - https://www.monsterinsights.com/ -->\n",
       "<script data-cfasync=\"false\" type=\"text/javascript\">\n",
       "        var mi_version         = '7.11.0';\n",
       "        var mi_track_user      = true;\n",
       "        var mi_no_track_reason = '';\n",
       "\n",
       "        var disableStr = 'ga-disable-UA-172469367-1';\n",
       "\n",
       "        /* Function to detect opted out users */\n",
       "        function __gaTrackerIsOptedOut() {\n",
       "            return document.cookie.indexOf(disableStr + '=true') > -1;\n",
       "        }\n",
       "\n",
       "        /* Disable tracking if the opt-out cookie exists. */\n",
       "        if ( __gaTrackerIsOptedOut() ) {\n",
       "            window[disableStr] = true;\n",
       "        }\n",
       "\n",
       "        /* Opt-out function */\n",
       "        function __gaTrackerOptout() {\n",
       "            document.cookie = disableStr + '=true; expires=Thu, 31 Dec 2099 23:59:59 UTC; path=/';\n",
       "            window[disableStr] = true;\n",
       "        }\n",
       "\n",
       "        if ( 'undefined' === typeof gaOptout ) {\n",
       "            function gaOptout() {\n",
       "                __gaTrackerOptout();\n",
       "            }\n",
       "        }\n",
       "\n",
       "        if ( mi_track_user ) {\n",
       "            (function(i,s,o,g,r,a,m){i['GoogleAnalyticsObject']=r;i[r]=i[r]||function(){\n",
       "                (i[r].q=i[r].q||[]).push(arguments)},i[r].l=1*new Date();a=s.createElement(o),\n",
       "                m=s.getElementsByTagName(o)[0];a.async=1;a.src=g;m.parentNode.insertBefore(a,m)\n",
       "            })(window,document,'script','//www.google-analytics.com/analytics.js','__gaTracker');\n",
       "\n",
       "            __gaTracker('create', 'UA-172469367-1', 'auto');\n",
       "            __gaTracker('set', 'forceSSL', true);\n",
       "            __gaTracker('require', 'displayfeatures');\n",
       "            __gaTracker('require', 'linkid', 'linkid.js');\n",
       "            __gaTracker('send','pageview');\n",
       "        } else {\n",
       "            console.log( \"\" );\n",
       "            (function() {\n",
       "                /* https://developers.google.com/analytics/devguides/collection/analyticsjs/ */\n",
       "                var noopfn = function() {\n",
       "                    return null;\n",
       "                };\n",
       "                var noopnullfn = function() {\n",
       "                    return null;\n",
       "                };\n",
       "                var Tracker = function() {\n",
       "                    return null;\n",
       "                };\n",
       "                var p = Tracker.prototype;\n",
       "                p.get = noopfn;\n",
       "                p.set = noopfn;\n",
       "                p.send = noopfn;\n",
       "                var __gaTracker = function() {\n",
       "                    var len = arguments.length;\n",
       "                    if ( len === 0 ) {\n",
       "                        return;\n",
       "                    }\n",
       "                    var f = arguments[len-1];\n",
       "                    if ( typeof f !== 'object' || f === null || typeof f.hitCallback !== 'function' ) {\n",
       "                        console.log( 'Not running function __gaTracker(' + arguments[0] + \" ....) because you are not being tracked. \" + mi_no_track_reason );\n",
       "                        return;\n",
       "                    }\n",
       "                    try {\n",
       "                        f.hitCallback();\n",
       "                    } catch (ex) {\n",
       "\n",
       "                    }\n",
       "                };\n",
       "                __gaTracker.create = function() {\n",
       "                    return new Tracker();\n",
       "                };\n",
       "                __gaTracker.getByName = noopnullfn;\n",
       "                __gaTracker.getAll = function() {\n",
       "                    return [];\n",
       "                };\n",
       "                __gaTracker.remove = noopfn;\n",
       "                window['__gaTracker'] = __gaTracker;\n",
       "            })();\n",
       "        }\n",
       "    </script>\n",
       "<!-- / Google Analytics by MonsterInsights -->\n",
       "<script>\n",
       "        window._wpemojiSettings = {\"baseUrl\":\"https:\\/\\/s.w.org\\/images\\/core\\/emoji\\/12.0.0-1\\/72x72\\/\",\"ext\":\".png\",\"svgUrl\":\"https:\\/\\/s.w.org\\/images\\/core\\/emoji\\/12.0.0-1\\/svg\\/\",\"svgExt\":\".svg\",\"source\":{\"concatemoji\":\"https:\\/\\/bestsellingalbums.org\\/wp-includes\\/js\\/wp-emoji-release.min.js?ver=5.4.7\"}};\n",
       "        /*! This file is auto-generated */\n",
       "        !function(e,a,t){var n,r,o,i=a.createElement(\"canvas\"),p=i.getContext&&i.getContext(\"2d\");function s(e,t){var a=String.fromCharCode;p.clearRect(0,0,i.width,i.height),p.fillText(a.apply(this,e),0,0);e=i.toDataURL();return p.clearRect(0,0,i.width,i.height),p.fillText(a.apply(this,t),0,0),e===i.toDataURL()}function c(e){var t=a.createElement(\"script\");t.src=e,t.defer=t.type=\"text/javascript\",a.getElementsByTagName(\"head\")[0].appendChild(t)}for(o=Array(\"flag\",\"emoji\"),t.supports={everything:!0,everythingExceptFlag:!0},r=0;r<o.length;r++)t.supports[o[r]]=function(e){if(!p||!p.fillText)return!1;switch(p.textBaseline=\"top\",p.font=\"600 32px Arial\",e){case\"flag\":return s([127987,65039,8205,9895,65039],[127987,65039,8203,9895,65039])?!1:!s([55356,56826,55356,56819],[55356,56826,8203,55356,56819])&&!s([55356,57332,56128,56423,56128,56418,56128,56421,56128,56430,56128,56423,56128,56447],[55356,57332,8203,56128,56423,8203,56128,56418,8203,56128,56421,8203,56128,56430,8203,56128,56423,8203,56128,56447]);case\"emoji\":return!s([55357,56424,55356,57342,8205,55358,56605,8205,55357,56424,55356,57340],[55357,56424,55356,57342,8203,55358,56605,8203,55357,56424,55356,57340])}return!1}(o[r]),t.supports.everything=t.supports.everything&&t.supports[o[r]],\"flag\"!==o[r]&&(t.supports.everythingExceptFlag=t.supports.everythingExceptFlag&&t.supports[o[r]]);t.supports.everythingExceptFlag=t.supports.everythingExceptFlag&&!t.supports.flag,t.DOMReady=!1,t.readyCallback=function(){t.DOMReady=!0},t.supports.everything||(n=function(){t.readyCallback()},a.addEventListener?(a.addEventListener(\"DOMContentLoaded\",n,!1),e.addEventListener(\"load\",n,!1)):(e.attachEvent(\"onload\",n),a.attachEvent(\"onreadystatechange\",function(){\"complete\"===a.readyState&&t.readyCallback()})),(n=t.source||{}).concatemoji?c(n.concatemoji):n.wpemoji&&n.twemoji&&(c(n.twemoji),c(n.wpemoji)))}(window,document,window._wpemojiSettings);\n",
       "    </script>\n",
       "<style>\n",
       "        img.wp-smiley,\n",
       "        img.emoji {\n",
       "            display: inline !important;\n",
       "            border: none !important;\n",
       "            box-shadow: none !important;\n",
       "            height: 1em !important;\n",
       "            width: 1em !important;\n",
       "            margin: 0 .07em !important;\n",
       "            vertical-align: -0.1em !important;\n",
       "            background: none !important;\n",
       "            padding: 0 !important;\n",
       "        }\n",
       "    </style>\n",
       "<link href=\"https://bestsellingalbums.org/wp-includes/css/dist/block-library/style.min.css?ver=5.4.7\" id=\"wp-block-library-css\" media=\"all\" rel=\"stylesheet\"/>\n",
       "<link href=\"https://bestsellingalbums.org/wp-includes/css/dist/block-library/theme.min.css?ver=5.4.7\" id=\"wp-block-library-theme-css\" media=\"all\" rel=\"stylesheet\"/>\n",
       "<link href=\"https://fonts.googleapis.com/css?family=Noto+Sans%3A400italic%2C700italic%2C400%2C700%7CNoto+Serif%3A400italic%2C700italic%2C400%2C700%7CInconsolata%3A400%2C700&amp;subset=latin%2Clatin-ext&amp;display=fallback\" id=\"twentyfifteen-fonts-css\" media=\"all\" rel=\"stylesheet\"/>\n",
       "<link href=\"https://bestsellingalbums.org/wp-content/themes/twentyfifteen/genericons/genericons.css?ver=3.2\" id=\"genericons-css\" media=\"all\" rel=\"stylesheet\"/>\n",
       "<link href=\"https://bestsellingalbums.org/wp-content/themes/twentyfifteen/style.css?ver=20230704\" id=\"twentyfifteen-style-css\" media=\"all\" rel=\"stylesheet\"/>\n",
       "<link href=\"https://bestsellingalbums.org/wp-content/themes/twentyfifteen/css/blocks.css?ver=20190102\" id=\"twentyfifteen-block-style-css\" media=\"all\" rel=\"stylesheet\"/>\n",
       "<!--[if lt IE 9]>\n",
       "    <link rel='stylesheet' id='twentyfifteen-ie-css'  href='https://bestsellingalbums.org/wp-content/themes/twentyfifteen/css/ie.css?ver=20170916' media='all' />\n",
       "    <![endif]-->\n",
       "<!--[if lt IE 8]>\n",
       "    <link rel='stylesheet' id='twentyfifteen-ie7-css'  href='https://bestsellingalbums.org/wp-content/themes/twentyfifteen/css/ie7.css?ver=20141210' media='all' />\n",
       "    <![endif]-->\n",
       "<script>\n",
       "        var monsterinsights_frontend = {\"js_events_tracking\":\"true\",\"download_extensions\":\"doc,pdf,ppt,zip,xls,docx,pptx,xlsx\",\"inbound_paths\":\"[{\\\"path\\\":\\\"\\\\\\/go\\\\\\/\\\",\\\"label\\\":\\\"affiliate\\\"},{\\\"path\\\":\\\"\\\\\\/recommend\\\\\\/\\\",\\\"label\\\":\\\"affiliate\\\"}]\",\"home_url\":\"https:\\/\\/bestsellingalbums.org\",\"hash_tracking\":\"false\"};\n",
       "    </script>\n",
       "<script src=\"https://bestsellingalbums.org/wp-content/plugins/google-analytics-for-wordpress/assets/js/frontend.min.js?ver=7.11.0\"></script>\n",
       "<script src=\"https://bestsellingalbums.org/wp-includes/js/jquery/jquery.js?ver=1.12.4-wp\"></script>\n",
       "<script src=\"https://bestsellingalbums.org/wp-includes/js/jquery/jquery-migrate.min.js?ver=1.4.1\"></script>\n",
       "<script async=\"\" src=\"https://www.googletagmanager.com/gtag/js?id=UA-172469367-1\"></script>\n",
       "<script>\n",
       "        window.dataLayer = window.dataLayer || [];function gtag(){dataLayer.push(arguments);}\n",
       "        gtag('js', new Date());\n",
       "        gtag('set', 'developer_id.dZTNiMT', true);\n",
       "        gtag('config', 'UA-172469367-1', {\"anonymize_ip\":true} );\n",
       "    </script>\n",
       "<link href=\"https://bestsellingalbums.org/wp-json/\" rel=\"https://api.w.org/\"/>\n",
       "<link href=\"https://bestsellingalbums.org/xmlrpc.php?rsd\" rel=\"EditURI\" title=\"RSD\" type=\"application/rsd+xml\"/>\n",
       "<link href=\"https://bestsellingalbums.org/wp-includes/wlwmanifest.xml\" rel=\"wlwmanifest\" type=\"application/wlwmanifest+xml\"/>\n",
       "<meta content=\"WordPress 5.4.7\" name=\"generator\"/>\n",
       "<link href=\"https://bestsellingalbums.org/decade/2010\" rel=\"shortlink\"/>\n",
       "<link href=\"https://bestsellingalbums.org/wp-json/oembed/1.0/embed?url=https%3A%2F%2Fbestsellingalbums.org%2F\" rel=\"alternate\" type=\"application/json+oembed\"/>\n",
       "<link href=\"https://bestsellingalbums.org/wp-json/oembed/1.0/embed?url=https%3A%2F%2Fbestsellingalbums.org%2F&amp;format=xml\" rel=\"alternate\" type=\"text/xml+oembed\"/>\n",
       "<meta content=\"Site Kit by Google 1.23.0\" name=\"generator\"/> <style id=\"twentyfifteen-header-css\" type=\"text/css\">\n",
       "        .site-header {\n",
       "            padding-top: 14px;\n",
       "            padding-bottom: 14px;\n",
       "        }\n",
       "\n",
       "        .site-branding {\n",
       "            min-height: 42px;\n",
       "        }\n",
       "\n",
       "        @media screen and (min-width: 46.25em) {\n",
       "            .site-header {\n",
       "                padding-top: 21px;\n",
       "                padding-bottom: 21px;\n",
       "            }\n",
       "            .site-branding {\n",
       "                min-height: 56px;\n",
       "            }\n",
       "        }\n",
       "        @media screen and (min-width: 55em) {\n",
       "            .site-header {\n",
       "                padding-top: 25px;\n",
       "                padding-bottom: 25px;\n",
       "            }\n",
       "            .site-branding {\n",
       "                min-height: 62px;\n",
       "            }\n",
       "        }\n",
       "        @media screen and (min-width: 59.6875em) {\n",
       "            .site-header {\n",
       "                padding-top: 0;\n",
       "                padding-bottom: 0;\n",
       "            }\n",
       "            .site-branding {\n",
       "                min-height: 0;\n",
       "            }\n",
       "        }\n",
       "        .site-title,\n",
       "        .site-description {\n",
       "            clip: rect(1px, 1px, 1px, 1px);\n",
       "            position: absolute;\n",
       "        }\n",
       "    </style>\n",
       "<!-- Yandex.Metrika counter -->\n",
       "<script type=\"text/javascript\"> (function(m,e,t,r,i,k,a){m[i]=m[i]||function(){(m[i].a=m[i].a||[]).push(arguments)}; m[i].l=1*new Date();k=e.createElement(t),a=e.getElementsByTagName(t)[0],k.async=1,k.src=r,a.parentNode.insertBefore(k,a)}) (window, document, \"script\", \"https://mc.yandex.ru/metrika/tag.js\", \"ym\"); ym(58642729, \"init\", {  id:58642729, clickmap:true, trackLinks:true, webvisor:true, accurateTrackBounce:true }); </script>\n",
       "<noscript><div><img alt=\"\" src=\"https://mc.yandex.ru/watch/58642729\" style=\"position:absolute; left:-9999px;\"/></div></noscript>\n",
       "<!-- /Yandex.Metrika counter -->\n",
       "<link href=\"/apple-touch-icon.png\" rel=\"apple-touch-icon\" sizes=\"180x180\"/>\n",
       "<link href=\"/favicon-32x32.png\" rel=\"icon\" sizes=\"32x32\" type=\"image/png\"/>\n",
       "<link href=\"/favicon-16x16.png\" rel=\"icon\" sizes=\"16x16\" type=\"image/png\"/>\n",
       "<link href=\"/site.webmanifest\" rel=\"manifest\"/>\n",
       "<script crossorigin=\"anonymous\" integrity=\"sha256-9/aliU8dGd2tb6OSsuzixeV4y/faTqgFtohetphbbj0=\" src=\"https://code.jquery.com/jquery-3.5.1.min.js\"></script>\n",
       "<link href=\"https://bestsellingalbums.org/wp-content/themes/twentyfifteen/css/database.css\" rel=\"stylesheet\" type=\"text/css\"/>\n",
       "<script charset=\"utf8\" src=\"https://cdn.datatables.net/1.10.24/js/jquery.dataTables.js\" type=\"text/javascript\"></script>\n",
       "</link></link></meta></meta></head>\n",
       "<body class=\"home page-template-default page page-id-432 wp-custom-logo wp-embed-responsive elementor-default elementor-kit-2273\" data-rsssl=\"1\">\n",
       "<div class=\"hfeed site\" id=\"page\">\n",
       "<a class=\"skip-link screen-reader-text\" href=\"#content\">Skip to content</a>\n",
       "<div class=\"sidebar\" id=\"sidebar\" style=\"position: fixed; bottom: auto;\">\n",
       "<header class=\"site-header\" id=\"masthead\" role=\"banner\">\n",
       "<div class=\"site-branding\">\n",
       "<a class=\"custom-logo-link\" href=\"https://bestsellingalbums.org/\" rel=\"home\"><img alt=\"BestSellingAlbums.org\" class=\"custom-logo\" height=\"153\" src=\"https://bestsellingalbums.org/wp-content/uploads/2020/06/logo-1.png\" width=\"160\"/></a> <p class=\"site-title\"><a href=\"https://bestsellingalbums.org/\" rel=\"home\">BestSellingAlbums.org</a></p>\n",
       "<p class=\"site-description\">global archive of albums sales, charts and industry statistics</p>\n",
       "<button class=\"secondary-toggle\">Menu and widgets</button>\n",
       "</div><!-- .site-branding -->\n",
       "</header><!-- .site-header -->\n",
       "<div class=\"secondary\" id=\"secondary\">\n",
       "<nav class=\"main-navigation\" id=\"site-navigation\" role=\"navigation\">\n",
       "<div class=\"menu-menu3-0-container\"><ul class=\"nav-menu\" id=\"menu-menu3-0\"><li class=\"menu-item menu-item-type-custom menu-item-object-custom menu-item-2973\" id=\"menu-item-2973\"><a href=\"https://bestsellingalbums.org/about/\">About</a></li>\n",
       "<li class=\"menu-item menu-item-type-post_type menu-item-object-page menu-item-4417\" id=\"menu-item-4417\"><a href=\"https://bestsellingalbums.org/latest/\">Latest</a></li>\n",
       "<li class=\"menu-item menu-item-type-custom menu-item-object-custom menu-item-2842\" id=\"menu-item-2842\"><a href=\"https://bestsellingalbums.org/search-database/\">Database search</a></li>\n",
       "<li class=\"menu-item menu-item-type-custom menu-item-object-custom menu-item-2843\" id=\"menu-item-2843\"><a href=\"https://bestsellingalbums.org/artist-index/\">Artist index</a></li>\n",
       "<li class=\"menu-item menu-item-type-custom menu-item-object-custom menu-item-has-children menu-item-2844\" id=\"menu-item-2844\"><a>Best-selling albums by year, decade</a><button aria-expanded=\"false\" class=\"dropdown-toggle\"><span class=\"screen-reader-text\">expand child menu</span></button>\n",
       "<ul class=\"sub-menu\">\n",
       "<li class=\"menu-item menu-item-type-custom menu-item-object-custom menu-item-2845\" id=\"menu-item-2845\"><a href=\"https://bestsellingalbums.org/decade/1940\">1940’s</a></li>\n",
       "<li class=\"menu-item menu-item-type-custom menu-item-object-custom menu-item-2846\" id=\"menu-item-2846\"><a href=\"https://bestsellingalbums.org/decade/1950\">1950’s</a></li>\n",
       "<li class=\"menu-item menu-item-type-custom menu-item-object-custom menu-item-2847\" id=\"menu-item-2847\"><a href=\"https://bestsellingalbums.org/decade/1960\">1960’s</a></li>\n",
       "<li class=\"menu-item menu-item-type-custom menu-item-object-custom menu-item-2848\" id=\"menu-item-2848\"><a href=\"https://bestsellingalbums.org/decade/1970\">1970’s</a></li>\n",
       "<li class=\"menu-item menu-item-type-custom menu-item-object-custom menu-item-2849\" id=\"menu-item-2849\"><a href=\"https://bestsellingalbums.org/decade/1980\">1980’s</a></li>\n",
       "<li class=\"menu-item menu-item-type-custom menu-item-object-custom menu-item-2850\" id=\"menu-item-2850\"><a href=\"https://bestsellingalbums.org/decade/1990\">1990’s</a></li>\n",
       "<li class=\"menu-item menu-item-type-custom menu-item-object-custom menu-item-2851\" id=\"menu-item-2851\"><a href=\"https://bestsellingalbums.org/decade/2000\">2000’s</a></li>\n",
       "<li class=\"menu-item menu-item-type-custom menu-item-object-custom menu-item-2852\" id=\"menu-item-2852\"><a href=\"https://bestsellingalbums.org/decade/2010\">2010’s</a></li>\n",
       "<li class=\"menu-item menu-item-type-custom menu-item-object-custom menu-item-2853\" id=\"menu-item-2853\"><a href=\"https://bestsellingalbums.org/decade/2020\">2020’s</a></li>\n",
       "<li class=\"menu-item menu-item-type-custom menu-item-object-custom menu-item-2854\" id=\"menu-item-2854\"><a href=\"https://bestsellingalbums.org/overall\">Overall</a></li>\n",
       "</ul>\n",
       "</li>\n",
       "<li class=\"menu-item menu-item-type-custom menu-item-object-custom menu-item-2915\" id=\"menu-item-2915\"><a href=\"https://bestsellingalbums.org/best-selling-albums-by-country/\">Best-selling albums by country</a></li>\n",
       "<li class=\"menu-item menu-item-type-custom menu-item-object-custom menu-item-has-children menu-item-4418\" id=\"menu-item-4418\"><a>Best-selling video albums</a><button aria-expanded=\"false\" class=\"dropdown-toggle\"><span class=\"screen-reader-text\">expand child menu</span></button>\n",
       "<ul class=\"sub-menu\">\n",
       "<li class=\"menu-item menu-item-type-custom menu-item-object-custom menu-item-4419\" id=\"menu-item-4419\"><a href=\"https://bestsellingalbums.org/video/decade/1980\">1980’s</a></li>\n",
       "<li class=\"menu-item menu-item-type-custom menu-item-object-custom menu-item-4420\" id=\"menu-item-4420\"><a href=\"https://bestsellingalbums.org/video/decade/1990\">1990’s</a></li>\n",
       "<li class=\"menu-item menu-item-type-custom menu-item-object-custom menu-item-4421\" id=\"menu-item-4421\"><a href=\"https://bestsellingalbums.org/video/decade/2000\">2000’s</a></li>\n",
       "<li class=\"menu-item menu-item-type-custom menu-item-object-custom menu-item-4422\" id=\"menu-item-4422\"><a href=\"https://bestsellingalbums.org/video/decade/2010\">2010’s</a></li>\n",
       "<li class=\"menu-item menu-item-type-custom menu-item-object-custom menu-item-4423\" id=\"menu-item-4423\"><a href=\"https://bestsellingalbums.org/video/decade/2020\">2020’s</a></li>\n",
       "<li class=\"menu-item menu-item-type-custom menu-item-object-custom menu-item-4424\" id=\"menu-item-4424\"><a href=\"https://bestsellingalbums.org/video/overall\">Overall</a></li>\n",
       "<li class=\"menu-item menu-item-type-custom menu-item-object-custom menu-item-4425\" id=\"menu-item-4425\"><a href=\"https://bestsellingalbums.org/best-selling-video-albums-by-country/\">By country</a></li>\n",
       "</ul>\n",
       "</li>\n",
       "<li class=\"menu-item menu-item-type-custom menu-item-object-custom menu-item-2924\" id=\"menu-item-2924\"><a href=\"https://bestsellingalbums.org/lists\">Lists</a></li>\n",
       "<li class=\"menu-item menu-item-type-custom menu-item-object-custom menu-item-has-children menu-item-2841\" id=\"menu-item-2841\"><a href=\"https://bestsellingalbums.org/rus/\">Русский раздел</a><button aria-expanded=\"false\" class=\"dropdown-toggle\"><span class=\"screen-reader-text\">expand child menu</span></button>\n",
       "<ul class=\"sub-menu\">\n",
       "<li class=\"menu-item menu-item-type-custom menu-item-object-custom menu-item-2911\" id=\"menu-item-2911\"><a href=\"https://bestsellingalbums.org/charts/spotify/\">Самые прослушиваемые альбомы Spotify</a></li>\n",
       "<li class=\"menu-item menu-item-type-custom menu-item-object-custom menu-item-2912\" id=\"menu-item-2912\"><a href=\"https://bestsellingalbums.org/charts/vk-albums/\">Самые прослушиваемые альбомы VK Music</a></li>\n",
       "<li class=\"menu-item menu-item-type-custom menu-item-object-custom menu-item-2913\" id=\"menu-item-2913\"><a href=\"https://bestsellingalbums.org/charts/overall/\">Самые прослушиваемые альбомы в России</a></li>\n",
       "<li class=\"menu-item menu-item-type-custom menu-item-object-custom menu-item-2914\" id=\"menu-item-2914\"><a href=\"https://bestsellingalbums.org/tirazi/\">Тиражи пластинок в СССР и России</a></li>\n",
       "</ul>\n",
       "</li>\n",
       "</ul></div> </nav><!-- .main-navigation -->\n",
       "</div><!-- .secondary -->\n",
       "</div><!-- .sidebar -->\n",
       "<div class=\"site-content\" id=\"content\">\n",
       "<div class=\"content-area\" id=\"primary\">\n",
       "<main class=\"site-main\" id=\"main\" role=\"main\">\n",
       "<header class=\"entry-header\">\n",
       "<h1 class=\"head_first\">Best-selling albums of 2010's</h1>\n",
       "</header><!-- .entry-header -->\n",
       "<div class=\"entry-content\">\n",
       "<p>The best-selling album released in 2010 is 21 by ADELE which sold 30,000,000 copies.\n",
       "<!-- year panel -->\n",
       "<details>\n",
       "<summary class=\"open_year\">Open to select another chart: by year, by decade or all time\n",
       "    </summary>\n",
       "<div class=\"year_box\">\n",
       "<div class=\"all_time_mobile\"><a href=\"https://bestsellingalbums.org/overall\" id=\"decade\" title=\"Best-selling albums of all time\">All\n",
       "                time</a></div>\n",
       "<div class=\"decade_link\"><a href=\"https://bestsellingalbums.org/decade/2020\" id=\"decade\" title=\"Best-selling albums of 2020's\">2020s</a>\n",
       "</div>\n",
       "<div class=\"year_link\"><a href=\"https://bestsellingalbums.org/year/2020\" title=\"Best-selling albums of 2020\">2020</a></div>\n",
       "<div class=\"year_link\"><a href=\"https://bestsellingalbums.org/year/2021\" title=\"Best-selling albums of 2021\">2021</a></div>\n",
       "<div class=\"year_link\"><a href=\"https://bestsellingalbums.org/year/2022\" title=\"Best-selling albums of 2022\">2022</a></div>\n",
       "<div class=\"year_link\"><a href=\"https://bestsellingalbums.org/year/2023\" title=\"Best-selling albums of 2023\">2023</a></div>\n",
       "<div class=\"all_time\"><a href=\"https://bestsellingalbums.org/overall\" id=\"decade\" title=\"Best-selling albums of all time\">All time</a></div>\n",
       "<div class=\"decade_link\"><a href=\"https://bestsellingalbums.org/decade/2010\" id=\"decade\" title=\"Best-selling albums of 2010's\">2010s</a>\n",
       "</div>\n",
       "<div class=\"year_link\"><a href=\"https://bestsellingalbums.org/year/2010\" title=\"Best-selling albums of 2010\">2010</a></div>\n",
       "<div class=\"year_link\"><a href=\"https://bestsellingalbums.org/year/2011\" title=\"Best-selling albums of 2011\">2011</a></div>\n",
       "<div class=\"year_link\"><a href=\"https://bestsellingalbums.org/year/2012\" title=\"Best-selling albums of 2012\">2012</a></div>\n",
       "<div class=\"year_link\"><a href=\"https://bestsellingalbums.org/year/2013\" title=\"Best-selling albums of 2013\">2013</a></div>\n",
       "<div class=\"year_link\"><a href=\"https://bestsellingalbums.org/year/2014\" title=\"Best-selling albums of 2014\">2014</a></div>\n",
       "<div class=\"year_link\"><a href=\"https://bestsellingalbums.org/year/2015\" title=\"Best-selling albums of 2015\">2015</a></div>\n",
       "<div class=\"year_link\"><a href=\"https://bestsellingalbums.org/year/2016\" title=\"Best-selling albums of 2016\">2016</a></div>\n",
       "<div class=\"year_link\"><a href=\"https://bestsellingalbums.org/year/2017\" title=\"Best-selling albums of 2017\">2017</a></div>\n",
       "<div class=\"year_link\"><a href=\"https://bestsellingalbums.org/year/2018\" title=\"Best-selling albums of 2018\">2018</a></div>\n",
       "<div class=\"year_link\"><a href=\"https://bestsellingalbums.org/year/2019\" title=\"Best-selling albums of 2019\">2019</a></div>\n",
       "<div class=\"decade_link\"><a href=\"https://bestsellingalbums.org/decade/2000\" id=\"decade\" title=\"Best-selling albums of 2000's\">2000s</a>\n",
       "</div>\n",
       "<div class=\"year_link\"><a href=\"https://bestsellingalbums.org/year/2000\" title=\"Best-selling albums of 2000\">2000</a></div>\n",
       "<div class=\"year_link\"><a href=\"https://bestsellingalbums.org/year/2001\" title=\"Best-selling albums of 2001\">2001</a></div>\n",
       "<div class=\"year_link\"><a href=\"https://bestsellingalbums.org/year/2002\" title=\"Best-selling albums of 2002\">2002</a></div>\n",
       "<div class=\"year_link\"><a href=\"https://bestsellingalbums.org/year/2003\" title=\"Best-selling albums of 2003\">2003</a></div>\n",
       "<div class=\"year_link\"><a href=\"https://bestsellingalbums.org/year/2004\" title=\"Best-selling albums of 2004\">2004</a></div>\n",
       "<div class=\"year_link\"><a href=\"https://bestsellingalbums.org/year/2005\" title=\"Best-selling albums of 2005\">2005</a></div>\n",
       "<div class=\"year_link\"><a href=\"https://bestsellingalbums.org/year/2006\" title=\"Best-selling albums of 2006\">2006</a></div>\n",
       "<div class=\"year_link\"><a href=\"https://bestsellingalbums.org/year/2007\" title=\"Best-selling albums of 2007\">2007</a></div>\n",
       "<div class=\"year_link\"><a href=\"https://bestsellingalbums.org/year/2008\" title=\"Best-selling albums of 2008\">2008</a></div>\n",
       "<div class=\"year_link\"><a href=\"https://bestsellingalbums.org/year/2009\" title=\"Best-selling albums of 2009\">2009</a></div>\n",
       "<div class=\"decade_link\"><a href=\"https://bestsellingalbums.org/decade/1990\" id=\"decade\" title=\"Best-selling albums of 1990's\">1990s</a>\n",
       "</div>\n",
       "<div class=\"year_link\"><a href=\"https://bestsellingalbums.org/year/1990\" title=\"Best-selling albums of 1990\">1990</a></div>\n",
       "<div class=\"year_link\"><a href=\"https://bestsellingalbums.org/year/1991\" title=\"Best-selling albums of 1991\">1991</a></div>\n",
       "<div class=\"year_link\"><a href=\"https://bestsellingalbums.org/year/1992\" title=\"Best-selling albums of 1992\">1992</a></div>\n",
       "<div class=\"year_link\"><a href=\"https://bestsellingalbums.org/year/1993\" title=\"Best-selling albums of 1993\">1993</a></div>\n",
       "<div class=\"year_link\"><a href=\"https://bestsellingalbums.org/year/1994\" title=\"Best-selling albums of 1994\">1994</a></div>\n",
       "<div class=\"year_link\"><a href=\"https://bestsellingalbums.org/year/1995\" title=\"Best-selling albums of 1995\">1995</a></div>\n",
       "<div class=\"year_link\"><a href=\"https://bestsellingalbums.org/year/1996\" title=\"Best-selling albums of 1996\">1996</a></div>\n",
       "<div class=\"year_link\"><a href=\"https://bestsellingalbums.org/year/1997\" title=\"Best-selling albums of 1997\">1997</a></div>\n",
       "<div class=\"year_link\"><a href=\"https://bestsellingalbums.org/year/1998\" title=\"Best-selling albums of 1998\">1998</a></div>\n",
       "<div class=\"year_link\"><a href=\"https://bestsellingalbums.org/year/1999\" title=\"Best-selling albums of 1999\">1999</a></div>\n",
       "<div class=\"decade_link\"><a href=\"https://bestsellingalbums.org/decade/1980\" id=\"decade\" title=\"Best-selling albums of 1980's\">1980s</a>\n",
       "</div>\n",
       "<div class=\"year_link\"><a href=\"https://bestsellingalbums.org/year/1980\" title=\"Best-selling albums of 1980\">1980</a></div>\n",
       "<div class=\"year_link\"><a href=\"https://bestsellingalbums.org/year/1981\" title=\"Best-selling albums of 1981\">1981</a></div>\n",
       "<div class=\"year_link\"><a href=\"https://bestsellingalbums.org/year/1982\" title=\"Best-selling albums of 1982\">1982</a></div>\n",
       "<div class=\"year_link\"><a href=\"https://bestsellingalbums.org/year/1983\" title=\"Best-selling albums of 1983\">1983</a></div>\n",
       "<div class=\"year_link\"><a href=\"https://bestsellingalbums.org/year/1984\" title=\"Best-selling albums of 1984\">1984</a></div>\n",
       "<div class=\"year_link\"><a href=\"https://bestsellingalbums.org/year/1985\" title=\"Best-selling albums of 1985\">1985</a></div>\n",
       "<div class=\"year_link\"><a href=\"https://bestsellingalbums.org/year/1986\" title=\"Best-selling albums of 1986\">1986</a></div>\n",
       "<div class=\"year_link\"><a href=\"https://bestsellingalbums.org/year/1987\" title=\"Best-selling albums of 1987\">1987</a></div>\n",
       "<div class=\"year_link\"><a href=\"https://bestsellingalbums.org/year/1988\" title=\"Best-selling albums of 1988\">1988</a></div>\n",
       "<div class=\"year_link\"><a href=\"https://bestsellingalbums.org/year/1989\" title=\"Best-selling albums of 1989\">1989</a></div>\n",
       "<div class=\"decade_link\"><a href=\"https://bestsellingalbums.org/decade/1970\" id=\"decade\" title=\"Best-selling albums of 1970's\">1970s</a>\n",
       "</div>\n",
       "<div class=\"year_link\"><a href=\"https://bestsellingalbums.org/year/1970\" title=\"Best-selling albums of 1970\">1970</a></div>\n",
       "<div class=\"year_link\"><a href=\"https://bestsellingalbums.org/year/1971\" title=\"Best-selling albums of 1971\">1971</a></div>\n",
       "<div class=\"year_link\"><a href=\"https://bestsellingalbums.org/year/1972\" title=\"Best-selling albums of 1972\">1972</a></div>\n",
       "<div class=\"year_link\"><a href=\"https://bestsellingalbums.org/year/1973\" title=\"Best-selling albums of 1973\">1973</a></div>\n",
       "<div class=\"year_link\"><a href=\"https://bestsellingalbums.org/year/1974\" title=\"Best-selling albums of 1974\">1974</a></div>\n",
       "<div class=\"year_link\"><a href=\"https://bestsellingalbums.org/year/1975\" title=\"Best-selling albums of 1975\">1975</a></div>\n",
       "<div class=\"year_link\"><a href=\"https://bestsellingalbums.org/year/1976\" title=\"Best-selling albums of 1976\">1976</a></div>\n",
       "<div class=\"year_link\"><a href=\"https://bestsellingalbums.org/year/1977\" title=\"Best-selling albums of 1977\">1977</a></div>\n",
       "<div class=\"year_link\"><a href=\"https://bestsellingalbums.org/year/1978\" title=\"Best-selling albums of 1978\">1978</a></div>\n",
       "<div class=\"year_link\"><a href=\"https://bestsellingalbums.org/year/1979\" title=\"Best-selling albums of 1979\">1979</a></div>\n",
       "<div class=\"decade_link\"><a href=\"https://bestsellingalbums.org/decade/1960\" id=\"decade\" title=\"Best-selling albums of 1960's\">1960s</a>\n",
       "</div>\n",
       "<div class=\"year_link\"><a href=\"https://bestsellingalbums.org/year/1960\" title=\"Best-selling albums of 1960\">1960</a></div>\n",
       "<div class=\"year_link\"><a href=\"https://bestsellingalbums.org/year/1961\" title=\"Best-selling albums of 1961\">1961</a></div>\n",
       "<div class=\"year_link\"><a href=\"https://bestsellingalbums.org/year/1962\" title=\"Best-selling albums of 1962\">1962</a></div>\n",
       "<div class=\"year_link\"><a href=\"https://bestsellingalbums.org/year/1963\" title=\"Best-selling albums of 1963\">1963</a></div>\n",
       "<div class=\"year_link\"><a href=\"https://bestsellingalbums.org/year/1964\" title=\"Best-selling albums of 1964\">1964</a></div>\n",
       "<div class=\"year_link\"><a href=\"https://bestsellingalbums.org/year/1965\" title=\"Best-selling albums of 1965\">1965</a></div>\n",
       "<div class=\"year_link\"><a href=\"https://bestsellingalbums.org/year/1966\" title=\"Best-selling albums of 1966\">1966</a></div>\n",
       "<div class=\"year_link\"><a href=\"https://bestsellingalbums.org/year/1967\" title=\"Best-selling albums of 1967\">1967</a></div>\n",
       "<div class=\"year_link\"><a href=\"https://bestsellingalbums.org/year/1968\" title=\"Best-selling albums of 1968\">1968</a></div>\n",
       "<div class=\"year_link\"><a href=\"https://bestsellingalbums.org/year/1969\" title=\"Best-selling albums of 1969\">1969</a></div>\n",
       "<div class=\"decade_link\"><a href=\"https://bestsellingalbums.org/decade/1950\" id=\"decade\" title=\"Best-selling albums of 1950's\">1950s</a>\n",
       "</div>\n",
       "<div class=\"year_link\"><a href=\"https://bestsellingalbums.org/year/1950\" title=\"Best-selling albums of 1950\">1950</a></div>\n",
       "<div class=\"year_link\"><a href=\"https://bestsellingalbums.org/year/1951\" title=\"Best-selling albums of 1951\">1951</a></div>\n",
       "<div class=\"year_link\"><a href=\"https://bestsellingalbums.org/year/1952\" title=\"Best-selling albums of 1952\">1952</a></div>\n",
       "<div class=\"year_link\"><a href=\"https://bestsellingalbums.org/year/1953\" title=\"Best-selling albums of 1953\">1953</a></div>\n",
       "<div class=\"year_link\"><a href=\"https://bestsellingalbums.org/year/1954\" title=\"Best-selling albums of 1954\">1954</a></div>\n",
       "<div class=\"year_link\"><a href=\"https://bestsellingalbums.org/year/1955\" title=\"Best-selling albums of 1955\">1955</a></div>\n",
       "<div class=\"year_link\"><a href=\"https://bestsellingalbums.org/year/1956\" title=\"Best-selling albums of 1956\">1956</a></div>\n",
       "<div class=\"year_link\"><a href=\"https://bestsellingalbums.org/year/1957\" title=\"Best-selling albums of 1957\">1957</a></div>\n",
       "<div class=\"year_link\"><a href=\"https://bestsellingalbums.org/year/1958\" title=\"Best-selling albums of 1958\">1958</a></div>\n",
       "<div class=\"year_link\"><a href=\"https://bestsellingalbums.org/year/1959\" title=\"Best-selling albums of 1959\">1959</a></div>\n",
       "<div class=\"decade_link\"><a href=\"https://bestsellingalbums.org/decade/1940\" id=\"decade\" title=\"Best-selling albums of 1940's\">1940s</a>\n",
       "</div>\n",
       "<div class=\"year_link\"><a href=\"https://bestsellingalbums.org/year/1940\" title=\"Best-selling albums of 1940\">1940</a></div>\n",
       "<div class=\"year_link\"><a href=\"https://bestsellingalbums.org/year/1941\" title=\"Best-selling albums of 1941\">1941</a></div>\n",
       "<div class=\"year_link\"><a href=\"https://bestsellingalbums.org/year/1942\" title=\"Best-selling albums of 1942\">1942</a></div>\n",
       "<div class=\"year_link\"><a href=\"https://bestsellingalbums.org/year/1943\" title=\"Best-selling albums of 1943\">1943</a></div>\n",
       "<div class=\"year_link\"><a href=\"https://bestsellingalbums.org/year/1944\" title=\"Best-selling albums of 1944\">1944</a></div>\n",
       "<div class=\"year_link\"><a href=\"https://bestsellingalbums.org/year/1945\" title=\"Best-selling albums of 1945\">1945</a></div>\n",
       "<div class=\"year_link\"><a href=\"https://bestsellingalbums.org/year/1946\" title=\"Best-selling albums of 1946\">1946</a></div>\n",
       "<div class=\"year_link\"><a href=\"https://bestsellingalbums.org/year/1947\" title=\"Best-selling albums of 1947\">1947</a></div>\n",
       "<div class=\"year_link\"><a href=\"https://bestsellingalbums.org/year/1948\" title=\"Best-selling albums of 1948\">1948</a></div>\n",
       "<div class=\"year_link\"><a href=\"https://bestsellingalbums.org/year/1949\" title=\"Best-selling albums of 1949\">1949</a></div>\n",
       "</div>\n",
       "</details>\n",
       "<!-- year panel end--><div class=\"pages_row\"><div class=\"current_page\">1</div><div class=\"page_item\"><a href=\"https://bestsellingalbums.org/decade/2010-2\">2</a></div><div class=\"page_item\"><a href=\"https://bestsellingalbums.org/decade/2010-3\">3</a></div><div class=\"page_item\"><a href=\"https://bestsellingalbums.org/decade/2010-4\">4</a></div><div class=\"no_link\">...</div><div class=\"page_item\"><a href=\"https://bestsellingalbums.org/decade/2010-251\">251</a></div><div class=\"page_item\"><a href=\"https://bestsellingalbums.org/decade/2010-2\">next</a></div></div><div class=\"album_card\"><div class=\"rank\">1</div><div class=\"cover\"><img class=\"pic\" onerror=\"this.src='../includes/default.png';this.onerror='';\" src=\"../covers/1034.jpg\"/></div><div class=\"data_col\"><div class=\"album\"><a href=\"https://bestsellingalbums.org/album/1034\">21</a></div><div class=\"artist\"><a href=\"https://bestsellingalbums.org/artist/218\" title=\"ADELE album sales\">ADELE</a></div><div class=\"sales\">Sales: 30,000,000</div><div class=\"rank_mobile\">Rankings:</div><div class=\"ranks_row\"><div class=\"ranks\"><a href=\"https://bestsellingalbums.org/year/2011\" title=\"Best-selling albums of 2011\"><span class=\"ranks_desc_art\">Rank in </span>2011</a> : 1</div><div class=\"ranks\"><a href=\"https://bestsellingalbums.org/decade/2010\" title=\"Best-selling albums of 2010's\"><span class=\"ranks_desc_art\">Rank in </span>2010's</a>: 1</div><div class=\"ranks\"><a href=\"https://bestsellingalbums.org/overall\" title=\"Best-selling albums of all time\">Overall<span class=\"ranks_desc_art\"> rank</span></a> : 24</div></div></div></div><div class=\"album_card\"><div class=\"rank\">2</div><div class=\"cover\"><img class=\"pic\" onerror=\"this.src='../includes/default.png';this.onerror='';\" src=\"../covers/1035.jpg\"/></div><div class=\"data_col\"><div class=\"album\"><a href=\"https://bestsellingalbums.org/album/1035\">25</a></div><div class=\"artist\"><a href=\"https://bestsellingalbums.org/artist/218\" title=\"ADELE album sales\">ADELE</a></div><div class=\"sales\">Sales: 23,000,000</div><div class=\"rank_mobile\">Rankings:</div><div class=\"ranks_row\"><div class=\"ranks\"><a href=\"https://bestsellingalbums.org/year/2015\" title=\"Best-selling albums of 2015\"><span class=\"ranks_desc_art\">Rank in </span>2015</a> : 1</div><div class=\"ranks\"><a href=\"https://bestsellingalbums.org/decade/2010\" title=\"Best-selling albums of 2010's\"><span class=\"ranks_desc_art\">Rank in </span>2010's</a>: 2</div><div class=\"ranks\"><a href=\"https://bestsellingalbums.org/overall\" title=\"Best-selling albums of all time\">Overall<span class=\"ranks_desc_art\"> rank</span></a> : 56</div></div></div></div><div class=\"album_card\"><div class=\"rank\">3</div><div class=\"cover\"><img class=\"pic\" onerror=\"this.src='../includes/default.png';this.onerror='';\" src=\"../covers/30524.jpg\"/></div><div class=\"data_col\"><div class=\"album\"><a href=\"https://bestsellingalbums.org/album/30524\">CHRISTMAS</a></div><div class=\"artist\"><a href=\"https://bestsellingalbums.org/artist/8822\" title=\"MICHAEL BUBLÉ album sales\">MICHAEL BUBLÉ</a></div><div class=\"sales\">Sales: 15,000,000</div><div class=\"rank_mobile\">Rankings:</div><div class=\"ranks_row\"><div class=\"ranks\"><a href=\"https://bestsellingalbums.org/year/2011\" title=\"Best-selling albums of 2011\"><span class=\"ranks_desc_art\">Rank in </span>2011</a> : 2</div><div class=\"ranks\"><a href=\"https://bestsellingalbums.org/decade/2010\" title=\"Best-selling albums of 2010's\"><span class=\"ranks_desc_art\">Rank in </span>2010's</a>: 3</div><div class=\"ranks\"><a href=\"https://bestsellingalbums.org/overall\" title=\"Best-selling albums of all time\">Overall<span class=\"ranks_desc_art\"> rank</span></a> : 119</div></div></div></div><div class=\"album_card\"><div class=\"rank\">4</div><div class=\"cover\"><img class=\"pic\" onerror=\"this.src='../includes/default.png';this.onerror='';\" src=\"../covers/45488.jpg\"/></div><div class=\"data_col\"><div class=\"album\"><a href=\"https://bestsellingalbums.org/album/45488\">1989</a></div><div class=\"artist\"><a href=\"https://bestsellingalbums.org/artist/12748\" title=\"TAYLOR SWIFT album sales\">TAYLOR SWIFT</a></div><div class=\"sales\">Sales: 14,748,116</div><div class=\"rank_mobile\">Rankings:</div><div class=\"ranks_row\"><div class=\"ranks\"><a href=\"https://bestsellingalbums.org/year/2014\" title=\"Best-selling albums of 2014\"><span class=\"ranks_desc_art\">Rank in </span>2014</a> : 1</div><div class=\"ranks\"><a href=\"https://bestsellingalbums.org/decade/2010\" title=\"Best-selling albums of 2010's\"><span class=\"ranks_desc_art\">Rank in </span>2010's</a>: 4</div><div class=\"ranks\"><a href=\"https://bestsellingalbums.org/overall\" title=\"Best-selling albums of all time\">Overall<span class=\"ranks_desc_art\"> rank</span></a> : 137</div></div></div></div><div class=\"album_card\"><div class=\"rank\">5</div><div class=\"cover\"><img class=\"pic\" onerror=\"this.src='../includes/default.png';this.onerror='';\" src=\"../covers/23318.jpg\"/></div><div class=\"data_col\"><div class=\"album\"><a href=\"https://bestsellingalbums.org/album/23318\">PURPOSE</a></div><div class=\"artist\"><a href=\"https://bestsellingalbums.org/artist/6646\" title=\"JUSTIN BIEBER album sales\">JUSTIN BIEBER</a></div><div class=\"sales\">Sales: 14,000,000</div><div class=\"rank_mobile\">Rankings:</div><div class=\"ranks_row\"><div class=\"ranks\"><a href=\"https://bestsellingalbums.org/year/2015\" title=\"Best-selling albums of 2015\"><span class=\"ranks_desc_art\">Rank in </span>2015</a> : 2</div><div class=\"ranks\"><a href=\"https://bestsellingalbums.org/decade/2010\" title=\"Best-selling albums of 2010's\"><span class=\"ranks_desc_art\">Rank in </span>2010's</a>: 5</div><div class=\"ranks\"><a href=\"https://bestsellingalbums.org/overall\" title=\"Best-selling albums of all time\">Overall<span class=\"ranks_desc_art\"> rank</span></a> : 146</div></div></div></div><div class=\"album_card\"><div class=\"rank\">6</div><div class=\"cover\"><img class=\"pic\" onerror=\"this.src='../includes/default.png';this.onerror='';\" src=\"../covers/12876.jpg\"/></div><div class=\"data_col\"><div class=\"album\"><a href=\"https://bestsellingalbums.org/album/12876\">DIVIDE</a></div><div class=\"artist\"><a href=\"https://bestsellingalbums.org/artist/3645\" title=\"ED SHEERAN album sales\">ED SHEERAN</a></div><div class=\"sales\">Sales: 13,787,460</div><div class=\"rank_mobile\">Rankings:</div><div class=\"ranks_row\"><div class=\"ranks\"><a href=\"https://bestsellingalbums.org/year/2017\" title=\"Best-selling albums of 2017\"><span class=\"ranks_desc_art\">Rank in </span>2017</a> : 1</div><div class=\"ranks\"><a href=\"https://bestsellingalbums.org/decade/2010\" title=\"Best-selling albums of 2010's\"><span class=\"ranks_desc_art\">Rank in </span>2010's</a>: 6</div><div class=\"ranks\"><a href=\"https://bestsellingalbums.org/overall\" title=\"Best-selling albums of all time\">Overall<span class=\"ranks_desc_art\"> rank</span></a> : 159</div></div></div></div><div class=\"album_card\"><div class=\"rank\">7</div><div class=\"cover\"><img class=\"pic\" onerror=\"this.src='../includes/default.png';this.onerror='';\" src=\"../covers/42961.jpg\"/></div><div class=\"data_col\"><div class=\"album\"><a href=\"https://bestsellingalbums.org/album/42961\">FROZEN</a></div><div class=\"artist\"><a href=\"https://bestsellingalbums.org/artist/12207\" title=\"SOUNDTRACK album sales\">SOUNDTRACK</a></div><div class=\"sales\">Sales: 12,632,083</div><div class=\"rank_mobile\">Rankings:</div><div class=\"ranks_row\"><div class=\"ranks\"><a href=\"https://bestsellingalbums.org/year/2013\" title=\"Best-selling albums of 2013\"><span class=\"ranks_desc_art\">Rank in </span>2013</a> : 1</div><div class=\"ranks\"><a href=\"https://bestsellingalbums.org/decade/2010\" title=\"Best-selling albums of 2010's\"><span class=\"ranks_desc_art\">Rank in </span>2010's</a>: 7</div><div class=\"ranks\"><a href=\"https://bestsellingalbums.org/overall\" title=\"Best-selling albums of all time\">Overall<span class=\"ranks_desc_art\"> rank</span></a> : 175</div></div></div></div><div class=\"album_card\"><div class=\"rank\">8</div><div class=\"cover\"><img class=\"pic\" onerror=\"this.src='../includes/default.png';this.onerror='';\" src=\"../covers/23977.jpg\"/></div><div class=\"data_col\"><div class=\"album\"><a href=\"https://bestsellingalbums.org/album/23977\">TEENAGE DREAM</a></div><div class=\"artist\"><a href=\"https://bestsellingalbums.org/artist/6828\" title=\"KATY PERRY album sales\">KATY PERRY</a></div><div class=\"sales\">Sales: 12,134,000</div><div class=\"rank_mobile\">Rankings:</div><div class=\"ranks_row\"><div class=\"ranks\"><a href=\"https://bestsellingalbums.org/year/2010\" title=\"Best-selling albums of 2010\"><span class=\"ranks_desc_art\">Rank in </span>2010</a> : 1</div><div class=\"ranks\"><a href=\"https://bestsellingalbums.org/decade/2010\" title=\"Best-selling albums of 2010's\"><span class=\"ranks_desc_art\">Rank in </span>2010's</a>: 8</div><div class=\"ranks\"><a href=\"https://bestsellingalbums.org/overall\" title=\"Best-selling albums of all time\">Overall<span class=\"ranks_desc_art\"> rank</span></a> : 185</div></div></div></div><div class=\"album_card\"><div class=\"rank\">9</div><div class=\"cover\"><img class=\"pic\" onerror=\"this.src='../includes/default.png';this.onerror='';\" src=\"../covers/12880.jpg\"/></div><div class=\"data_col\"><div class=\"album\"><a href=\"https://bestsellingalbums.org/album/12880\">X</a></div><div class=\"artist\"><a href=\"https://bestsellingalbums.org/artist/3645\" title=\"ED SHEERAN album sales\">ED SHEERAN</a></div><div class=\"sales\">Sales: 11,879,785</div><div class=\"rank_mobile\">Rankings:</div><div class=\"ranks_row\"><div class=\"ranks\"><a href=\"https://bestsellingalbums.org/year/2014\" title=\"Best-selling albums of 2014\"><span class=\"ranks_desc_art\">Rank in </span>2014</a> : 2</div><div class=\"ranks\"><a href=\"https://bestsellingalbums.org/decade/2010\" title=\"Best-selling albums of 2010's\"><span class=\"ranks_desc_art\">Rank in </span>2010's</a>: 9</div><div class=\"ranks\"><a href=\"https://bestsellingalbums.org/overall\" title=\"Best-selling albums of all time\">Overall<span class=\"ranks_desc_art\"> rank</span></a> : 205</div></div></div></div><div class=\"album_card\"><div class=\"rank\">10</div><div class=\"cover\"><img class=\"pic\" onerror=\"this.src='../includes/default.png';this.onerror='';\" src=\"../covers/6777.jpg\"/></div><div class=\"data_col\"><div class=\"album\"><a href=\"https://bestsellingalbums.org/album/6777\">DOO-WOPS &amp; HOOLIGANS</a></div><div class=\"artist\"><a href=\"https://bestsellingalbums.org/artist/1870\" title=\"BRUNO MARS album sales\">BRUNO MARS</a></div><div class=\"sales\">Sales: 11,270,000</div><div class=\"rank_mobile\">Rankings:</div><div class=\"ranks_row\"><div class=\"ranks\"><a href=\"https://bestsellingalbums.org/year/2010\" title=\"Best-selling albums of 2010\"><span class=\"ranks_desc_art\">Rank in </span>2010</a> : 2</div><div class=\"ranks\"><a href=\"https://bestsellingalbums.org/decade/2010\" title=\"Best-selling albums of 2010's\"><span class=\"ranks_desc_art\">Rank in </span>2010's</a>: 10</div><div class=\"ranks\"><a href=\"https://bestsellingalbums.org/overall\" title=\"Best-selling albums of all time\">Overall<span class=\"ranks_desc_art\"> rank</span></a> : 218</div></div></div></div><input name=\"IL_IN_ARTICLE\" type=\"hidden\"/><div class=\"album_card\"><div class=\"rank\">11</div><div class=\"cover\"><img class=\"pic\" onerror=\"this.src='../includes/default.png';this.onerror='';\" src=\"../covers/13756.jpg\"/></div><div class=\"data_col\"><div class=\"album\"><a href=\"https://bestsellingalbums.org/album/13756\">RECOVERY</a></div><div class=\"artist\"><a href=\"https://bestsellingalbums.org/artist/3873\" title=\"EMINEM album sales\">EMINEM</a></div><div class=\"sales\">Sales: 10,873,795</div><div class=\"rank_mobile\">Rankings:</div><div class=\"ranks_row\"><div class=\"ranks\"><a href=\"https://bestsellingalbums.org/year/2010\" title=\"Best-selling albums of 2010\"><span class=\"ranks_desc_art\">Rank in </span>2010</a> : 3</div><div class=\"ranks\"><a href=\"https://bestsellingalbums.org/decade/2010\" title=\"Best-selling albums of 2010's\"><span class=\"ranks_desc_art\">Rank in </span>2010's</a>: 11</div><div class=\"ranks\"><a href=\"https://bestsellingalbums.org/overall\" title=\"Best-selling albums of all time\">Overall<span class=\"ranks_desc_art\"> rank</span></a> : 232</div></div></div></div><div class=\"album_card\"><div class=\"rank\">12</div><div class=\"cover\"><img class=\"pic\" onerror=\"this.src='../includes/default.png';this.onerror='';\" src=\"../covers/19810.jpg\"/></div><div class=\"data_col\"><div class=\"album\"><a href=\"https://bestsellingalbums.org/album/19810\">NIGHT VISIONS</a></div><div class=\"artist\"><a href=\"https://bestsellingalbums.org/artist/5658\" title=\"IMAGINE DRAGONS album sales\">IMAGINE DRAGONS</a></div><div class=\"sales\">Sales: 9,616,263</div><div class=\"rank_mobile\">Rankings:</div><div class=\"ranks_row\"><div class=\"ranks\"><a href=\"https://bestsellingalbums.org/year/2012\" title=\"Best-selling albums of 2012\"><span class=\"ranks_desc_art\">Rank in </span>2012</a> : 1</div><div class=\"ranks\"><a href=\"https://bestsellingalbums.org/decade/2010\" title=\"Best-selling albums of 2010's\"><span class=\"ranks_desc_art\">Rank in </span>2010's</a>: 12</div><div class=\"ranks\"><a href=\"https://bestsellingalbums.org/overall\" title=\"Best-selling albums of all time\">Overall<span class=\"ranks_desc_art\"> rank</span></a> : 292</div></div></div></div><div class=\"album_card\"><div class=\"rank\">13</div><div class=\"cover\"><img class=\"pic\" onerror=\"this.src='../includes/default.png';this.onerror='';\" src=\"../covers/39978.jpg\"/></div><div class=\"data_col\"><div class=\"album\"><a href=\"https://bestsellingalbums.org/album/39978\">IN THE LONELY HOUR</a></div><div class=\"artist\"><a href=\"https://bestsellingalbums.org/artist/11437\" title=\"SAM SMITH album sales\">SAM SMITH</a></div><div class=\"sales\">Sales: 9,321,352</div><div class=\"rank_mobile\">Rankings:</div><div class=\"ranks_row\"><div class=\"ranks\"><a href=\"https://bestsellingalbums.org/year/2014\" title=\"Best-selling albums of 2014\"><span class=\"ranks_desc_art\">Rank in </span>2014</a> : 3</div><div class=\"ranks\"><a href=\"https://bestsellingalbums.org/decade/2010\" title=\"Best-selling albums of 2010's\"><span class=\"ranks_desc_art\">Rank in </span>2010's</a>: 13</div><div class=\"ranks\"><a href=\"https://bestsellingalbums.org/overall\" title=\"Best-selling albums of all time\">Overall<span class=\"ranks_desc_art\"> rank</span></a> : 302</div></div></div></div><div class=\"album_card\"><div class=\"rank\">14</div><div class=\"cover\"><img class=\"pic\" onerror=\"this.src='../includes/default.png';this.onerror='';\" src=\"../covers/6778.jpg\"/></div><div class=\"data_col\"><div class=\"album\"><a href=\"https://bestsellingalbums.org/album/6778\">UNORTHODOX JUKEBOX</a></div><div class=\"artist\"><a href=\"https://bestsellingalbums.org/artist/1870\" title=\"BRUNO MARS album sales\">BRUNO MARS</a></div><div class=\"sales\">Sales: 8,976,749</div><div class=\"rank_mobile\">Rankings:</div><div class=\"ranks_row\"><div class=\"ranks\"><a href=\"https://bestsellingalbums.org/year/2012\" title=\"Best-selling albums of 2012\"><span class=\"ranks_desc_art\">Rank in </span>2012</a> : 2</div><div class=\"ranks\"><a href=\"https://bestsellingalbums.org/decade/2010\" title=\"Best-selling albums of 2010's\"><span class=\"ranks_desc_art\">Rank in </span>2010's</a>: 14</div><div class=\"ranks\"><a href=\"https://bestsellingalbums.org/overall\" title=\"Best-selling albums of all time\">Overall<span class=\"ranks_desc_art\"> rank</span></a> : 315</div></div></div></div><div class=\"album_card\"><div class=\"rank\">15</div><div class=\"cover\"><img class=\"pic\" onerror=\"this.src='../includes/default.png';this.onerror='';\" src=\"../covers/45494.jpg\"/></div><div class=\"data_col\"><div class=\"album\"><a href=\"https://bestsellingalbums.org/album/45494\">RED</a></div><div class=\"artist\"><a href=\"https://bestsellingalbums.org/artist/12748\" title=\"TAYLOR SWIFT album sales\">TAYLOR SWIFT</a></div><div class=\"sales\">Sales: 8,889,124</div><div class=\"rank_mobile\">Rankings:</div><div class=\"ranks_row\"><div class=\"ranks\"><a href=\"https://bestsellingalbums.org/year/2012\" title=\"Best-selling albums of 2012\"><span class=\"ranks_desc_art\">Rank in </span>2012</a> : 3</div><div class=\"ranks\"><a href=\"https://bestsellingalbums.org/decade/2010\" title=\"Best-selling albums of 2010's\"><span class=\"ranks_desc_art\">Rank in </span>2010's</a>: 15</div><div class=\"ranks\"><a href=\"https://bestsellingalbums.org/overall\" title=\"Best-selling albums of all time\">Overall<span class=\"ranks_desc_art\"> rank</span></a> : 320</div></div></div></div><div class=\"album_card\"><div class=\"rank\">16</div><div class=\"cover\"><img class=\"pic\" onerror=\"this.src='../includes/default.png';this.onerror='';\" src=\"../covers/12875.jpg\"/></div><div class=\"data_col\"><div class=\"album\"><a href=\"https://bestsellingalbums.org/album/12875\">+</a></div><div class=\"artist\"><a href=\"https://bestsellingalbums.org/artist/3645\" title=\"ED SHEERAN album sales\">ED SHEERAN</a></div><div class=\"sales\">Sales: 7,705,000</div><div class=\"rank_mobile\">Rankings:</div><div class=\"ranks_row\"><div class=\"ranks\"><a href=\"https://bestsellingalbums.org/year/2011\" title=\"Best-selling albums of 2011\"><span class=\"ranks_desc_art\">Rank in </span>2011</a> : 3</div><div class=\"ranks\"><a href=\"https://bestsellingalbums.org/decade/2010\" title=\"Best-selling albums of 2010's\"><span class=\"ranks_desc_art\">Rank in </span>2010's</a>: 16</div><div class=\"ranks\"><a href=\"https://bestsellingalbums.org/overall\" title=\"Best-selling albums of all time\">Overall<span class=\"ranks_desc_art\"> rank</span></a> : 391</div></div></div></div><div class=\"album_card\"><div class=\"rank\">17</div><div class=\"cover\"><img class=\"pic\" onerror=\"this.src='../includes/default.png';this.onerror='';\" src=\"../covers/12457.jpg\"/></div><div class=\"data_col\"><div class=\"album\"><a href=\"https://bestsellingalbums.org/album/12457\">VIEWS</a></div><div class=\"artist\"><a href=\"https://bestsellingalbums.org/artist/3522\" title=\"DRAKE album sales\">DRAKE</a></div><div class=\"sales\">Sales: 7,687,247</div><div class=\"rank_mobile\">Rankings:</div><div class=\"ranks_row\"><div class=\"ranks\"><a href=\"https://bestsellingalbums.org/year/2016\" title=\"Best-selling albums of 2016\"><span class=\"ranks_desc_art\">Rank in </span>2016</a> : 1</div><div class=\"ranks\"><a href=\"https://bestsellingalbums.org/decade/2010\" title=\"Best-selling albums of 2010's\"><span class=\"ranks_desc_art\">Rank in </span>2010's</a>: 17</div><div class=\"ranks\"><a href=\"https://bestsellingalbums.org/overall\" title=\"Best-selling albums of all time\">Overall<span class=\"ranks_desc_art\"> rank</span></a> : 393</div></div></div></div><div class=\"album_card\"><div class=\"rank\">18</div><div class=\"cover\"><img class=\"pic\" onerror=\"this.src='../includes/default.png';this.onerror='';\" src=\"../covers/47839.jpg\"/></div><div class=\"data_col\"><div class=\"album\"><a href=\"https://bestsellingalbums.org/album/47839\">BEAUTY BEHIND THE MADNESS</a></div><div class=\"artist\"><a href=\"https://bestsellingalbums.org/artist/13284\" title=\"THE WEEKND album sales\">THE WEEKND</a></div><div class=\"sales\">Sales: 7,584,588</div><div class=\"rank_mobile\">Rankings:</div><div class=\"ranks_row\"><div class=\"ranks\"><a href=\"https://bestsellingalbums.org/year/2015\" title=\"Best-selling albums of 2015\"><span class=\"ranks_desc_art\">Rank in </span>2015</a> : 3</div><div class=\"ranks\"><a href=\"https://bestsellingalbums.org/decade/2010\" title=\"Best-selling albums of 2010's\"><span class=\"ranks_desc_art\">Rank in </span>2010's</a>: 18</div><div class=\"ranks\"><a href=\"https://bestsellingalbums.org/overall\" title=\"Best-selling albums of all time\">Overall<span class=\"ranks_desc_art\"> rank</span></a> : 397</div></div></div></div><div class=\"album_card\"><div class=\"rank\">19</div><div class=\"cover\"><img class=\"pic\" onerror=\"this.src='../includes/default.png';this.onerror='';\" src=\"../covers/5207.jpg\"/></div><div class=\"data_col\"><div class=\"album\"><a href=\"https://bestsellingalbums.org/album/5207\">WHEN WE ALL FALL ASLEEP, WHERE DO WE GO?</a></div><div class=\"artist\"><a href=\"https://bestsellingalbums.org/artist/1467\" title=\"BILLIE EILISH album sales\">BILLIE EILISH</a></div><div class=\"sales\">Sales: 7,256,516</div><div class=\"rank_mobile\">Rankings:</div><div class=\"ranks_row\"><div class=\"ranks\"><a href=\"https://bestsellingalbums.org/year/2019\" title=\"Best-selling albums of 2019\"><span class=\"ranks_desc_art\">Rank in </span>2019</a> : 1</div><div class=\"ranks\"><a href=\"https://bestsellingalbums.org/decade/2010\" title=\"Best-selling albums of 2010's\"><span class=\"ranks_desc_art\">Rank in </span>2010's</a>: 19</div><div class=\"ranks\"><a href=\"https://bestsellingalbums.org/overall\" title=\"Best-selling albums of all time\">Overall<span class=\"ranks_desc_art\"> rank</span></a> : 418</div></div></div></div><div class=\"album_card\"><div class=\"rank\">20</div><div class=\"cover\"><img class=\"pic\" onerror=\"this.src='../includes/default.png';this.onerror='';\" src=\"../covers/25786.jpg\"/></div><div class=\"data_col\"><div class=\"album\"><a href=\"https://bestsellingalbums.org/album/25786\">BORN THIS WAY</a></div><div class=\"artist\"><a href=\"https://bestsellingalbums.org/artist/7366\" title=\"LADY GAGA album sales\">LADY GAGA</a></div><div class=\"sales\">Sales: 7,166,944</div><div class=\"rank_mobile\">Rankings:</div><div class=\"ranks_row\"><div class=\"ranks\"><a href=\"https://bestsellingalbums.org/year/2011\" title=\"Best-selling albums of 2011\"><span class=\"ranks_desc_art\">Rank in </span>2011</a> : 4</div><div class=\"ranks\"><a href=\"https://bestsellingalbums.org/decade/2010\" title=\"Best-selling albums of 2010's\"><span class=\"ranks_desc_art\">Rank in </span>2010's</a>: 20</div><div class=\"ranks\"><a href=\"https://bestsellingalbums.org/overall\" title=\"Best-selling albums of all time\">Overall<span class=\"ranks_desc_art\"> rank</span></a> : 429</div></div></div></div><input name=\"IL_IN_ARTICLE\" type=\"hidden\"/><div class=\"album_card\"><div class=\"rank\">21</div><div class=\"cover\"><img class=\"pic\" onerror=\"this.src='../includes/default.png';this.onerror='';\" src=\"../covers/6859.jpg\"/></div><div class=\"data_col\"><div class=\"album\"><a href=\"https://bestsellingalbums.org/album/6859\">MAP OF THE SOUL: 7</a></div><div class=\"artist\"><a href=\"https://bestsellingalbums.org/artist/1884\" title=\"BTS (방탄소년단) album sales\">BTS (방탄소년단)</a></div><div class=\"sales\">Sales: 7,130,621</div><div class=\"rank_mobile\">Rankings:</div><div class=\"ranks_row\"><div class=\"ranks\"><a href=\"https://bestsellingalbums.org/year/2019\" title=\"Best-selling albums of 2019\"><span class=\"ranks_desc_art\">Rank in </span>2019</a> : 2</div><div class=\"ranks\"><a href=\"https://bestsellingalbums.org/decade/2010\" title=\"Best-selling albums of 2010's\"><span class=\"ranks_desc_art\">Rank in </span>2010's</a>: 21</div><div class=\"ranks\"><a href=\"https://bestsellingalbums.org/overall\" title=\"Best-selling albums of all time\">Overall<span class=\"ranks_desc_art\"> rank</span></a> : 431</div></div></div></div><div class=\"album_card\"><div class=\"rank\">22</div><div class=\"cover\"><img class=\"pic\" onerror=\"this.src='../includes/default.png';this.onerror='';\" src=\"../covers/36763.jpg\"/></div><div class=\"data_col\"><div class=\"album\"><a href=\"https://bestsellingalbums.org/album/36763\">BEERBONGS &amp; BENTLEYS</a></div><div class=\"artist\"><a href=\"https://bestsellingalbums.org/artist/10563\" title=\"POST MALONE album sales\">POST MALONE</a></div><div class=\"sales\">Sales: 7,116,118</div><div class=\"rank_mobile\">Rankings:</div><div class=\"ranks_row\"><div class=\"ranks\"><a href=\"https://bestsellingalbums.org/year/2018\" title=\"Best-selling albums of 2018\"><span class=\"ranks_desc_art\">Rank in </span>2018</a> : 1</div><div class=\"ranks\"><a href=\"https://bestsellingalbums.org/decade/2010\" title=\"Best-selling albums of 2010's\"><span class=\"ranks_desc_art\">Rank in </span>2010's</a>: 22</div><div class=\"ranks\"><a href=\"https://bestsellingalbums.org/overall\" title=\"Best-selling albums of all time\">Overall<span class=\"ranks_desc_art\"> rank</span></a> : 432</div></div></div></div><div class=\"album_card\"><div class=\"rank\">23</div><div class=\"cover\"><img class=\"pic\" onerror=\"this.src='../includes/default.png';this.onerror='';\" src=\"../covers/12455.jpg\"/></div><div class=\"data_col\"><div class=\"album\"><a href=\"https://bestsellingalbums.org/album/12455\">TAKE CARE</a></div><div class=\"artist\"><a href=\"https://bestsellingalbums.org/artist/3522\" title=\"DRAKE album sales\">DRAKE</a></div><div class=\"sales\">Sales: 6,920,000</div><div class=\"rank_mobile\">Rankings:</div><div class=\"ranks_row\"><div class=\"ranks\"><a href=\"https://bestsellingalbums.org/year/2011\" title=\"Best-selling albums of 2011\"><span class=\"ranks_desc_art\">Rank in </span>2011</a> : 5</div><div class=\"ranks\"><a href=\"https://bestsellingalbums.org/decade/2010\" title=\"Best-selling albums of 2010's\"><span class=\"ranks_desc_art\">Rank in </span>2010's</a>: 23</div><div class=\"ranks\"><a href=\"https://bestsellingalbums.org/overall\" title=\"Best-selling albums of all time\">Overall<span class=\"ranks_desc_art\"> rank</span></a> : 473</div></div></div></div><div class=\"album_card\"><div class=\"rank\">24</div><div class=\"cover\"><img class=\"pic\" onerror=\"this.src='../includes/default.png';this.onerror='';\" src=\"../covers/45496.jpg\"/></div><div class=\"data_col\"><div class=\"album\"><a href=\"https://bestsellingalbums.org/album/45496\">SPEAK NOW</a></div><div class=\"artist\"><a href=\"https://bestsellingalbums.org/artist/12748\" title=\"TAYLOR SWIFT album sales\">TAYLOR SWIFT</a></div><div class=\"sales\">Sales: 6,917,500</div><div class=\"rank_mobile\">Rankings:</div><div class=\"ranks_row\"><div class=\"ranks\"><a href=\"https://bestsellingalbums.org/year/2010\" title=\"Best-selling albums of 2010\"><span class=\"ranks_desc_art\">Rank in </span>2010</a> : 4</div><div class=\"ranks\"><a href=\"https://bestsellingalbums.org/decade/2010\" title=\"Best-selling albums of 2010's\"><span class=\"ranks_desc_art\">Rank in </span>2010's</a>: 24</div><div class=\"ranks\"><a href=\"https://bestsellingalbums.org/overall\" title=\"Best-selling albums of all time\">Overall<span class=\"ranks_desc_art\"> rank</span></a> : 475</div></div></div></div><div class=\"album_card\"><div class=\"rank\">25</div><div class=\"cover\"><img class=\"pic\" onerror=\"this.src='../includes/default.png';this.onerror='';\" src=\"../covers/23975.jpg\"/></div><div class=\"data_col\"><div class=\"album\"><a href=\"https://bestsellingalbums.org/album/23975\">PRISM</a></div><div class=\"artist\"><a href=\"https://bestsellingalbums.org/artist/6828\" title=\"KATY PERRY album sales\">KATY PERRY</a></div><div class=\"sales\">Sales: 6,692,500</div><div class=\"rank_mobile\">Rankings:</div><div class=\"ranks_row\"><div class=\"ranks\"><a href=\"https://bestsellingalbums.org/year/2013\" title=\"Best-selling albums of 2013\"><span class=\"ranks_desc_art\">Rank in </span>2013</a> : 2</div><div class=\"ranks\"><a href=\"https://bestsellingalbums.org/decade/2010\" title=\"Best-selling albums of 2010's\"><span class=\"ranks_desc_art\">Rank in </span>2010's</a>: 25</div><div class=\"ranks\"><a href=\"https://bestsellingalbums.org/overall\" title=\"Best-selling albums of all time\">Overall<span class=\"ranks_desc_art\"> rank</span></a> : 488</div></div></div></div><div class=\"album_card\"><div class=\"rank\">26</div><div class=\"cover\"><img class=\"pic\" onerror=\"this.src='../includes/default.png';this.onerror='';\" src=\"../covers/25846.jpg\"/></div><div class=\"data_col\"><div class=\"album\"><a href=\"https://bestsellingalbums.org/album/25846\">BORN TO DIE</a></div><div class=\"artist\"><a href=\"https://bestsellingalbums.org/artist/7396\" title=\"LANA DEL REY album sales\">LANA DEL REY</a></div><div class=\"sales\">Sales: 6,674,983</div><div class=\"rank_mobile\">Rankings:</div><div class=\"ranks_row\"><div class=\"ranks\"><a href=\"https://bestsellingalbums.org/year/2012\" title=\"Best-selling albums of 2012\"><span class=\"ranks_desc_art\">Rank in </span>2012</a> : 4</div><div class=\"ranks\"><a href=\"https://bestsellingalbums.org/decade/2010\" title=\"Best-selling albums of 2010's\"><span class=\"ranks_desc_art\">Rank in </span>2010's</a>: 26</div><div class=\"ranks\"><a href=\"https://bestsellingalbums.org/overall\" title=\"Best-selling albums of all time\">Overall<span class=\"ranks_desc_art\"> rank</span></a> : 490</div></div></div></div><div class=\"album_card\"><div class=\"rank\">27</div><div class=\"cover\"><img class=\"pic\" onerror=\"this.src='../includes/default.png';this.onerror='';\" src=\"../covers/38507.jpg\"/></div><div class=\"data_col\"><div class=\"album\"><a href=\"https://bestsellingalbums.org/album/38507\">LOUD</a></div><div class=\"artist\"><a href=\"https://bestsellingalbums.org/artist/11044\" title=\"RIHANNA album sales\">RIHANNA</a></div><div class=\"sales\">Sales: 6,673,000</div><div class=\"rank_mobile\">Rankings:</div><div class=\"ranks_row\"><div class=\"ranks\"><a href=\"https://bestsellingalbums.org/year/2010\" title=\"Best-selling albums of 2010\"><span class=\"ranks_desc_art\">Rank in </span>2010</a> : 5</div><div class=\"ranks\"><a href=\"https://bestsellingalbums.org/decade/2010\" title=\"Best-selling albums of 2010's\"><span class=\"ranks_desc_art\">Rank in </span>2010's</a>: 27</div><div class=\"ranks\"><a href=\"https://bestsellingalbums.org/overall\" title=\"Best-selling albums of all time\">Overall<span class=\"ranks_desc_art\"> rank</span></a> : 492</div></div></div></div><div class=\"album_card\"><div class=\"rank\">28</div><div class=\"cover\"><img class=\"pic\" onerror=\"this.src='../includes/default.png';this.onerror='';\" src=\"../covers/38505.jpg\"/></div><div class=\"data_col\"><div class=\"album\"><a href=\"https://bestsellingalbums.org/album/38505\">ANTI</a></div><div class=\"artist\"><a href=\"https://bestsellingalbums.org/artist/11044\" title=\"RIHANNA album sales\">RIHANNA</a></div><div class=\"sales\">Sales: 6,537,235</div><div class=\"rank_mobile\">Rankings:</div><div class=\"ranks_row\"><div class=\"ranks\"><a href=\"https://bestsellingalbums.org/year/2016\" title=\"Best-selling albums of 2016\"><span class=\"ranks_desc_art\">Rank in </span>2016</a> : 2</div><div class=\"ranks\"><a href=\"https://bestsellingalbums.org/decade/2010\" title=\"Best-selling albums of 2010's\"><span class=\"ranks_desc_art\">Rank in </span>2010's</a>: 28</div><div class=\"ranks\"><a href=\"https://bestsellingalbums.org/overall\" title=\"Best-selling albums of all time\">Overall<span class=\"ranks_desc_art\"> rank</span></a> : 502</div></div></div></div><div class=\"album_card\"><div class=\"rank\">29</div><div class=\"cover\"><img class=\"pic\" onerror=\"this.src='../includes/default.png';this.onerror='';\" src=\"../covers/49504.jpg\"/></div><div class=\"data_col\"><div class=\"album\"><a href=\"https://bestsellingalbums.org/album/49504\">BLURRYFACE</a></div><div class=\"artist\"><a href=\"https://bestsellingalbums.org/artist/13754\" title=\"TWENTY ONE PILOTS album sales\">TWENTY ONE PILOTS</a></div><div class=\"sales\">Sales: 6,500,000</div><div class=\"rank_mobile\">Rankings:</div><div class=\"ranks_row\"><div class=\"ranks\"><a href=\"https://bestsellingalbums.org/year/2015\" title=\"Best-selling albums of 2015\"><span class=\"ranks_desc_art\">Rank in </span>2015</a> : 4</div><div class=\"ranks\"><a href=\"https://bestsellingalbums.org/decade/2010\" title=\"Best-selling albums of 2010's\"><span class=\"ranks_desc_art\">Rank in </span>2010's</a>: 29</div><div class=\"ranks\"><a href=\"https://bestsellingalbums.org/overall\" title=\"Best-selling albums of all time\">Overall<span class=\"ranks_desc_art\"> rank</span></a> : 509</div></div></div></div><div class=\"album_card\"><div class=\"rank\">30</div><div class=\"cover\"><img class=\"pic\" onerror=\"this.src='../includes/default.png';this.onerror='';\" src=\"../covers/36764.jpg\"/></div><div class=\"data_col\"><div class=\"album\"><a href=\"https://bestsellingalbums.org/album/36764\">HOLLYWOOD'S BLEEDING</a></div><div class=\"artist\"><a href=\"https://bestsellingalbums.org/artist/10563\" title=\"POST MALONE album sales\">POST MALONE</a></div><div class=\"sales\">Sales: 6,461,665</div><div class=\"rank_mobile\">Rankings:</div><div class=\"ranks_row\"><div class=\"ranks\"><a href=\"https://bestsellingalbums.org/year/2019\" title=\"Best-selling albums of 2019\"><span class=\"ranks_desc_art\">Rank in </span>2019</a> : 3</div><div class=\"ranks\"><a href=\"https://bestsellingalbums.org/decade/2010\" title=\"Best-selling albums of 2010's\"><span class=\"ranks_desc_art\">Rank in </span>2010's</a>: 30</div><div class=\"ranks\"><a href=\"https://bestsellingalbums.org/overall\" title=\"Best-selling albums of all time\">Overall<span class=\"ranks_desc_art\"> rank</span></a> : 522</div></div></div></div><input name=\"IL_IN_ARTICLE\" type=\"hidden\"/><div class=\"album_card\"><div class=\"rank\">31</div><div class=\"cover\"><img class=\"pic\" onerror=\"this.src='../includes/default.png';this.onerror='';\" src=\"../covers/12453.jpg\"/></div><div class=\"data_col\"><div class=\"album\"><a href=\"https://bestsellingalbums.org/album/12453\">SCORPION</a></div><div class=\"artist\"><a href=\"https://bestsellingalbums.org/artist/3522\" title=\"DRAKE album sales\">DRAKE</a></div><div class=\"sales\">Sales: 6,433,983</div><div class=\"rank_mobile\">Rankings:</div><div class=\"ranks_row\"><div class=\"ranks\"><a href=\"https://bestsellingalbums.org/year/2018\" title=\"Best-selling albums of 2018\"><span class=\"ranks_desc_art\">Rank in </span>2018</a> : 2</div><div class=\"ranks\"><a href=\"https://bestsellingalbums.org/decade/2010\" title=\"Best-selling albums of 2010's\"><span class=\"ranks_desc_art\">Rank in </span>2010's</a>: 31</div><div class=\"ranks\"><a href=\"https://bestsellingalbums.org/overall\" title=\"Best-selling albums of all time\">Overall<span class=\"ranks_desc_art\"> rank</span></a> : 525</div></div></div></div><div class=\"album_card\"><div class=\"rank\">32</div><div class=\"cover\"><img class=\"pic\" onerror=\"this.src='../includes/default.png';this.onerror='';\" src=\"../covers/36765.jpg\"/></div><div class=\"data_col\"><div class=\"album\"><a href=\"https://bestsellingalbums.org/album/36765\">STONEY</a></div><div class=\"artist\"><a href=\"https://bestsellingalbums.org/artist/10563\" title=\"POST MALONE album sales\">POST MALONE</a></div><div class=\"sales\">Sales: 6,371,355</div><div class=\"rank_mobile\">Rankings:</div><div class=\"ranks_row\"><div class=\"ranks\"><a href=\"https://bestsellingalbums.org/year/2016\" title=\"Best-selling albums of 2016\"><span class=\"ranks_desc_art\">Rank in </span>2016</a> : 3</div><div class=\"ranks\"><a href=\"https://bestsellingalbums.org/decade/2010\" title=\"Best-selling albums of 2010's\"><span class=\"ranks_desc_art\">Rank in </span>2010's</a>: 32</div><div class=\"ranks\"><a href=\"https://bestsellingalbums.org/overall\" title=\"Best-selling albums of all time\">Overall<span class=\"ranks_desc_art\"> rank</span></a> : 534</div></div></div></div><div class=\"album_card\"><div class=\"rank\">33</div><div class=\"cover\"><img class=\"pic\" onerror=\"this.src='../includes/default.png';this.onerror='';\" src=\"../covers/34460.jpg\"/></div><div class=\"data_col\"><div class=\"album\"><a href=\"https://bestsellingalbums.org/album/34460\">TAKE ME HOME</a></div><div class=\"artist\"><a href=\"https://bestsellingalbums.org/artist/9852\" title=\"ONE DIRECTION album sales\">ONE DIRECTION</a></div><div class=\"sales\">Sales: 6,334,619</div><div class=\"rank_mobile\">Rankings:</div><div class=\"ranks_row\"><div class=\"ranks\"><a href=\"https://bestsellingalbums.org/year/2012\" title=\"Best-selling albums of 2012\"><span class=\"ranks_desc_art\">Rank in </span>2012</a> : 5</div><div class=\"ranks\"><a href=\"https://bestsellingalbums.org/decade/2010\" title=\"Best-selling albums of 2010's\"><span class=\"ranks_desc_art\">Rank in </span>2010's</a>: 33</div><div class=\"ranks\"><a href=\"https://bestsellingalbums.org/overall\" title=\"Best-selling albums of all time\">Overall<span class=\"ranks_desc_art\"> rank</span></a> : 540</div></div></div></div><div class=\"album_card\"><div class=\"rank\">34</div><div class=\"cover\"><img class=\"pic\" onerror=\"this.src='../includes/default.png';this.onerror='';\" src=\"../covers/43568.jpg\"/></div><div class=\"data_col\"><div class=\"album\"><a href=\"https://bestsellingalbums.org/album/43568\">THE GREATEST SHOWMAN</a></div><div class=\"artist\"><a href=\"https://bestsellingalbums.org/artist/12207\" title=\"SOUNDTRACK album sales\">SOUNDTRACK</a></div><div class=\"sales\">Sales: 6,318,119</div><div class=\"rank_mobile\">Rankings:</div><div class=\"ranks_row\"><div class=\"ranks\"><a href=\"https://bestsellingalbums.org/year/2017\" title=\"Best-selling albums of 2017\"><span class=\"ranks_desc_art\">Rank in </span>2017</a> : 2</div><div class=\"ranks\"><a href=\"https://bestsellingalbums.org/decade/2010\" title=\"Best-selling albums of 2010's\"><span class=\"ranks_desc_art\">Rank in </span>2010's</a>: 34</div><div class=\"ranks\"><a href=\"https://bestsellingalbums.org/overall\" title=\"Best-selling albums of all time\">Overall<span class=\"ranks_desc_art\"> rank</span></a> : 542</div></div></div></div><div class=\"album_card\"><div class=\"rank\">35</div><div class=\"cover\"><img class=\"pic\" onerror=\"this.src='../includes/default.png';this.onerror='';\" src=\"../covers/4969.jpg\"/></div><div class=\"data_col\"><div class=\"album\"><a href=\"https://bestsellingalbums.org/album/4969\">BEYONCÉ</a></div><div class=\"artist\"><a href=\"https://bestsellingalbums.org/artist/1402\" title=\"BEYONCÉ album sales\">BEYONCÉ</a></div><div class=\"sales\">Sales: 6,290,833</div><div class=\"rank_mobile\">Rankings:</div><div class=\"ranks_row\"><div class=\"ranks\"><a href=\"https://bestsellingalbums.org/year/2013\" title=\"Best-selling albums of 2013\"><span class=\"ranks_desc_art\">Rank in </span>2013</a> : 3</div><div class=\"ranks\"><a href=\"https://bestsellingalbums.org/decade/2010\" title=\"Best-selling albums of 2010's\"><span class=\"ranks_desc_art\">Rank in </span>2010's</a>: 35</div><div class=\"ranks\"><a href=\"https://bestsellingalbums.org/overall\" title=\"Best-selling albums of all time\">Overall<span class=\"ranks_desc_art\"> rank</span></a> : 548</div></div></div></div><div class=\"album_card\"><div class=\"rank\">36</div><div class=\"cover\"><img class=\"pic\" onerror=\"this.src='../includes/default.png';this.onerror='';\" src=\"../covers/34874.jpg\"/></div><div class=\"data_col\"><div class=\"album\"><a href=\"https://bestsellingalbums.org/album/34874\">THE TRUTH ABOUT LOVE</a></div><div class=\"artist\"><a href=\"https://bestsellingalbums.org/artist/10001\" title=\"P!NK album sales\">P!NK</a></div><div class=\"sales\">Sales: 6,231,084</div><div class=\"rank_mobile\">Rankings:</div><div class=\"ranks_row\"><div class=\"ranks\"><a href=\"https://bestsellingalbums.org/year/2012\" title=\"Best-selling albums of 2012\"><span class=\"ranks_desc_art\">Rank in </span>2012</a> : 6</div><div class=\"ranks\"><a href=\"https://bestsellingalbums.org/decade/2010\" title=\"Best-selling albums of 2010's\"><span class=\"ranks_desc_art\">Rank in </span>2010's</a>: 36</div><div class=\"ranks\"><a href=\"https://bestsellingalbums.org/overall\" title=\"Best-selling albums of all time\">Overall<span class=\"ranks_desc_art\"> rank</span></a> : 556</div></div></div></div><div class=\"album_card\"><div class=\"rank\">37</div><div class=\"cover\"><img class=\"pic\" onerror=\"this.src='../includes/default.png';this.onerror='';\" src=\"../covers/45495.jpg\"/></div><div class=\"data_col\"><div class=\"album\"><a href=\"https://bestsellingalbums.org/album/45495\">REPUTATION</a></div><div class=\"artist\"><a href=\"https://bestsellingalbums.org/artist/12748\" title=\"TAYLOR SWIFT album sales\">TAYLOR SWIFT</a></div><div class=\"sales\">Sales: 6,186,524</div><div class=\"rank_mobile\">Rankings:</div><div class=\"ranks_row\"><div class=\"ranks\"><a href=\"https://bestsellingalbums.org/year/2017\" title=\"Best-selling albums of 2017\"><span class=\"ranks_desc_art\">Rank in </span>2017</a> : 3</div><div class=\"ranks\"><a href=\"https://bestsellingalbums.org/decade/2010\" title=\"Best-selling albums of 2010's\"><span class=\"ranks_desc_art\">Rank in </span>2010's</a>: 37</div><div class=\"ranks\"><a href=\"https://bestsellingalbums.org/overall\" title=\"Best-selling albums of all time\">Overall<span class=\"ranks_desc_art\"> rank</span></a> : 563</div></div></div></div><div class=\"album_card\"><div class=\"rank\">38</div><div class=\"cover\"><img class=\"pic\" onerror=\"this.src='../includes/default.png';this.onerror='';\" src=\"../covers/56027.jpg\"/></div><div class=\"data_col\"><div class=\"album\"><a href=\"https://bestsellingalbums.org/album/56027\">?</a></div><div class=\"artist\"><a href=\"https://bestsellingalbums.org/artist/14362\" title=\"XXXTENTACION album sales\">XXXTENTACION</a></div><div class=\"sales\">Sales: 6,182,852</div><div class=\"rank_mobile\">Rankings:</div><div class=\"ranks_row\"><div class=\"ranks\"><a href=\"https://bestsellingalbums.org/year/2018\" title=\"Best-selling albums of 2018\"><span class=\"ranks_desc_art\">Rank in </span>2018</a> : 3</div><div class=\"ranks\"><a href=\"https://bestsellingalbums.org/decade/2010\" title=\"Best-selling albums of 2010's\"><span class=\"ranks_desc_art\">Rank in </span>2010's</a>: 38</div><div class=\"ranks\"><a href=\"https://bestsellingalbums.org/overall\" title=\"Best-selling albums of all time\">Overall<span class=\"ranks_desc_art\"> rank</span></a> : 564</div></div></div></div><div class=\"album_card\"><div class=\"rank\">39</div><div class=\"cover\"><img class=\"pic\" onerror=\"this.src='../includes/default.png';this.onerror='';\" src=\"../covers/8686.jpg\"/></div><div class=\"data_col\"><div class=\"album\"><a href=\"https://bestsellingalbums.org/album/8686\">TRAVELLER</a></div><div class=\"artist\"><a href=\"https://bestsellingalbums.org/artist/2405\" title=\"CHRIS STAPLETON album sales\">CHRIS STAPLETON</a></div><div class=\"sales\">Sales: 6,157,000</div><div class=\"rank_mobile\">Rankings:</div><div class=\"ranks_row\"><div class=\"ranks\"><a href=\"https://bestsellingalbums.org/year/2015\" title=\"Best-selling albums of 2015\"><span class=\"ranks_desc_art\">Rank in </span>2015</a> : 5</div><div class=\"ranks\"><a href=\"https://bestsellingalbums.org/decade/2010\" title=\"Best-selling albums of 2010's\"><span class=\"ranks_desc_art\">Rank in </span>2010's</a>: 39</div><div class=\"ranks\"><a href=\"https://bestsellingalbums.org/overall\" title=\"Best-selling albums of all time\">Overall<span class=\"ranks_desc_art\"> rank</span></a> : 568</div></div></div></div><div class=\"album_card\"><div class=\"rank\">40</div><div class=\"cover\"><img class=\"pic\" onerror=\"this.src='../includes/default.png';this.onerror='';\" src=\"../covers/47843.jpg\"/></div><div class=\"data_col\"><div class=\"album\"><a href=\"https://bestsellingalbums.org/album/47843\">STARBOY</a></div><div class=\"artist\"><a href=\"https://bestsellingalbums.org/artist/13284\" title=\"THE WEEKND album sales\">THE WEEKND</a></div><div class=\"sales\">Sales: 6,070,666</div><div class=\"rank_mobile\">Rankings:</div><div class=\"ranks_row\"><div class=\"ranks\"><a href=\"https://bestsellingalbums.org/year/2016\" title=\"Best-selling albums of 2016\"><span class=\"ranks_desc_art\">Rank in </span>2016</a> : 4</div><div class=\"ranks\"><a href=\"https://bestsellingalbums.org/decade/2010\" title=\"Best-selling albums of 2010's\"><span class=\"ranks_desc_art\">Rank in </span>2010's</a>: 40</div><div class=\"ranks\"><a href=\"https://bestsellingalbums.org/overall\" title=\"Best-selling albums of all time\">Overall<span class=\"ranks_desc_art\"> rank</span></a> : 575</div></div></div></div><input name=\"IL_IN_ARTICLE\" type=\"hidden\"/><div class=\"album_card\"><div class=\"rank\">41</div><div class=\"cover\"><img class=\"pic\" onerror=\"this.src='../includes/default.png';this.onerror='';\" src=\"../covers/34461.jpg\"/></div><div class=\"data_col\"><div class=\"album\"><a href=\"https://bestsellingalbums.org/album/34461\">UP ALL NIGHT</a></div><div class=\"artist\"><a href=\"https://bestsellingalbums.org/artist/9852\" title=\"ONE DIRECTION album sales\">ONE DIRECTION</a></div><div class=\"sales\">Sales: 6,046,188</div><div class=\"rank_mobile\">Rankings:</div><div class=\"ranks_row\"><div class=\"ranks\"><a href=\"https://bestsellingalbums.org/year/2011\" title=\"Best-selling albums of 2011\"><span class=\"ranks_desc_art\">Rank in </span>2011</a> : 6</div><div class=\"ranks\"><a href=\"https://bestsellingalbums.org/decade/2010\" title=\"Best-selling albums of 2010's\"><span class=\"ranks_desc_art\">Rank in </span>2010's</a>: 41</div><div class=\"ranks\"><a href=\"https://bestsellingalbums.org/overall\" title=\"Best-selling albums of all time\">Overall<span class=\"ranks_desc_art\"> rank</span></a> : 579</div></div></div></div><div class=\"album_card\"><div class=\"rank\">42</div><div class=\"cover\"><img class=\"pic\" onerror=\"this.src='../includes/default.png';this.onerror='';\" src=\"../covers/34459.jpg\"/></div><div class=\"data_col\"><div class=\"album\"><a href=\"https://bestsellingalbums.org/album/34459\">MIDNIGHT MEMORIES</a></div><div class=\"artist\"><a href=\"https://bestsellingalbums.org/artist/9852\" title=\"ONE DIRECTION album sales\">ONE DIRECTION</a></div><div class=\"sales\">Sales: 6,020,087</div><div class=\"rank_mobile\">Rankings:</div><div class=\"ranks_row\"><div class=\"ranks\"><a href=\"https://bestsellingalbums.org/year/2013\" title=\"Best-selling albums of 2013\"><span class=\"ranks_desc_art\">Rank in </span>2013</a> : 4</div><div class=\"ranks\"><a href=\"https://bestsellingalbums.org/decade/2010\" title=\"Best-selling albums of 2010's\"><span class=\"ranks_desc_art\">Rank in </span>2010's</a>: 42</div><div class=\"ranks\"><a href=\"https://bestsellingalbums.org/overall\" title=\"Best-selling albums of all time\">Overall<span class=\"ranks_desc_art\"> rank</span></a> : 583</div></div></div></div><div class=\"album_card\"><div class=\"rank\">43</div><div class=\"cover\"><img class=\"pic\" onerror=\"this.src='../includes/default.png';this.onerror='';\" src=\"../covers/6860.jpg\"/></div><div class=\"data_col\"><div class=\"album\"><a href=\"https://bestsellingalbums.org/album/6860\">MAP OF THE SOUL: PERSONA</a></div><div class=\"artist\"><a href=\"https://bestsellingalbums.org/artist/1884\" title=\"BTS (방탄소년단) album sales\">BTS (방탄소년단)</a></div><div class=\"sales\">Sales: 6,010,031</div><div class=\"rank_mobile\">Rankings:</div><div class=\"ranks_row\"><div class=\"ranks\"><a href=\"https://bestsellingalbums.org/year/2019\" title=\"Best-selling albums of 2019\"><span class=\"ranks_desc_art\">Rank in </span>2019</a> : 4</div><div class=\"ranks\"><a href=\"https://bestsellingalbums.org/decade/2010\" title=\"Best-selling albums of 2010's\"><span class=\"ranks_desc_art\">Rank in </span>2010's</a>: 43</div><div class=\"ranks\"><a href=\"https://bestsellingalbums.org/overall\" title=\"Best-selling albums of all time\">Overall<span class=\"ranks_desc_art\"> rank</span></a> : 584</div></div></div></div><div class=\"album_card\"><div class=\"rank\">44</div><div class=\"cover\"><img class=\"pic\" onerror=\"this.src='../includes/default.png';this.onerror='';\" src=\"../covers/23018.jpg\"/></div><div class=\"data_col\"><div class=\"album\"><a href=\"https://bestsellingalbums.org/album/23018\">GOODBYE &amp; GOOD RIDDANCE</a></div><div class=\"artist\"><a href=\"https://bestsellingalbums.org/artist/6559\" title=\"JUICE WRLD album sales\">JUICE WRLD</a></div><div class=\"sales\">Sales: 6,002,713</div><div class=\"rank_mobile\">Rankings:</div><div class=\"ranks_row\"><div class=\"ranks\"><a href=\"https://bestsellingalbums.org/year/2018\" title=\"Best-selling albums of 2018\"><span class=\"ranks_desc_art\">Rank in </span>2018</a> : 4</div><div class=\"ranks\"><a href=\"https://bestsellingalbums.org/decade/2010\" title=\"Best-selling albums of 2010's\"><span class=\"ranks_desc_art\">Rank in </span>2010's</a>: 44</div><div class=\"ranks\"><a href=\"https://bestsellingalbums.org/overall\" title=\"Best-selling albums of all time\">Overall<span class=\"ranks_desc_art\"> rank</span></a> : 585</div></div></div></div><div class=\"album_card\"><div class=\"rank\">45</div><div class=\"cover\"><img class=\"pic\" onerror=\"this.src='../includes/default.png';this.onerror='';\" src=\"../covers/9346.jpg\"/></div><div class=\"data_col\"><div class=\"album\"><a href=\"https://bestsellingalbums.org/album/9346\">A HEAD FULL OF DREAMS</a></div><div class=\"artist\"><a href=\"https://bestsellingalbums.org/artist/2587\" title=\"COLDPLAY album sales\">COLDPLAY</a></div><div class=\"sales\">Sales: 6,000,000</div><div class=\"rank_mobile\">Rankings:</div><div class=\"ranks_row\"><div class=\"ranks\"><a href=\"https://bestsellingalbums.org/year/2015\" title=\"Best-selling albums of 2015\"><span class=\"ranks_desc_art\">Rank in </span>2015</a> : 6</div><div class=\"ranks\"><a href=\"https://bestsellingalbums.org/decade/2010\" title=\"Best-selling albums of 2010's\"><span class=\"ranks_desc_art\">Rank in </span>2010's</a>: 45</div><div class=\"ranks\"><a href=\"https://bestsellingalbums.org/overall\" title=\"Best-selling albums of all time\">Overall<span class=\"ranks_desc_art\"> rank</span></a> : 586</div></div></div></div><div class=\"album_card\"><div class=\"rank\">46</div><div class=\"cover\"><img class=\"pic\" onerror=\"this.src='../includes/default.png';this.onerror='';\" src=\"../covers/28330.jpg\"/></div><div class=\"data_col\"><div class=\"album\"><a href=\"https://bestsellingalbums.org/album/28330\">THE HEIST</a></div><div class=\"artist\"><a href=\"https://bestsellingalbums.org/artist/8171\" title=\"MACKLEMORE album sales\">MACKLEMORE</a> &amp; <a href=\"https://bestsellingalbums.org/artist/8172\" title=\"RYAN LEWIS album sales\">RYAN LEWIS</a></div><div class=\"sales\">Sales: 5,858,500</div><div class=\"rank_mobile\">Rankings:</div><div class=\"ranks_row\"><div class=\"ranks\"><a href=\"https://bestsellingalbums.org/year/2012\" title=\"Best-selling albums of 2012\"><span class=\"ranks_desc_art\">Rank in </span>2012</a> : 7</div><div class=\"ranks\"><a href=\"https://bestsellingalbums.org/decade/2010\" title=\"Best-selling albums of 2010's\"><span class=\"ranks_desc_art\">Rank in </span>2010's</a>: 46</div><div class=\"ranks\"><a href=\"https://bestsellingalbums.org/overall\" title=\"Best-selling albums of all time\">Overall<span class=\"ranks_desc_art\"> rank</span></a> : 631</div></div></div></div><div class=\"album_card\"><div class=\"rank\">47</div><div class=\"cover\"><img class=\"pic\" onerror=\"this.src='../includes/default.png';this.onerror='';\" src=\"../covers/13762.jpg\"/></div><div class=\"data_col\"><div class=\"album\"><a href=\"https://bestsellingalbums.org/album/13762\">THE MARSHALL MATHERS LP 2</a></div><div class=\"artist\"><a href=\"https://bestsellingalbums.org/artist/3873\" title=\"EMINEM album sales\">EMINEM</a></div><div class=\"sales\">Sales: 5,790,318</div><div class=\"rank_mobile\">Rankings:</div><div class=\"ranks_row\"><div class=\"ranks\"><a href=\"https://bestsellingalbums.org/year/2013\" title=\"Best-selling albums of 2013\"><span class=\"ranks_desc_art\">Rank in </span>2013</a> : 5</div><div class=\"ranks\"><a href=\"https://bestsellingalbums.org/decade/2010\" title=\"Best-selling albums of 2010's\"><span class=\"ranks_desc_art\">Rank in </span>2010's</a>: 47</div><div class=\"ranks\"><a href=\"https://bestsellingalbums.org/overall\" title=\"Best-selling albums of all time\">Overall<span class=\"ranks_desc_art\"> rank</span></a> : 638</div></div></div></div><div class=\"album_card\"><div class=\"rank\">48</div><div class=\"cover\"><img class=\"pic\" onerror=\"this.src='../includes/default.png';this.onerror='';\" src=\"../covers/45493.jpg\"/></div><div class=\"data_col\"><div class=\"album\"><a href=\"https://bestsellingalbums.org/album/45493\">LOVER</a></div><div class=\"artist\"><a href=\"https://bestsellingalbums.org/artist/12748\" title=\"TAYLOR SWIFT album sales\">TAYLOR SWIFT</a></div><div class=\"sales\">Sales: 5,686,733</div><div class=\"rank_mobile\">Rankings:</div><div class=\"ranks_row\"><div class=\"ranks\"><a href=\"https://bestsellingalbums.org/year/2019\" title=\"Best-selling albums of 2019\"><span class=\"ranks_desc_art\">Rank in </span>2019</a> : 5</div><div class=\"ranks\"><a href=\"https://bestsellingalbums.org/decade/2010\" title=\"Best-selling albums of 2010's\"><span class=\"ranks_desc_art\">Rank in </span>2010's</a>: 48</div><div class=\"ranks\"><a href=\"https://bestsellingalbums.org/overall\" title=\"Best-selling albums of all time\">Overall<span class=\"ranks_desc_art\"> rank</span></a> : 651</div></div></div></div><div class=\"album_card\"><div class=\"rank\">49</div><div class=\"cover\"><img class=\"pic\" onerror=\"this.src='../includes/default.png';this.onerror='';\" src=\"../covers/21088.jpg\"/></div><div class=\"data_col\"><div class=\"album\"><a href=\"https://bestsellingalbums.org/album/21088\">WATCH THE THRONE</a></div><div class=\"artist\"><a href=\"https://bestsellingalbums.org/artist/6042\" title=\"JAY-Z album sales\">JAY-Z</a> &amp; <a href=\"https://bestsellingalbums.org/artist/6733\" title=\"KANYE WEST album sales\">KANYE WEST</a></div><div class=\"sales\">Sales: 5,550,000</div><div class=\"rank_mobile\">Rankings:</div><div class=\"ranks_row\"><div class=\"ranks\"><a href=\"https://bestsellingalbums.org/year/2011\" title=\"Best-selling albums of 2011\"><span class=\"ranks_desc_art\">Rank in </span>2011</a> : 7</div><div class=\"ranks\"><a href=\"https://bestsellingalbums.org/decade/2010\" title=\"Best-selling albums of 2010's\"><span class=\"ranks_desc_art\">Rank in </span>2010's</a>: 49</div><div class=\"ranks\"><a href=\"https://bestsellingalbums.org/overall\" title=\"Best-selling albums of all time\">Overall<span class=\"ranks_desc_art\"> rank</span></a> : 665</div></div></div></div><div class=\"album_card\"><div class=\"rank\">50</div><div class=\"cover\"><img class=\"pic\" onerror=\"this.src='../includes/default.png';this.onerror='';\" src=\"../covers/28046.jpg\"/></div><div class=\"data_col\"><div class=\"album\"><a href=\"https://bestsellingalbums.org/album/28046\">THIS ONE'S FOR YOU</a></div><div class=\"artist\"><a href=\"https://bestsellingalbums.org/artist/8095\" title=\"LUKE COMBS album sales\">LUKE COMBS</a></div><div class=\"sales\">Sales: 5,490,000</div><div class=\"rank_mobile\">Rankings:</div><div class=\"ranks_row\"><div class=\"ranks\"><a href=\"https://bestsellingalbums.org/year/2017\" title=\"Best-selling albums of 2017\"><span class=\"ranks_desc_art\">Rank in </span>2017</a> : 4</div><div class=\"ranks\"><a href=\"https://bestsellingalbums.org/decade/2010\" title=\"Best-selling albums of 2010's\"><span class=\"ranks_desc_art\">Rank in </span>2010's</a>: 50</div><div class=\"ranks\"><a href=\"https://bestsellingalbums.org/overall\" title=\"Best-selling albums of all time\">Overall<span class=\"ranks_desc_art\"> rank</span></a> : 677</div></div></div></div><div class=\"pages_row\"><div class=\"current_page\">1</div><div class=\"page_item\"><a href=\"https://bestsellingalbums.org/decade/2010-2\">2</a></div><div class=\"page_item\"><a href=\"https://bestsellingalbums.org/decade/2010-3\">3</a></div><div class=\"page_item\"><a href=\"https://bestsellingalbums.org/decade/2010-4\">4</a></div><div class=\"no_link\">...</div><div class=\"page_item\"><a href=\"https://bestsellingalbums.org/decade/2010-251\">251</a></div><div class=\"page_item\"><a href=\"https://bestsellingalbums.org/decade/2010-2\">next</a></div></div>\n",
       "</p></div><!-- .entry-content -->\n",
       "</main><!-- .site-main -->\n",
       "</div><!-- .content-area -->\n",
       "</div><!-- .site-content -->\n",
       "<footer class=\"site-footer\" id=\"colophon\" role=\"contentinfo\">\n",
       "</footer><!-- .site-footer -->\n",
       "<script src=\"https://bestsellingalbums.org/wp-content/themes/twentyfifteen/js/skip-link-focus-fix.js?ver=20141028\"></script>\n",
       "<script>\n",
       "    var screenReaderText = {\"expand\":\"<span class=\\\"screen-reader-text\\\">expand child menu<\\/span>\",\"collapse\":\"<span class=\\\"screen-reader-text\\\">collapse child menu<\\/span>\"};\n",
       "</script>\n",
       "<script src=\"https://bestsellingalbums.org/wp-content/themes/twentyfifteen/js/functions.js?ver=20171218\"></script>\n",
       "<script src=\"https://bestsellingalbums.org/wp-includes/js/wp-embed.min.js?ver=5.4.7\"></script>\n",
       "<script type=\"text/javascript\">\n",
       "    var infolinks_pid = 3414279;\n",
       "    var infolinks_wsid = 0;\n",
       "</script>\n",
       "<script src=\"//resources.infolinks.com/js/infolinks_main.js\" type=\"text/javascript\"></script>\n",
       "</div></body>\n",
       "</html>"
      ]
     },
     "execution_count": 46,
     "metadata": {},
     "output_type": "execute_result"
    }
   ],
   "source": [
    "# place url into variable\n",
    "# call function\n",
    "\n",
    "url = \"https://bestsellingalbums.org/decade/2010\"\n",
    "makeSoup(url)"
   ]
  },
  {
   "cell_type": "code",
   "execution_count": 48,
   "metadata": {
    "collapsed": true,
    "jupyter": {
     "outputs_hidden": true
    }
   },
   "outputs": [
    {
     "name": "stdout",
     "output_type": "stream",
     "text": [
      "\n",
      "<!DOCTYPE html>\n",
      "\n",
      "<html class=\"no-js\" lang=\"en-US\">\n",
      "<head>\n",
      "<meta charset=\"utf-8\"/>\n",
      "<meta content=\"width=device-width\" name=\"viewport\"/>\n",
      "<link href=\"https://gmpg.org/xfn/11\" rel=\"profile\"/>\n",
      "<link href=\"https://bestsellingalbums.org/xmlrpc.php\" rel=\"pingback\"/>\n",
      "<!--[if lt IE 9]>\n",
      "    <script src=\"https://bestsellingalbums.org/wp-content/themes/twentyfifteen/js/html5.js?ver=3.7.0\"></script>\n",
      "    <![endif]-->\n",
      "<script>(function(html){html.className = html.className.replace(/\\bno-js\\b/,'js')})(document.documentElement);</script>\n",
      "<!-- This site is optimized with the Yoast SEO plugin v14.5 - https://yoast.com/wordpress/plugins/seo/ -->\n",
      "<title>Best-selling albums of 2010's : places 51 - 100</title>\n",
      "<meta content=\"Best-selling albums of 2010's : places 51 - 100\" name=\"description\">\n",
      "<meta content=\"index, follow\" name=\"robots\">\n",
      "<meta content=\"index, follow, max-snippet:-1, max-image-preview:large, max-video-preview:-1\" name=\"googlebot\"/>\n",
      "<meta content=\"index, follow, max-snippet:-1, max-image-preview:large, max-video-preview:-1\" name=\"bingbot\"/>\n",
      "<link href=\"https://bestsellingalbums.org/decade/2010-2\" rel=\"canonical\">\n",
      "<meta content=\"en_US\" property=\"og:locale\"/>\n",
      "<meta content=\"website\" property=\"og:type\"/>\n",
      "<meta content=\"Best-selling albums of 2010's : places 51 - 100\" property=\"og:title\"/>\n",
      "<meta content=\"\" property=\"og:description\"/>\n",
      "<meta content=\"BestSellingAlbums.org\" property=\"og:site_name\"/>\n",
      "<meta content=\"2021-10-16T18:31:34+00:00\" property=\"article:modified_time\"/>\n",
      "<meta content=\"summary_large_image\" name=\"twitter:card\"/>\n",
      "<meta content=\"summary_large_image\" name=\"twitter:card\"/>\n",
      "<!-- / Yoast SEO plugin. -->\n",
      "<link href=\"//www.googletagmanager.com\" rel=\"dns-prefetch\">\n",
      "<link href=\"//fonts.googleapis.com\" rel=\"dns-prefetch\"/>\n",
      "<link href=\"//s.w.org\" rel=\"dns-prefetch\"/>\n",
      "<link crossorigin=\"\" href=\"https://fonts.gstatic.com\" rel=\"preconnect\"/>\n",
      "<link href=\"https://bestsellingalbums.org/feed/\" rel=\"alternate\" title=\"BestSellingAlbums.org » Feed\" type=\"application/rss+xml\"/>\n",
      "<link href=\"https://bestsellingalbums.org/comments/feed/\" rel=\"alternate\" title=\"BestSellingAlbums.org » Comments Feed\" type=\"application/rss+xml\"/>\n",
      "<!-- This site uses the Google Analytics by MonsterInsights plugin v7.11.0 - Using Analytics tracking - https://www.monsterinsights.com/ -->\n",
      "<script data-cfasync=\"false\" type=\"text/javascript\">\n",
      "        var mi_version         = '7.11.0';\n",
      "        var mi_track_user      = true;\n",
      "        var mi_no_track_reason = '';\n",
      "\n",
      "        var disableStr = 'ga-disable-UA-172469367-1';\n",
      "\n",
      "        /* Function to detect opted out users */\n",
      "        function __gaTrackerIsOptedOut() {\n",
      "            return document.cookie.indexOf(disableStr + '=true') > -1;\n",
      "        }\n",
      "\n",
      "        /* Disable tracking if the opt-out cookie exists. */\n",
      "        if ( __gaTrackerIsOptedOut() ) {\n",
      "            window[disableStr] = true;\n",
      "        }\n",
      "\n",
      "        /* Opt-out function */\n",
      "        function __gaTrackerOptout() {\n",
      "            document.cookie = disableStr + '=true; expires=Thu, 31 Dec 2099 23:59:59 UTC; path=/';\n",
      "            window[disableStr] = true;\n",
      "        }\n",
      "\n",
      "        if ( 'undefined' === typeof gaOptout ) {\n",
      "            function gaOptout() {\n",
      "                __gaTrackerOptout();\n",
      "            }\n",
      "        }\n",
      "\n",
      "        if ( mi_track_user ) {\n",
      "            (function(i,s,o,g,r,a,m){i['GoogleAnalyticsObject']=r;i[r]=i[r]||function(){\n",
      "                (i[r].q=i[r].q||[]).push(arguments)},i[r].l=1*new Date();a=s.createElement(o),\n",
      "                m=s.getElementsByTagName(o)[0];a.async=1;a.src=g;m.parentNode.insertBefore(a,m)\n",
      "            })(window,document,'script','//www.google-analytics.com/analytics.js','__gaTracker');\n",
      "\n",
      "            __gaTracker('create', 'UA-172469367-1', 'auto');\n",
      "            __gaTracker('set', 'forceSSL', true);\n",
      "            __gaTracker('require', 'displayfeatures');\n",
      "            __gaTracker('require', 'linkid', 'linkid.js');\n",
      "            __gaTracker('send','pageview');\n",
      "        } else {\n",
      "            console.log( \"\" );\n",
      "            (function() {\n",
      "                /* https://developers.google.com/analytics/devguides/collection/analyticsjs/ */\n",
      "                var noopfn = function() {\n",
      "                    return null;\n",
      "                };\n",
      "                var noopnullfn = function() {\n",
      "                    return null;\n",
      "                };\n",
      "                var Tracker = function() {\n",
      "                    return null;\n",
      "                };\n",
      "                var p = Tracker.prototype;\n",
      "                p.get = noopfn;\n",
      "                p.set = noopfn;\n",
      "                p.send = noopfn;\n",
      "                var __gaTracker = function() {\n",
      "                    var len = arguments.length;\n",
      "                    if ( len === 0 ) {\n",
      "                        return;\n",
      "                    }\n",
      "                    var f = arguments[len-1];\n",
      "                    if ( typeof f !== 'object' || f === null || typeof f.hitCallback !== 'function' ) {\n",
      "                        console.log( 'Not running function __gaTracker(' + arguments[0] + \" ....) because you are not being tracked. \" + mi_no_track_reason );\n",
      "                        return;\n",
      "                    }\n",
      "                    try {\n",
      "                        f.hitCallback();\n",
      "                    } catch (ex) {\n",
      "\n",
      "                    }\n",
      "                };\n",
      "                __gaTracker.create = function() {\n",
      "                    return new Tracker();\n",
      "                };\n",
      "                __gaTracker.getByName = noopnullfn;\n",
      "                __gaTracker.getAll = function() {\n",
      "                    return [];\n",
      "                };\n",
      "                __gaTracker.remove = noopfn;\n",
      "                window['__gaTracker'] = __gaTracker;\n",
      "            })();\n",
      "        }\n",
      "    </script>\n",
      "<!-- / Google Analytics by MonsterInsights -->\n",
      "<script>\n",
      "        window._wpemojiSettings = {\"baseUrl\":\"https:\\/\\/s.w.org\\/images\\/core\\/emoji\\/12.0.0-1\\/72x72\\/\",\"ext\":\".png\",\"svgUrl\":\"https:\\/\\/s.w.org\\/images\\/core\\/emoji\\/12.0.0-1\\/svg\\/\",\"svgExt\":\".svg\",\"source\":{\"concatemoji\":\"https:\\/\\/bestsellingalbums.org\\/wp-includes\\/js\\/wp-emoji-release.min.js?ver=5.4.7\"}};\n",
      "        /*! This file is auto-generated */\n",
      "        !function(e,a,t){var n,r,o,i=a.createElement(\"canvas\"),p=i.getContext&&i.getContext(\"2d\");function s(e,t){var a=String.fromCharCode;p.clearRect(0,0,i.width,i.height),p.fillText(a.apply(this,e),0,0);e=i.toDataURL();return p.clearRect(0,0,i.width,i.height),p.fillText(a.apply(this,t),0,0),e===i.toDataURL()}function c(e){var t=a.createElement(\"script\");t.src=e,t.defer=t.type=\"text/javascript\",a.getElementsByTagName(\"head\")[0].appendChild(t)}for(o=Array(\"flag\",\"emoji\"),t.supports={everything:!0,everythingExceptFlag:!0},r=0;r<o.length;r++)t.supports[o[r]]=function(e){if(!p||!p.fillText)return!1;switch(p.textBaseline=\"top\",p.font=\"600 32px Arial\",e){case\"flag\":return s([127987,65039,8205,9895,65039],[127987,65039,8203,9895,65039])?!1:!s([55356,56826,55356,56819],[55356,56826,8203,55356,56819])&&!s([55356,57332,56128,56423,56128,56418,56128,56421,56128,56430,56128,56423,56128,56447],[55356,57332,8203,56128,56423,8203,56128,56418,8203,56128,56421,8203,56128,56430,8203,56128,56423,8203,56128,56447]);case\"emoji\":return!s([55357,56424,55356,57342,8205,55358,56605,8205,55357,56424,55356,57340],[55357,56424,55356,57342,8203,55358,56605,8203,55357,56424,55356,57340])}return!1}(o[r]),t.supports.everything=t.supports.everything&&t.supports[o[r]],\"flag\"!==o[r]&&(t.supports.everythingExceptFlag=t.supports.everythingExceptFlag&&t.supports[o[r]]);t.supports.everythingExceptFlag=t.supports.everythingExceptFlag&&!t.supports.flag,t.DOMReady=!1,t.readyCallback=function(){t.DOMReady=!0},t.supports.everything||(n=function(){t.readyCallback()},a.addEventListener?(a.addEventListener(\"DOMContentLoaded\",n,!1),e.addEventListener(\"load\",n,!1)):(e.attachEvent(\"onload\",n),a.attachEvent(\"onreadystatechange\",function(){\"complete\"===a.readyState&&t.readyCallback()})),(n=t.source||{}).concatemoji?c(n.concatemoji):n.wpemoji&&n.twemoji&&(c(n.twemoji),c(n.wpemoji)))}(window,document,window._wpemojiSettings);\n",
      "    </script>\n",
      "<style>\n",
      "        img.wp-smiley,\n",
      "        img.emoji {\n",
      "            display: inline !important;\n",
      "            border: none !important;\n",
      "            box-shadow: none !important;\n",
      "            height: 1em !important;\n",
      "            width: 1em !important;\n",
      "            margin: 0 .07em !important;\n",
      "            vertical-align: -0.1em !important;\n",
      "            background: none !important;\n",
      "            padding: 0 !important;\n",
      "        }\n",
      "    </style>\n",
      "<link href=\"https://bestsellingalbums.org/wp-includes/css/dist/block-library/style.min.css?ver=5.4.7\" id=\"wp-block-library-css\" media=\"all\" rel=\"stylesheet\"/>\n",
      "<link href=\"https://bestsellingalbums.org/wp-includes/css/dist/block-library/theme.min.css?ver=5.4.7\" id=\"wp-block-library-theme-css\" media=\"all\" rel=\"stylesheet\"/>\n",
      "<link href=\"https://fonts.googleapis.com/css?family=Noto+Sans%3A400italic%2C700italic%2C400%2C700%7CNoto+Serif%3A400italic%2C700italic%2C400%2C700%7CInconsolata%3A400%2C700&amp;subset=latin%2Clatin-ext&amp;display=fallback\" id=\"twentyfifteen-fonts-css\" media=\"all\" rel=\"stylesheet\"/>\n",
      "<link href=\"https://bestsellingalbums.org/wp-content/themes/twentyfifteen/genericons/genericons.css?ver=3.2\" id=\"genericons-css\" media=\"all\" rel=\"stylesheet\"/>\n",
      "<link href=\"https://bestsellingalbums.org/wp-content/themes/twentyfifteen/style.css?ver=20230704\" id=\"twentyfifteen-style-css\" media=\"all\" rel=\"stylesheet\"/>\n",
      "<link href=\"https://bestsellingalbums.org/wp-content/themes/twentyfifteen/css/blocks.css?ver=20190102\" id=\"twentyfifteen-block-style-css\" media=\"all\" rel=\"stylesheet\"/>\n",
      "<!--[if lt IE 9]>\n",
      "    <link rel='stylesheet' id='twentyfifteen-ie-css'  href='https://bestsellingalbums.org/wp-content/themes/twentyfifteen/css/ie.css?ver=20170916' media='all' />\n",
      "    <![endif]-->\n",
      "<!--[if lt IE 8]>\n",
      "    <link rel='stylesheet' id='twentyfifteen-ie7-css'  href='https://bestsellingalbums.org/wp-content/themes/twentyfifteen/css/ie7.css?ver=20141210' media='all' />\n",
      "    <![endif]-->\n",
      "<script>\n",
      "        var monsterinsights_frontend = {\"js_events_tracking\":\"true\",\"download_extensions\":\"doc,pdf,ppt,zip,xls,docx,pptx,xlsx\",\"inbound_paths\":\"[{\\\"path\\\":\\\"\\\\\\/go\\\\\\/\\\",\\\"label\\\":\\\"affiliate\\\"},{\\\"path\\\":\\\"\\\\\\/recommend\\\\\\/\\\",\\\"label\\\":\\\"affiliate\\\"}]\",\"home_url\":\"https:\\/\\/bestsellingalbums.org\",\"hash_tracking\":\"false\"};\n",
      "    </script>\n",
      "<script src=\"https://bestsellingalbums.org/wp-content/plugins/google-analytics-for-wordpress/assets/js/frontend.min.js?ver=7.11.0\"></script>\n",
      "<script src=\"https://bestsellingalbums.org/wp-includes/js/jquery/jquery.js?ver=1.12.4-wp\"></script>\n",
      "<script src=\"https://bestsellingalbums.org/wp-includes/js/jquery/jquery-migrate.min.js?ver=1.4.1\"></script>\n",
      "<script async=\"\" src=\"https://www.googletagmanager.com/gtag/js?id=UA-172469367-1\"></script>\n",
      "<script>\n",
      "        window.dataLayer = window.dataLayer || [];function gtag(){dataLayer.push(arguments);}\n",
      "        gtag('js', new Date());\n",
      "        gtag('set', 'developer_id.dZTNiMT', true);\n",
      "        gtag('config', 'UA-172469367-1', {\"anonymize_ip\":true} );\n",
      "    </script>\n",
      "<link href=\"https://bestsellingalbums.org/wp-json/\" rel=\"https://api.w.org/\"/>\n",
      "<link href=\"https://bestsellingalbums.org/xmlrpc.php?rsd\" rel=\"EditURI\" title=\"RSD\" type=\"application/rsd+xml\"/>\n",
      "<link href=\"https://bestsellingalbums.org/wp-includes/wlwmanifest.xml\" rel=\"wlwmanifest\" type=\"application/wlwmanifest+xml\"/>\n",
      "<meta content=\"WordPress 5.4.7\" name=\"generator\"/>\n",
      "<link href=\"https://bestsellingalbums.org/decade/2010-2\" rel=\"shortlink\"/>\n",
      "<link href=\"https://bestsellingalbums.org/wp-json/oembed/1.0/embed?url=https%3A%2F%2Fbestsellingalbums.org%2F\" rel=\"alternate\" type=\"application/json+oembed\"/>\n",
      "<link href=\"https://bestsellingalbums.org/wp-json/oembed/1.0/embed?url=https%3A%2F%2Fbestsellingalbums.org%2F&amp;format=xml\" rel=\"alternate\" type=\"text/xml+oembed\"/>\n",
      "<meta content=\"Site Kit by Google 1.23.0\" name=\"generator\"/> <style id=\"twentyfifteen-header-css\" type=\"text/css\">\n",
      "        .site-header {\n",
      "            padding-top: 14px;\n",
      "            padding-bottom: 14px;\n",
      "        }\n",
      "\n",
      "        .site-branding {\n",
      "            min-height: 42px;\n",
      "        }\n",
      "\n",
      "        @media screen and (min-width: 46.25em) {\n",
      "            .site-header {\n",
      "                padding-top: 21px;\n",
      "                padding-bottom: 21px;\n",
      "            }\n",
      "            .site-branding {\n",
      "                min-height: 56px;\n",
      "            }\n",
      "        }\n",
      "        @media screen and (min-width: 55em) {\n",
      "            .site-header {\n",
      "                padding-top: 25px;\n",
      "                padding-bottom: 25px;\n",
      "            }\n",
      "            .site-branding {\n",
      "                min-height: 62px;\n",
      "            }\n",
      "        }\n",
      "        @media screen and (min-width: 59.6875em) {\n",
      "            .site-header {\n",
      "                padding-top: 0;\n",
      "                padding-bottom: 0;\n",
      "            }\n",
      "            .site-branding {\n",
      "                min-height: 0;\n",
      "            }\n",
      "        }\n",
      "        .site-title,\n",
      "        .site-description {\n",
      "            clip: rect(1px, 1px, 1px, 1px);\n",
      "            position: absolute;\n",
      "        }\n",
      "    </style>\n",
      "<!-- Yandex.Metrika counter -->\n",
      "<script type=\"text/javascript\"> (function(m,e,t,r,i,k,a){m[i]=m[i]||function(){(m[i].a=m[i].a||[]).push(arguments)}; m[i].l=1*new Date();k=e.createElement(t),a=e.getElementsByTagName(t)[0],k.async=1,k.src=r,a.parentNode.insertBefore(k,a)}) (window, document, \"script\", \"https://mc.yandex.ru/metrika/tag.js\", \"ym\"); ym(58642729, \"init\", {  id:58642729, clickmap:true, trackLinks:true, webvisor:true, accurateTrackBounce:true }); </script>\n",
      "<noscript><div><img alt=\"\" src=\"https://mc.yandex.ru/watch/58642729\" style=\"position:absolute; left:-9999px;\"/></div></noscript>\n",
      "<!-- /Yandex.Metrika counter -->\n",
      "<link href=\"/apple-touch-icon.png\" rel=\"apple-touch-icon\" sizes=\"180x180\"/>\n",
      "<link href=\"/favicon-32x32.png\" rel=\"icon\" sizes=\"32x32\" type=\"image/png\"/>\n",
      "<link href=\"/favicon-16x16.png\" rel=\"icon\" sizes=\"16x16\" type=\"image/png\"/>\n",
      "<link href=\"/site.webmanifest\" rel=\"manifest\"/>\n",
      "<script crossorigin=\"anonymous\" integrity=\"sha256-9/aliU8dGd2tb6OSsuzixeV4y/faTqgFtohetphbbj0=\" src=\"https://code.jquery.com/jquery-3.5.1.min.js\"></script>\n",
      "<link href=\"https://bestsellingalbums.org/wp-content/themes/twentyfifteen/css/database.css\" rel=\"stylesheet\" type=\"text/css\"/>\n",
      "<script charset=\"utf8\" src=\"https://cdn.datatables.net/1.10.24/js/jquery.dataTables.js\" type=\"text/javascript\"></script>\n",
      "</link></link></meta></meta></head>\n",
      "<body class=\"home page-template-default page page-id-432 wp-custom-logo wp-embed-responsive elementor-default elementor-kit-2273\" data-rsssl=\"1\">\n",
      "<div class=\"hfeed site\" id=\"page\">\n",
      "<a class=\"skip-link screen-reader-text\" href=\"#content\">Skip to content</a>\n",
      "<div class=\"sidebar\" id=\"sidebar\" style=\"position: fixed; bottom: auto;\">\n",
      "<header class=\"site-header\" id=\"masthead\" role=\"banner\">\n",
      "<div class=\"site-branding\">\n",
      "<a class=\"custom-logo-link\" href=\"https://bestsellingalbums.org/\" rel=\"home\"><img alt=\"BestSellingAlbums.org\" class=\"custom-logo\" height=\"153\" src=\"https://bestsellingalbums.org/wp-content/uploads/2020/06/logo-1.png\" width=\"160\"/></a> <p class=\"site-title\"><a href=\"https://bestsellingalbums.org/\" rel=\"home\">BestSellingAlbums.org</a></p>\n",
      "<p class=\"site-description\">global archive of albums sales, charts and industry statistics</p>\n",
      "<button class=\"secondary-toggle\">Menu and widgets</button>\n",
      "</div><!-- .site-branding -->\n",
      "</header><!-- .site-header -->\n",
      "<div class=\"secondary\" id=\"secondary\">\n",
      "<nav class=\"main-navigation\" id=\"site-navigation\" role=\"navigation\">\n",
      "<div class=\"menu-menu3-0-container\"><ul class=\"nav-menu\" id=\"menu-menu3-0\"><li class=\"menu-item menu-item-type-custom menu-item-object-custom menu-item-2973\" id=\"menu-item-2973\"><a href=\"https://bestsellingalbums.org/about/\">About</a></li>\n",
      "<li class=\"menu-item menu-item-type-post_type menu-item-object-page menu-item-4417\" id=\"menu-item-4417\"><a href=\"https://bestsellingalbums.org/latest/\">Latest</a></li>\n",
      "<li class=\"menu-item menu-item-type-custom menu-item-object-custom menu-item-2842\" id=\"menu-item-2842\"><a href=\"https://bestsellingalbums.org/search-database/\">Database search</a></li>\n",
      "<li class=\"menu-item menu-item-type-custom menu-item-object-custom menu-item-2843\" id=\"menu-item-2843\"><a href=\"https://bestsellingalbums.org/artist-index/\">Artist index</a></li>\n",
      "<li class=\"menu-item menu-item-type-custom menu-item-object-custom menu-item-has-children menu-item-2844\" id=\"menu-item-2844\"><a>Best-selling albums by year, decade</a><button aria-expanded=\"false\" class=\"dropdown-toggle\"><span class=\"screen-reader-text\">expand child menu</span></button>\n",
      "<ul class=\"sub-menu\">\n",
      "<li class=\"menu-item menu-item-type-custom menu-item-object-custom menu-item-2845\" id=\"menu-item-2845\"><a href=\"https://bestsellingalbums.org/decade/1940\">1940’s</a></li>\n",
      "<li class=\"menu-item menu-item-type-custom menu-item-object-custom menu-item-2846\" id=\"menu-item-2846\"><a href=\"https://bestsellingalbums.org/decade/1950\">1950’s</a></li>\n",
      "<li class=\"menu-item menu-item-type-custom menu-item-object-custom menu-item-2847\" id=\"menu-item-2847\"><a href=\"https://bestsellingalbums.org/decade/1960\">1960’s</a></li>\n",
      "<li class=\"menu-item menu-item-type-custom menu-item-object-custom menu-item-2848\" id=\"menu-item-2848\"><a href=\"https://bestsellingalbums.org/decade/1970\">1970’s</a></li>\n",
      "<li class=\"menu-item menu-item-type-custom menu-item-object-custom menu-item-2849\" id=\"menu-item-2849\"><a href=\"https://bestsellingalbums.org/decade/1980\">1980’s</a></li>\n",
      "<li class=\"menu-item menu-item-type-custom menu-item-object-custom menu-item-2850\" id=\"menu-item-2850\"><a href=\"https://bestsellingalbums.org/decade/1990\">1990’s</a></li>\n",
      "<li class=\"menu-item menu-item-type-custom menu-item-object-custom menu-item-2851\" id=\"menu-item-2851\"><a href=\"https://bestsellingalbums.org/decade/2000\">2000’s</a></li>\n",
      "<li class=\"menu-item menu-item-type-custom menu-item-object-custom menu-item-2852\" id=\"menu-item-2852\"><a href=\"https://bestsellingalbums.org/decade/2010\">2010’s</a></li>\n",
      "<li class=\"menu-item menu-item-type-custom menu-item-object-custom menu-item-2853\" id=\"menu-item-2853\"><a href=\"https://bestsellingalbums.org/decade/2020\">2020’s</a></li>\n",
      "<li class=\"menu-item menu-item-type-custom menu-item-object-custom menu-item-2854\" id=\"menu-item-2854\"><a href=\"https://bestsellingalbums.org/overall\">Overall</a></li>\n",
      "</ul>\n",
      "</li>\n",
      "<li class=\"menu-item menu-item-type-custom menu-item-object-custom menu-item-2915\" id=\"menu-item-2915\"><a href=\"https://bestsellingalbums.org/best-selling-albums-by-country/\">Best-selling albums by country</a></li>\n",
      "<li class=\"menu-item menu-item-type-custom menu-item-object-custom menu-item-has-children menu-item-4418\" id=\"menu-item-4418\"><a>Best-selling video albums</a><button aria-expanded=\"false\" class=\"dropdown-toggle\"><span class=\"screen-reader-text\">expand child menu</span></button>\n",
      "<ul class=\"sub-menu\">\n",
      "<li class=\"menu-item menu-item-type-custom menu-item-object-custom menu-item-4419\" id=\"menu-item-4419\"><a href=\"https://bestsellingalbums.org/video/decade/1980\">1980’s</a></li>\n",
      "<li class=\"menu-item menu-item-type-custom menu-item-object-custom menu-item-4420\" id=\"menu-item-4420\"><a href=\"https://bestsellingalbums.org/video/decade/1990\">1990’s</a></li>\n",
      "<li class=\"menu-item menu-item-type-custom menu-item-object-custom menu-item-4421\" id=\"menu-item-4421\"><a href=\"https://bestsellingalbums.org/video/decade/2000\">2000’s</a></li>\n",
      "<li class=\"menu-item menu-item-type-custom menu-item-object-custom menu-item-4422\" id=\"menu-item-4422\"><a href=\"https://bestsellingalbums.org/video/decade/2010\">2010’s</a></li>\n",
      "<li class=\"menu-item menu-item-type-custom menu-item-object-custom menu-item-4423\" id=\"menu-item-4423\"><a href=\"https://bestsellingalbums.org/video/decade/2020\">2020’s</a></li>\n",
      "<li class=\"menu-item menu-item-type-custom menu-item-object-custom menu-item-4424\" id=\"menu-item-4424\"><a href=\"https://bestsellingalbums.org/video/overall\">Overall</a></li>\n",
      "<li class=\"menu-item menu-item-type-custom menu-item-object-custom menu-item-4425\" id=\"menu-item-4425\"><a href=\"https://bestsellingalbums.org/best-selling-video-albums-by-country/\">By country</a></li>\n",
      "</ul>\n",
      "</li>\n",
      "<li class=\"menu-item menu-item-type-custom menu-item-object-custom menu-item-2924\" id=\"menu-item-2924\"><a href=\"https://bestsellingalbums.org/lists\">Lists</a></li>\n",
      "<li class=\"menu-item menu-item-type-custom menu-item-object-custom menu-item-has-children menu-item-2841\" id=\"menu-item-2841\"><a href=\"https://bestsellingalbums.org/rus/\">Русский раздел</a><button aria-expanded=\"false\" class=\"dropdown-toggle\"><span class=\"screen-reader-text\">expand child menu</span></button>\n",
      "<ul class=\"sub-menu\">\n",
      "<li class=\"menu-item menu-item-type-custom menu-item-object-custom menu-item-2911\" id=\"menu-item-2911\"><a href=\"https://bestsellingalbums.org/charts/spotify/\">Самые прослушиваемые альбомы Spotify</a></li>\n",
      "<li class=\"menu-item menu-item-type-custom menu-item-object-custom menu-item-2912\" id=\"menu-item-2912\"><a href=\"https://bestsellingalbums.org/charts/vk-albums/\">Самые прослушиваемые альбомы VK Music</a></li>\n",
      "<li class=\"menu-item menu-item-type-custom menu-item-object-custom menu-item-2913\" id=\"menu-item-2913\"><a href=\"https://bestsellingalbums.org/charts/overall/\">Самые прослушиваемые альбомы в России</a></li>\n",
      "<li class=\"menu-item menu-item-type-custom menu-item-object-custom menu-item-2914\" id=\"menu-item-2914\"><a href=\"https://bestsellingalbums.org/tirazi/\">Тиражи пластинок в СССР и России</a></li>\n",
      "</ul>\n",
      "</li>\n",
      "</ul></div> </nav><!-- .main-navigation -->\n",
      "</div><!-- .secondary -->\n",
      "</div><!-- .sidebar -->\n",
      "<div class=\"site-content\" id=\"content\">\n",
      "<div class=\"content-area\" id=\"primary\">\n",
      "<main class=\"site-main\" id=\"main\" role=\"main\">\n",
      "<header class=\"entry-header\">\n",
      "<h1 class=\"head_first\">Best-selling albums of 2010's : places 51 - 100</h1>\n",
      "<!-- year panel -->\n",
      "<details>\n",
      "<summary class=\"open_year\">Open to select another chart: by year, by decade or all time\n",
      "    </summary>\n",
      "<div class=\"year_box\">\n",
      "<div class=\"all_time_mobile\"><a href=\"https://bestsellingalbums.org/overall\" id=\"decade\" title=\"Best-selling albums of all time\">All\n",
      "                time</a></div>\n",
      "<div class=\"decade_link\"><a href=\"https://bestsellingalbums.org/decade/2020\" id=\"decade\" title=\"Best-selling albums of 2020's\">2020s</a>\n",
      "</div>\n",
      "<div class=\"year_link\"><a href=\"https://bestsellingalbums.org/year/2020\" title=\"Best-selling albums of 2020\">2020</a></div>\n",
      "<div class=\"year_link\"><a href=\"https://bestsellingalbums.org/year/2021\" title=\"Best-selling albums of 2021\">2021</a></div>\n",
      "<div class=\"year_link\"><a href=\"https://bestsellingalbums.org/year/2022\" title=\"Best-selling albums of 2022\">2022</a></div>\n",
      "<div class=\"year_link\"><a href=\"https://bestsellingalbums.org/year/2023\" title=\"Best-selling albums of 2023\">2023</a></div>\n",
      "<div class=\"all_time\"><a href=\"https://bestsellingalbums.org/overall\" id=\"decade\" title=\"Best-selling albums of all time\">All time</a></div>\n",
      "<div class=\"decade_link\"><a href=\"https://bestsellingalbums.org/decade/2010\" id=\"decade\" title=\"Best-selling albums of 2010's\">2010s</a>\n",
      "</div>\n",
      "<div class=\"year_link\"><a href=\"https://bestsellingalbums.org/year/2010\" title=\"Best-selling albums of 2010\">2010</a></div>\n",
      "<div class=\"year_link\"><a href=\"https://bestsellingalbums.org/year/2011\" title=\"Best-selling albums of 2011\">2011</a></div>\n",
      "<div class=\"year_link\"><a href=\"https://bestsellingalbums.org/year/2012\" title=\"Best-selling albums of 2012\">2012</a></div>\n",
      "<div class=\"year_link\"><a href=\"https://bestsellingalbums.org/year/2013\" title=\"Best-selling albums of 2013\">2013</a></div>\n",
      "<div class=\"year_link\"><a href=\"https://bestsellingalbums.org/year/2014\" title=\"Best-selling albums of 2014\">2014</a></div>\n",
      "<div class=\"year_link\"><a href=\"https://bestsellingalbums.org/year/2015\" title=\"Best-selling albums of 2015\">2015</a></div>\n",
      "<div class=\"year_link\"><a href=\"https://bestsellingalbums.org/year/2016\" title=\"Best-selling albums of 2016\">2016</a></div>\n",
      "<div class=\"year_link\"><a href=\"https://bestsellingalbums.org/year/2017\" title=\"Best-selling albums of 2017\">2017</a></div>\n",
      "<div class=\"year_link\"><a href=\"https://bestsellingalbums.org/year/2018\" title=\"Best-selling albums of 2018\">2018</a></div>\n",
      "<div class=\"year_link\"><a href=\"https://bestsellingalbums.org/year/2019\" title=\"Best-selling albums of 2019\">2019</a></div>\n",
      "<div class=\"decade_link\"><a href=\"https://bestsellingalbums.org/decade/2000\" id=\"decade\" title=\"Best-selling albums of 2000's\">2000s</a>\n",
      "</div>\n",
      "<div class=\"year_link\"><a href=\"https://bestsellingalbums.org/year/2000\" title=\"Best-selling albums of 2000\">2000</a></div>\n",
      "<div class=\"year_link\"><a href=\"https://bestsellingalbums.org/year/2001\" title=\"Best-selling albums of 2001\">2001</a></div>\n",
      "<div class=\"year_link\"><a href=\"https://bestsellingalbums.org/year/2002\" title=\"Best-selling albums of 2002\">2002</a></div>\n",
      "<div class=\"year_link\"><a href=\"https://bestsellingalbums.org/year/2003\" title=\"Best-selling albums of 2003\">2003</a></div>\n",
      "<div class=\"year_link\"><a href=\"https://bestsellingalbums.org/year/2004\" title=\"Best-selling albums of 2004\">2004</a></div>\n",
      "<div class=\"year_link\"><a href=\"https://bestsellingalbums.org/year/2005\" title=\"Best-selling albums of 2005\">2005</a></div>\n",
      "<div class=\"year_link\"><a href=\"https://bestsellingalbums.org/year/2006\" title=\"Best-selling albums of 2006\">2006</a></div>\n",
      "<div class=\"year_link\"><a href=\"https://bestsellingalbums.org/year/2007\" title=\"Best-selling albums of 2007\">2007</a></div>\n",
      "<div class=\"year_link\"><a href=\"https://bestsellingalbums.org/year/2008\" title=\"Best-selling albums of 2008\">2008</a></div>\n",
      "<div class=\"year_link\"><a href=\"https://bestsellingalbums.org/year/2009\" title=\"Best-selling albums of 2009\">2009</a></div>\n",
      "<div class=\"decade_link\"><a href=\"https://bestsellingalbums.org/decade/1990\" id=\"decade\" title=\"Best-selling albums of 1990's\">1990s</a>\n",
      "</div>\n",
      "<div class=\"year_link\"><a href=\"https://bestsellingalbums.org/year/1990\" title=\"Best-selling albums of 1990\">1990</a></div>\n",
      "<div class=\"year_link\"><a href=\"https://bestsellingalbums.org/year/1991\" title=\"Best-selling albums of 1991\">1991</a></div>\n",
      "<div class=\"year_link\"><a href=\"https://bestsellingalbums.org/year/1992\" title=\"Best-selling albums of 1992\">1992</a></div>\n",
      "<div class=\"year_link\"><a href=\"https://bestsellingalbums.org/year/1993\" title=\"Best-selling albums of 1993\">1993</a></div>\n",
      "<div class=\"year_link\"><a href=\"https://bestsellingalbums.org/year/1994\" title=\"Best-selling albums of 1994\">1994</a></div>\n",
      "<div class=\"year_link\"><a href=\"https://bestsellingalbums.org/year/1995\" title=\"Best-selling albums of 1995\">1995</a></div>\n",
      "<div class=\"year_link\"><a href=\"https://bestsellingalbums.org/year/1996\" title=\"Best-selling albums of 1996\">1996</a></div>\n",
      "<div class=\"year_link\"><a href=\"https://bestsellingalbums.org/year/1997\" title=\"Best-selling albums of 1997\">1997</a></div>\n",
      "<div class=\"year_link\"><a href=\"https://bestsellingalbums.org/year/1998\" title=\"Best-selling albums of 1998\">1998</a></div>\n",
      "<div class=\"year_link\"><a href=\"https://bestsellingalbums.org/year/1999\" title=\"Best-selling albums of 1999\">1999</a></div>\n",
      "<div class=\"decade_link\"><a href=\"https://bestsellingalbums.org/decade/1980\" id=\"decade\" title=\"Best-selling albums of 1980's\">1980s</a>\n",
      "</div>\n",
      "<div class=\"year_link\"><a href=\"https://bestsellingalbums.org/year/1980\" title=\"Best-selling albums of 1980\">1980</a></div>\n",
      "<div class=\"year_link\"><a href=\"https://bestsellingalbums.org/year/1981\" title=\"Best-selling albums of 1981\">1981</a></div>\n",
      "<div class=\"year_link\"><a href=\"https://bestsellingalbums.org/year/1982\" title=\"Best-selling albums of 1982\">1982</a></div>\n",
      "<div class=\"year_link\"><a href=\"https://bestsellingalbums.org/year/1983\" title=\"Best-selling albums of 1983\">1983</a></div>\n",
      "<div class=\"year_link\"><a href=\"https://bestsellingalbums.org/year/1984\" title=\"Best-selling albums of 1984\">1984</a></div>\n",
      "<div class=\"year_link\"><a href=\"https://bestsellingalbums.org/year/1985\" title=\"Best-selling albums of 1985\">1985</a></div>\n",
      "<div class=\"year_link\"><a href=\"https://bestsellingalbums.org/year/1986\" title=\"Best-selling albums of 1986\">1986</a></div>\n",
      "<div class=\"year_link\"><a href=\"https://bestsellingalbums.org/year/1987\" title=\"Best-selling albums of 1987\">1987</a></div>\n",
      "<div class=\"year_link\"><a href=\"https://bestsellingalbums.org/year/1988\" title=\"Best-selling albums of 1988\">1988</a></div>\n",
      "<div class=\"year_link\"><a href=\"https://bestsellingalbums.org/year/1989\" title=\"Best-selling albums of 1989\">1989</a></div>\n",
      "<div class=\"decade_link\"><a href=\"https://bestsellingalbums.org/decade/1970\" id=\"decade\" title=\"Best-selling albums of 1970's\">1970s</a>\n",
      "</div>\n",
      "<div class=\"year_link\"><a href=\"https://bestsellingalbums.org/year/1970\" title=\"Best-selling albums of 1970\">1970</a></div>\n",
      "<div class=\"year_link\"><a href=\"https://bestsellingalbums.org/year/1971\" title=\"Best-selling albums of 1971\">1971</a></div>\n",
      "<div class=\"year_link\"><a href=\"https://bestsellingalbums.org/year/1972\" title=\"Best-selling albums of 1972\">1972</a></div>\n",
      "<div class=\"year_link\"><a href=\"https://bestsellingalbums.org/year/1973\" title=\"Best-selling albums of 1973\">1973</a></div>\n",
      "<div class=\"year_link\"><a href=\"https://bestsellingalbums.org/year/1974\" title=\"Best-selling albums of 1974\">1974</a></div>\n",
      "<div class=\"year_link\"><a href=\"https://bestsellingalbums.org/year/1975\" title=\"Best-selling albums of 1975\">1975</a></div>\n",
      "<div class=\"year_link\"><a href=\"https://bestsellingalbums.org/year/1976\" title=\"Best-selling albums of 1976\">1976</a></div>\n",
      "<div class=\"year_link\"><a href=\"https://bestsellingalbums.org/year/1977\" title=\"Best-selling albums of 1977\">1977</a></div>\n",
      "<div class=\"year_link\"><a href=\"https://bestsellingalbums.org/year/1978\" title=\"Best-selling albums of 1978\">1978</a></div>\n",
      "<div class=\"year_link\"><a href=\"https://bestsellingalbums.org/year/1979\" title=\"Best-selling albums of 1979\">1979</a></div>\n",
      "<div class=\"decade_link\"><a href=\"https://bestsellingalbums.org/decade/1960\" id=\"decade\" title=\"Best-selling albums of 1960's\">1960s</a>\n",
      "</div>\n",
      "<div class=\"year_link\"><a href=\"https://bestsellingalbums.org/year/1960\" title=\"Best-selling albums of 1960\">1960</a></div>\n",
      "<div class=\"year_link\"><a href=\"https://bestsellingalbums.org/year/1961\" title=\"Best-selling albums of 1961\">1961</a></div>\n",
      "<div class=\"year_link\"><a href=\"https://bestsellingalbums.org/year/1962\" title=\"Best-selling albums of 1962\">1962</a></div>\n",
      "<div class=\"year_link\"><a href=\"https://bestsellingalbums.org/year/1963\" title=\"Best-selling albums of 1963\">1963</a></div>\n",
      "<div class=\"year_link\"><a href=\"https://bestsellingalbums.org/year/1964\" title=\"Best-selling albums of 1964\">1964</a></div>\n",
      "<div class=\"year_link\"><a href=\"https://bestsellingalbums.org/year/1965\" title=\"Best-selling albums of 1965\">1965</a></div>\n",
      "<div class=\"year_link\"><a href=\"https://bestsellingalbums.org/year/1966\" title=\"Best-selling albums of 1966\">1966</a></div>\n",
      "<div class=\"year_link\"><a href=\"https://bestsellingalbums.org/year/1967\" title=\"Best-selling albums of 1967\">1967</a></div>\n",
      "<div class=\"year_link\"><a href=\"https://bestsellingalbums.org/year/1968\" title=\"Best-selling albums of 1968\">1968</a></div>\n",
      "<div class=\"year_link\"><a href=\"https://bestsellingalbums.org/year/1969\" title=\"Best-selling albums of 1969\">1969</a></div>\n",
      "<div class=\"decade_link\"><a href=\"https://bestsellingalbums.org/decade/1950\" id=\"decade\" title=\"Best-selling albums of 1950's\">1950s</a>\n",
      "</div>\n",
      "<div class=\"year_link\"><a href=\"https://bestsellingalbums.org/year/1950\" title=\"Best-selling albums of 1950\">1950</a></div>\n",
      "<div class=\"year_link\"><a href=\"https://bestsellingalbums.org/year/1951\" title=\"Best-selling albums of 1951\">1951</a></div>\n",
      "<div class=\"year_link\"><a href=\"https://bestsellingalbums.org/year/1952\" title=\"Best-selling albums of 1952\">1952</a></div>\n",
      "<div class=\"year_link\"><a href=\"https://bestsellingalbums.org/year/1953\" title=\"Best-selling albums of 1953\">1953</a></div>\n",
      "<div class=\"year_link\"><a href=\"https://bestsellingalbums.org/year/1954\" title=\"Best-selling albums of 1954\">1954</a></div>\n",
      "<div class=\"year_link\"><a href=\"https://bestsellingalbums.org/year/1955\" title=\"Best-selling albums of 1955\">1955</a></div>\n",
      "<div class=\"year_link\"><a href=\"https://bestsellingalbums.org/year/1956\" title=\"Best-selling albums of 1956\">1956</a></div>\n",
      "<div class=\"year_link\"><a href=\"https://bestsellingalbums.org/year/1957\" title=\"Best-selling albums of 1957\">1957</a></div>\n",
      "<div class=\"year_link\"><a href=\"https://bestsellingalbums.org/year/1958\" title=\"Best-selling albums of 1958\">1958</a></div>\n",
      "<div class=\"year_link\"><a href=\"https://bestsellingalbums.org/year/1959\" title=\"Best-selling albums of 1959\">1959</a></div>\n",
      "<div class=\"decade_link\"><a href=\"https://bestsellingalbums.org/decade/1940\" id=\"decade\" title=\"Best-selling albums of 1940's\">1940s</a>\n",
      "</div>\n",
      "<div class=\"year_link\"><a href=\"https://bestsellingalbums.org/year/1940\" title=\"Best-selling albums of 1940\">1940</a></div>\n",
      "<div class=\"year_link\"><a href=\"https://bestsellingalbums.org/year/1941\" title=\"Best-selling albums of 1941\">1941</a></div>\n",
      "<div class=\"year_link\"><a href=\"https://bestsellingalbums.org/year/1942\" title=\"Best-selling albums of 1942\">1942</a></div>\n",
      "<div class=\"year_link\"><a href=\"https://bestsellingalbums.org/year/1943\" title=\"Best-selling albums of 1943\">1943</a></div>\n",
      "<div class=\"year_link\"><a href=\"https://bestsellingalbums.org/year/1944\" title=\"Best-selling albums of 1944\">1944</a></div>\n",
      "<div class=\"year_link\"><a href=\"https://bestsellingalbums.org/year/1945\" title=\"Best-selling albums of 1945\">1945</a></div>\n",
      "<div class=\"year_link\"><a href=\"https://bestsellingalbums.org/year/1946\" title=\"Best-selling albums of 1946\">1946</a></div>\n",
      "<div class=\"year_link\"><a href=\"https://bestsellingalbums.org/year/1947\" title=\"Best-selling albums of 1947\">1947</a></div>\n",
      "<div class=\"year_link\"><a href=\"https://bestsellingalbums.org/year/1948\" title=\"Best-selling albums of 1948\">1948</a></div>\n",
      "<div class=\"year_link\"><a href=\"https://bestsellingalbums.org/year/1949\" title=\"Best-selling albums of 1949\">1949</a></div>\n",
      "</div>\n",
      "</details>\n",
      "<!-- year panel end--><div class=\"pages_row\"><div class=\"page_item\"><a href=\"https://bestsellingalbums.org/decade/2010\">prev</a></div><div class=\"page_item\"><a href=\"https://bestsellingalbums.org/decade/2010\">1</a></div><div class=\"current_page\">2</div><div class=\"page_item\"><a href=\"https://bestsellingalbums.org/decade/2010-3\">3</a></div><div class=\"no_link\">...</div><div class=\"page_item\"><a href=\"https://bestsellingalbums.org/decade/2010-251\">251</a></div><div class=\"page_item\"><a href=\"https://bestsellingalbums.org/decade/2010-3\">next</a></div></div> </header><!-- .entry-header -->\n",
      "<div class=\"entry-content\">\n",
      "<div class=\"album_card\"><div class=\"rank\">51</div><div class=\"cover\"><img class=\"pic\" onerror=\"this.src='../includes/default.png';this.onerror='';\" src=\"../covers/49109.jpg\"/></div><div class=\"data_col\"><div class=\"album\"><a href=\"https://bestsellingalbums.org/album/49109\">ASTROWORLD</a></div><div class=\"artist\"><a href=\"https://bestsellingalbums.org/artist/13637\" title=\"TRAVIS SCOTT album sales\">TRAVIS SCOTT</a></div><div class=\"sales\">Sales: 5,337,811</div><div class=\"rank_mobile\">Rankings:</div><div class=\"ranks_row\"><div class=\"ranks\"><a href=\"https://bestsellingalbums.org/year/2018\" title=\"Best-selling albums of 2018\"><span class=\"ranks_desc_art\">Rank in </span>2018</a> : 5</div><div class=\"ranks\"><a href=\"https://bestsellingalbums.org/decade/2010\" title=\"Best-selling albums of 2010's\"><span class=\"ranks_desc_art\">Rank in </span>2010's</a>: 51</div><div class=\"ranks\"><a href=\"https://bestsellingalbums.org/overall\" title=\"Best-selling albums of all time\">Overall<span class=\"ranks_desc_art\"> rank</span></a> : 708</div></div></div></div><div class=\"album_card\"><div class=\"rank\">52</div><div class=\"cover\"><img class=\"pic\" onerror=\"this.src='../includes/default.png';this.onerror='';\" src=\"../covers/23315.jpg\"/></div><div class=\"data_col\"><div class=\"album\"><a href=\"https://bestsellingalbums.org/album/23315\">MY WORLD 2.0 / MY WORLDS</a></div><div class=\"artist\"><a href=\"https://bestsellingalbums.org/artist/6646\" title=\"JUSTIN BIEBER album sales\">JUSTIN BIEBER</a></div><div class=\"sales\">Sales: 5,235,395</div><div class=\"rank_mobile\">Rankings:</div><div class=\"ranks_row\"><div class=\"ranks\"><a href=\"https://bestsellingalbums.org/year/2010\" title=\"Best-selling albums of 2010\"><span class=\"ranks_desc_art\">Rank in </span>2010</a> : 6</div><div class=\"ranks\"><a href=\"https://bestsellingalbums.org/decade/2010\" title=\"Best-selling albums of 2010's\"><span class=\"ranks_desc_art\">Rank in </span>2010's</a>: 52</div><div class=\"ranks\"><a href=\"https://bestsellingalbums.org/overall\" title=\"Best-selling albums of all time\">Overall<span class=\"ranks_desc_art\"> rank</span></a> : 722</div></div></div></div><div class=\"album_card\"><div class=\"rank\">53</div><div class=\"cover\"><img class=\"pic\" onerror=\"this.src='../includes/default.png';this.onerror='';\" src=\"../covers/4966.jpg\"/></div><div class=\"data_col\"><div class=\"album\"><a href=\"https://bestsellingalbums.org/album/4966\">4</a></div><div class=\"artist\"><a href=\"https://bestsellingalbums.org/artist/1402\" title=\"BEYONCÉ album sales\">BEYONCÉ</a></div><div class=\"sales\">Sales: 5,177,045</div><div class=\"rank_mobile\">Rankings:</div><div class=\"ranks_row\"><div class=\"ranks\"><a href=\"https://bestsellingalbums.org/year/2011\" title=\"Best-selling albums of 2011\"><span class=\"ranks_desc_art\">Rank in </span>2011</a> : 8</div><div class=\"ranks\"><a href=\"https://bestsellingalbums.org/decade/2010\" title=\"Best-selling albums of 2010's\"><span class=\"ranks_desc_art\">Rank in </span>2010's</a>: 53</div><div class=\"ranks\"><a href=\"https://bestsellingalbums.org/overall\" title=\"Best-selling albums of all time\">Overall<span class=\"ranks_desc_art\"> rank</span></a> : 735</div></div></div></div><div class=\"album_card\"><div class=\"rank\">54</div><div class=\"cover\"><img class=\"pic\" onerror=\"this.src='../includes/default.png';this.onerror='';\" src=\"../covers/26906.jpg\"/></div><div class=\"data_col\"><div class=\"album\"><a href=\"https://bestsellingalbums.org/album/26906\">THA CARTER IV</a></div><div class=\"artist\"><a href=\"https://bestsellingalbums.org/artist/7721\" title=\"LIL WAYNE album sales\">LIL WAYNE</a></div><div class=\"sales\">Sales: 5,110,000</div><div class=\"rank_mobile\">Rankings:</div><div class=\"ranks_row\"><div class=\"ranks\"><a href=\"https://bestsellingalbums.org/year/2011\" title=\"Best-selling albums of 2011\"><span class=\"ranks_desc_art\">Rank in </span>2011</a> : 9</div><div class=\"ranks\"><a href=\"https://bestsellingalbums.org/decade/2010\" title=\"Best-selling albums of 2010's\"><span class=\"ranks_desc_art\">Rank in </span>2010's</a>: 54</div><div class=\"ranks\"><a href=\"https://bestsellingalbums.org/overall\" title=\"Best-selling albums of all time\">Overall<span class=\"ranks_desc_art\"> rank</span></a> : 750</div></div></div></div><div class=\"album_card\"><div class=\"rank\">55</div><div class=\"cover\"><img class=\"pic\" onerror=\"this.src='../includes/default.png';this.onerror='';\" src=\"../covers/6855.jpg\"/></div><div class=\"data_col\"><div class=\"album\"><a href=\"https://bestsellingalbums.org/album/6855\">LOVE YOURSELF: ANSWER</a></div><div class=\"artist\"><a href=\"https://bestsellingalbums.org/artist/1884\" title=\"BTS (방탄소년단) album sales\">BTS (방탄소년단)</a></div><div class=\"sales\">Sales: 5,093,437</div><div class=\"rank_mobile\">Rankings:</div><div class=\"ranks_row\"><div class=\"ranks\"><a href=\"https://bestsellingalbums.org/year/2018\" title=\"Best-selling albums of 2018\"><span class=\"ranks_desc_art\">Rank in </span>2018</a> : 6</div><div class=\"ranks\"><a href=\"https://bestsellingalbums.org/decade/2010\" title=\"Best-selling albums of 2010's\"><span class=\"ranks_desc_art\">Rank in </span>2010's</a>: 55</div><div class=\"ranks\"><a href=\"https://bestsellingalbums.org/overall\" title=\"Best-selling albums of all time\">Overall<span class=\"ranks_desc_art\"> rank</span></a> : 759</div></div></div></div><div class=\"album_card\"><div class=\"rank\">56</div><div class=\"cover\"><img class=\"pic\" onerror=\"this.src='../includes/default.png';this.onerror='';\" src=\"../covers/18267.jpg\"/></div><div class=\"data_col\"><div class=\"album\"><a href=\"https://bestsellingalbums.org/album/18267\">FINE LINE</a></div><div class=\"artist\"><a href=\"https://bestsellingalbums.org/artist/5201\" title=\"HARRY STYLES album sales\">HARRY STYLES</a></div><div class=\"sales\">Sales: 5,037,799</div><div class=\"rank_mobile\">Rankings:</div><div class=\"ranks_row\"><div class=\"ranks\"><a href=\"https://bestsellingalbums.org/year/2019\" title=\"Best-selling albums of 2019\"><span class=\"ranks_desc_art\">Rank in </span>2019</a> : 6</div><div class=\"ranks\"><a href=\"https://bestsellingalbums.org/decade/2010\" title=\"Best-selling albums of 2010's\"><span class=\"ranks_desc_art\">Rank in </span>2010's</a>: 56</div><div class=\"ranks\"><a href=\"https://bestsellingalbums.org/overall\" title=\"Best-selling albums of all time\">Overall<span class=\"ranks_desc_art\"> rank</span></a> : 771</div></div></div></div><div class=\"album_card\"><div class=\"rank\">57</div><div class=\"cover\"><img class=\"pic\" onerror=\"this.src='../includes/default.png';this.onerror='';\" src=\"../covers/3678.jpg\"/></div><div class=\"data_col\"><div class=\"album\"><a href=\"https://bestsellingalbums.org/album/3678\">TRUE</a></div><div class=\"artist\"><a href=\"https://bestsellingalbums.org/artist/1014\" title=\"AVICII album sales\">AVICII</a></div><div class=\"sales\">Sales: 5,000,000</div><div class=\"rank_mobile\">Rankings:</div><div class=\"ranks_row\"><div class=\"ranks\"><a href=\"https://bestsellingalbums.org/year/2013\" title=\"Best-selling albums of 2013\"><span class=\"ranks_desc_art\">Rank in </span>2013</a> : 6</div><div class=\"ranks\"><a href=\"https://bestsellingalbums.org/decade/2010\" title=\"Best-selling albums of 2010's\"><span class=\"ranks_desc_art\">Rank in </span>2010's</a>: 57</div><div class=\"ranks\"><a href=\"https://bestsellingalbums.org/overall\" title=\"Best-selling albums of all time\">Overall<span class=\"ranks_desc_art\"> rank</span></a> : 777</div></div></div></div><div class=\"album_card\"><div class=\"rank\">58</div><div class=\"cover\"><img class=\"pic\" onerror=\"this.src='../includes/default.png';this.onerror='';\" src=\"../covers/19809.jpg\"/></div><div class=\"data_col\"><div class=\"album\"><a href=\"https://bestsellingalbums.org/album/19809\">EVOLVE</a></div><div class=\"artist\"><a href=\"https://bestsellingalbums.org/artist/5658\" title=\"IMAGINE DRAGONS album sales\">IMAGINE DRAGONS</a></div><div class=\"sales\">Sales: 4,930,478</div><div class=\"rank_mobile\">Rankings:</div><div class=\"ranks_row\"><div class=\"ranks\"><a href=\"https://bestsellingalbums.org/year/2017\" title=\"Best-selling albums of 2017\"><span class=\"ranks_desc_art\">Rank in </span>2017</a> : 5</div><div class=\"ranks\"><a href=\"https://bestsellingalbums.org/decade/2010\" title=\"Best-selling albums of 2010's\"><span class=\"ranks_desc_art\">Rank in </span>2010's</a>: 58</div><div class=\"ranks\"><a href=\"https://bestsellingalbums.org/overall\" title=\"Best-selling albums of all time\">Overall<span class=\"ranks_desc_art\"> rank</span></a> : 817</div></div></div></div><div class=\"album_card\"><div class=\"rank\">59</div><div class=\"cover\"><img class=\"pic\" onerror=\"this.src='../includes/default.png';this.onerror='';\" src=\"../covers/25782.jpg\"/></div><div class=\"data_col\"><div class=\"album\"><a href=\"https://bestsellingalbums.org/album/25782\">NEED YOU NOW</a></div><div class=\"artist\"><a href=\"https://bestsellingalbums.org/artist/7365\" title=\"LADY ANTEBELLUM album sales\">LADY ANTEBELLUM</a></div><div class=\"sales\">Sales: 4,913,500</div><div class=\"rank_mobile\">Rankings:</div><div class=\"ranks_row\"><div class=\"ranks\"><a href=\"https://bestsellingalbums.org/year/2010\" title=\"Best-selling albums of 2010\"><span class=\"ranks_desc_art\">Rank in </span>2010</a> : 7</div><div class=\"ranks\"><a href=\"https://bestsellingalbums.org/decade/2010\" title=\"Best-selling albums of 2010's\"><span class=\"ranks_desc_art\">Rank in </span>2010's</a>: 59</div><div class=\"ranks\"><a href=\"https://bestsellingalbums.org/overall\" title=\"Best-selling albums of all time\">Overall<span class=\"ranks_desc_art\"> rank</span></a> : 821</div></div></div></div><div class=\"album_card\"><div class=\"rank\">60</div><div class=\"cover\"><img class=\"pic\" onerror=\"this.src='../includes/default.png';this.onerror='';\" src=\"../covers/26120.jpg\"/></div><div class=\"data_col\"><div class=\"album\"><a href=\"https://bestsellingalbums.org/album/26120\">HONEY [4 track EP]</a></div><div class=\"artist\"><a href=\"https://bestsellingalbums.org/artist/7476\" title=\"LAY (张艺兴) album sales\">LAY (张艺兴)</a></div><div class=\"sales\">Sales: 4,858,957</div><div class=\"rank_mobile\">Rankings:</div><div class=\"ranks_row\"><div class=\"ranks\"><a href=\"https://bestsellingalbums.org/year/2019\" title=\"Best-selling albums of 2019\"><span class=\"ranks_desc_art\">Rank in </span>2019</a> : 7</div><div class=\"ranks\"><a href=\"https://bestsellingalbums.org/decade/2010\" title=\"Best-selling albums of 2010's\"><span class=\"ranks_desc_art\">Rank in </span>2010's</a>: 60</div><div class=\"ranks\"><a href=\"https://bestsellingalbums.org/overall\" title=\"Best-selling albums of all time\">Overall<span class=\"ranks_desc_art\"> rank</span></a> : 825</div></div></div></div><input name=\"IL_IN_ARTICLE\" type=\"hidden\"/><div class=\"album_card\"><div class=\"rank\">61</div><div class=\"cover\"><img class=\"pic\" onerror=\"this.src='../includes/default.png';this.onerror='';\" src=\"../covers/43019.jpg\"/></div><div class=\"data_col\"><div class=\"album\"><a href=\"https://bestsellingalbums.org/album/43019\">HAMILTON (ORIGINAL BROADWAY CAST RECORDING)</a></div><div class=\"artist\"><a href=\"https://bestsellingalbums.org/artist/12207\" title=\"SOUNDTRACK album sales\">SOUNDTRACK</a></div><div class=\"sales\">Sales: 4,835,000</div><div class=\"rank_mobile\">Rankings:</div><div class=\"ranks_row\"><div class=\"ranks\"><a href=\"https://bestsellingalbums.org/year/2015\" title=\"Best-selling albums of 2015\"><span class=\"ranks_desc_art\">Rank in </span>2015</a> : 7</div><div class=\"ranks\"><a href=\"https://bestsellingalbums.org/decade/2010\" title=\"Best-selling albums of 2010's\"><span class=\"ranks_desc_art\">Rank in </span>2010's</a>: 61</div><div class=\"ranks\"><a href=\"https://bestsellingalbums.org/overall\" title=\"Best-selling albums of all time\">Overall<span class=\"ranks_desc_art\"> rank</span></a> : 828</div></div></div></div><div class=\"album_card\"><div class=\"rank\">62</div><div class=\"cover\"><img class=\"pic\" onerror=\"this.src='../includes/default.png';this.onerror='';\" src=\"../covers/24438.jpg\"/></div><div class=\"data_col\"><div class=\"album\"><a href=\"https://bestsellingalbums.org/album/24438\">AMERICAN TEEN</a></div><div class=\"artist\"><a href=\"https://bestsellingalbums.org/artist/6961\" title=\"KHALID album sales\">KHALID</a></div><div class=\"sales\">Sales: 4,731,211</div><div class=\"rank_mobile\">Rankings:</div><div class=\"ranks_row\"><div class=\"ranks\"><a href=\"https://bestsellingalbums.org/year/2017\" title=\"Best-selling albums of 2017\"><span class=\"ranks_desc_art\">Rank in </span>2017</a> : 6</div><div class=\"ranks\"><a href=\"https://bestsellingalbums.org/decade/2010\" title=\"Best-selling albums of 2010's\"><span class=\"ranks_desc_art\">Rank in </span>2010's</a>: 62</div><div class=\"ranks\"><a href=\"https://bestsellingalbums.org/overall\" title=\"Best-selling albums of all time\">Overall<span class=\"ranks_desc_art\"> rank</span></a> : 846</div></div></div></div><div class=\"album_card\"><div class=\"rank\">63</div><div class=\"cover\"><img class=\"pic\" onerror=\"this.src='../includes/default.png';this.onerror='';\" src=\"../covers/38510.jpg\"/></div><div class=\"data_col\"><div class=\"album\"><a href=\"https://bestsellingalbums.org/album/38510\">TALK THAT TALK</a></div><div class=\"artist\"><a href=\"https://bestsellingalbums.org/artist/11044\" title=\"RIHANNA album sales\">RIHANNA</a></div><div class=\"sales\">Sales: 4,628,000</div><div class=\"rank_mobile\">Rankings:</div><div class=\"ranks_row\"><div class=\"ranks\"><a href=\"https://bestsellingalbums.org/year/2011\" title=\"Best-selling albums of 2011\"><span class=\"ranks_desc_art\">Rank in </span>2011</a> : 10</div><div class=\"ranks\"><a href=\"https://bestsellingalbums.org/decade/2010\" title=\"Best-selling albums of 2010's\"><span class=\"ranks_desc_art\">Rank in </span>2010's</a>: 63</div><div class=\"ranks\"><a href=\"https://bestsellingalbums.org/overall\" title=\"Best-selling albums of all time\">Overall<span class=\"ranks_desc_art\"> rank</span></a> : 857</div></div></div></div><div class=\"album_card\"><div class=\"rank\">64</div><div class=\"cover\"><img class=\"pic\" onerror=\"this.src='../includes/default.png';this.onerror='';\" src=\"../covers/13705.jpg\"/></div><div class=\"data_col\"><div class=\"album\"><a href=\"https://bestsellingalbums.org/album/13705\">OUR VERSION OF EVENTS</a></div><div class=\"artist\"><a href=\"https://bestsellingalbums.org/artist/3853\" title=\"EMELI SANDE album sales\">EMELI SANDE</a></div><div class=\"sales\">Sales: 4,600,000</div><div class=\"rank_mobile\">Rankings:</div><div class=\"ranks_row\"><div class=\"ranks\"><a href=\"https://bestsellingalbums.org/year/2012\" title=\"Best-selling albums of 2012\"><span class=\"ranks_desc_art\">Rank in </span>2012</a> : 8</div><div class=\"ranks\"><a href=\"https://bestsellingalbums.org/decade/2010\" title=\"Best-selling albums of 2010's\"><span class=\"ranks_desc_art\">Rank in </span>2010's</a>: 64</div><div class=\"ranks\"><a href=\"https://bestsellingalbums.org/overall\" title=\"Best-selling albums of all time\">Overall<span class=\"ranks_desc_art\"> rank</span></a> : 862</div></div></div></div><div class=\"album_card\"><div class=\"rank\">65</div><div class=\"cover\"><img class=\"pic\" onerror=\"this.src='../includes/default.png';this.onerror='';\" src=\"../covers/12451.jpg\"/></div><div class=\"data_col\"><div class=\"album\"><a href=\"https://bestsellingalbums.org/album/12451\">NOTHING WAS THE SAME</a></div><div class=\"artist\"><a href=\"https://bestsellingalbums.org/artist/3522\" title=\"DRAKE album sales\">DRAKE</a></div><div class=\"sales\">Sales: 4,595,000</div><div class=\"rank_mobile\">Rankings:</div><div class=\"ranks_row\"><div class=\"ranks\"><a href=\"https://bestsellingalbums.org/year/2013\" title=\"Best-selling albums of 2013\"><span class=\"ranks_desc_art\">Rank in </span>2013</a> : 7</div><div class=\"ranks\"><a href=\"https://bestsellingalbums.org/decade/2010\" title=\"Best-selling albums of 2010's\"><span class=\"ranks_desc_art\">Rank in </span>2010's</a>: 65</div><div class=\"ranks\"><a href=\"https://bestsellingalbums.org/overall\" title=\"Best-selling albums of all time\">Overall<span class=\"ranks_desc_art\"> rank</span></a> : 864</div></div></div></div><div class=\"album_card\"><div class=\"rank\">66</div><div class=\"cover\"><img class=\"pic\" onerror=\"this.src='../includes/default.png';this.onerror='';\" src=\"../covers/9356.jpg\"/></div><div class=\"data_col\"><div class=\"album\"><a href=\"https://bestsellingalbums.org/album/9356\">MYLO XYLOTO</a></div><div class=\"artist\"><a href=\"https://bestsellingalbums.org/artist/2587\" title=\"COLDPLAY album sales\">COLDPLAY</a></div><div class=\"sales\">Sales: 4,590,102</div><div class=\"rank_mobile\">Rankings:</div><div class=\"ranks_row\"><div class=\"ranks\"><a href=\"https://bestsellingalbums.org/year/2011\" title=\"Best-selling albums of 2011\"><span class=\"ranks_desc_art\">Rank in </span>2011</a> : 11</div><div class=\"ranks\"><a href=\"https://bestsellingalbums.org/decade/2010\" title=\"Best-selling albums of 2010's\"><span class=\"ranks_desc_art\">Rank in </span>2010's</a>: 66</div><div class=\"ranks\"><a href=\"https://bestsellingalbums.org/overall\" title=\"Best-selling albums of all time\">Overall<span class=\"ranks_desc_art\"> rank</span></a> : 865</div></div></div></div><div class=\"album_card\"><div class=\"rank\">67</div><div class=\"cover\"><img class=\"pic\" onerror=\"this.src='../includes/default.png';this.onerror='';\" src=\"../covers/23329.jpg\"/></div><div class=\"data_col\"><div class=\"album\"><a href=\"https://bestsellingalbums.org/album/23329\">THE 20/20 EXPERIENCE</a></div><div class=\"artist\"><a href=\"https://bestsellingalbums.org/artist/6651\" title=\"JUSTIN TIMBERLAKE album sales\">JUSTIN TIMBERLAKE</a></div><div class=\"sales\">Sales: 4,500,223</div><div class=\"rank_mobile\">Rankings:</div><div class=\"ranks_row\"><div class=\"ranks\"><a href=\"https://bestsellingalbums.org/year/2013\" title=\"Best-selling albums of 2013\"><span class=\"ranks_desc_art\">Rank in </span>2013</a> : 8</div><div class=\"ranks\"><a href=\"https://bestsellingalbums.org/decade/2010\" title=\"Best-selling albums of 2010's\"><span class=\"ranks_desc_art\">Rank in </span>2010's</a>: 67</div><div class=\"ranks\"><a href=\"https://bestsellingalbums.org/overall\" title=\"Best-selling albums of all time\">Overall<span class=\"ranks_desc_art\"> rank</span></a> : 883</div></div></div></div><div class=\"album_card\"><div class=\"rank\">68</div><div class=\"cover\"><img class=\"pic\" onerror=\"this.src='../includes/default.png';this.onerror='';\" src=\"../covers/19348.jpg\"/></div><div class=\"data_col\"><div class=\"album\"><a href=\"https://bestsellingalbums.org/album/19348\">HOZIER</a></div><div class=\"artist\"><a href=\"https://bestsellingalbums.org/artist/5513\" title=\"HOZIER album sales\">HOZIER</a></div><div class=\"sales\">Sales: 4,413,503</div><div class=\"rank_mobile\">Rankings:</div><div class=\"ranks_row\"><div class=\"ranks\"><a href=\"https://bestsellingalbums.org/year/2014\" title=\"Best-selling albums of 2014\"><span class=\"ranks_desc_art\">Rank in </span>2014</a> : 4</div><div class=\"ranks\"><a href=\"https://bestsellingalbums.org/decade/2010\" title=\"Best-selling albums of 2010's\"><span class=\"ranks_desc_art\">Rank in </span>2010's</a>: 68</div><div class=\"ranks\"><a href=\"https://bestsellingalbums.org/overall\" title=\"Best-selling albums of all time\">Overall<span class=\"ranks_desc_art\"> rank</span></a> : 916</div></div></div></div><div class=\"album_card\"><div class=\"rank\">69</div><div class=\"cover\"><img class=\"pic\" onerror=\"this.src='../includes/default.png';this.onerror='';\" src=\"../covers/32014.jpg\"/></div><div class=\"data_col\"><div class=\"album\"><a href=\"https://bestsellingalbums.org/album/32014\">BABEL</a></div><div class=\"artist\"><a href=\"https://bestsellingalbums.org/artist/9234\" title=\"MUMFORD &amp; SONS album sales\">MUMFORD &amp; SONS</a></div><div class=\"sales\">Sales: 4,391,000</div><div class=\"rank_mobile\">Rankings:</div><div class=\"ranks_row\"><div class=\"ranks\"><a href=\"https://bestsellingalbums.org/year/2012\" title=\"Best-selling albums of 2012\"><span class=\"ranks_desc_art\">Rank in </span>2012</a> : 9</div><div class=\"ranks\"><a href=\"https://bestsellingalbums.org/decade/2010\" title=\"Best-selling albums of 2010's\"><span class=\"ranks_desc_art\">Rank in </span>2010's</a>: 69</div><div class=\"ranks\"><a href=\"https://bestsellingalbums.org/overall\" title=\"Best-selling albums of all time\">Overall<span class=\"ranks_desc_art\"> rank</span></a> : 925</div></div></div></div><div class=\"album_card\"><div class=\"rank\">70</div><div class=\"cover\"><img class=\"pic\" onerror=\"this.src='../includes/default.png';this.onerror='';\" src=\"../covers/38511.jpg\"/></div><div class=\"data_col\"><div class=\"album\"><a href=\"https://bestsellingalbums.org/album/38511\">UNAPOLOGETIC</a></div><div class=\"artist\"><a href=\"https://bestsellingalbums.org/artist/11044\" title=\"RIHANNA album sales\">RIHANNA</a></div><div class=\"sales\">Sales: 4,382,500</div><div class=\"rank_mobile\">Rankings:</div><div class=\"ranks_row\"><div class=\"ranks\"><a href=\"https://bestsellingalbums.org/year/2012\" title=\"Best-selling albums of 2012\"><span class=\"ranks_desc_art\">Rank in </span>2012</a> : 10</div><div class=\"ranks\"><a href=\"https://bestsellingalbums.org/decade/2010\" title=\"Best-selling albums of 2010's\"><span class=\"ranks_desc_art\">Rank in </span>2010's</a>: 70</div><div class=\"ranks\"><a href=\"https://bestsellingalbums.org/overall\" title=\"Best-selling albums of all time\">Overall<span class=\"ranks_desc_art\"> rank</span></a> : 926</div></div></div></div><input name=\"IL_IN_ARTICLE\" type=\"hidden\"/><div class=\"album_card\"><div class=\"rank\">71</div><div class=\"cover\"><img class=\"pic\" onerror=\"this.src='../includes/default.png';this.onerror='';\" src=\"../covers/7459.jpg\"/></div><div class=\"data_col\"><div class=\"album\"><a href=\"https://bestsellingalbums.org/album/7459\">INVASION OF PRIVACY</a></div><div class=\"artist\"><a href=\"https://bestsellingalbums.org/artist/2066\" title=\"CARDI B album sales\">CARDI B</a></div><div class=\"sales\">Sales: 4,376,138</div><div class=\"rank_mobile\">Rankings:</div><div class=\"ranks_row\"><div class=\"ranks\"><a href=\"https://bestsellingalbums.org/year/2018\" title=\"Best-selling albums of 2018\"><span class=\"ranks_desc_art\">Rank in </span>2018</a> : 7</div><div class=\"ranks\"><a href=\"https://bestsellingalbums.org/decade/2010\" title=\"Best-selling albums of 2010's\"><span class=\"ranks_desc_art\">Rank in </span>2010's</a>: 71</div><div class=\"ranks\"><a href=\"https://bestsellingalbums.org/overall\" title=\"Best-selling albums of all time\">Overall<span class=\"ranks_desc_art\"> rank</span></a> : 927</div></div></div></div><div class=\"album_card\"><div class=\"rank\">72</div><div class=\"cover\"><img class=\"pic\" onerror=\"this.src='../includes/default.png';this.onerror='';\" src=\"../covers/25793.jpg\"/></div><div class=\"data_col\"><div class=\"album\"><a href=\"https://bestsellingalbums.org/album/25793\">A STAR IS BORN (SOUNDTRACK)</a></div><div class=\"artist\"><a href=\"https://bestsellingalbums.org/artist/7366\" title=\"LADY GAGA album sales\">LADY GAGA</a> &amp; <a href=\"https://bestsellingalbums.org/artist/7367\" title=\"BRADLEY COOPER album sales\">BRADLEY COOPER</a></div><div class=\"sales\">Sales: 4,270,810</div><div class=\"rank_mobile\">Rankings:</div><div class=\"ranks_row\"><div class=\"ranks\"><a href=\"https://bestsellingalbums.org/year/2018\" title=\"Best-selling albums of 2018\"><span class=\"ranks_desc_art\">Rank in </span>2018</a> : 8</div><div class=\"ranks\"><a href=\"https://bestsellingalbums.org/decade/2010\" title=\"Best-selling albums of 2010's\"><span class=\"ranks_desc_art\">Rank in </span>2010's</a>: 72</div><div class=\"ranks\"><a href=\"https://bestsellingalbums.org/overall\" title=\"Best-selling albums of all time\">Overall<span class=\"ranks_desc_art\"> rank</span></a> : 951</div></div></div></div><div class=\"album_card\"><div class=\"rank\">73</div><div class=\"cover\"><img class=\"pic\" onerror=\"this.src='../includes/default.png';this.onerror='';\" src=\"../covers/29511.jpg\"/></div><div class=\"data_col\"><div class=\"album\"><a href=\"https://bestsellingalbums.org/album/29511\">V</a></div><div class=\"artist\"><a href=\"https://bestsellingalbums.org/artist/8516\" title=\"MAROON 5 album sales\">MAROON 5</a></div><div class=\"sales\">Sales: 4,255,464</div><div class=\"rank_mobile\">Rankings:</div><div class=\"ranks_row\"><div class=\"ranks\"><a href=\"https://bestsellingalbums.org/year/2014\" title=\"Best-selling albums of 2014\"><span class=\"ranks_desc_art\">Rank in </span>2014</a> : 5</div><div class=\"ranks\"><a href=\"https://bestsellingalbums.org/decade/2010\" title=\"Best-selling albums of 2010's\"><span class=\"ranks_desc_art\">Rank in </span>2010's</a>: 73</div><div class=\"ranks\"><a href=\"https://bestsellingalbums.org/overall\" title=\"Best-selling albums of all time\">Overall<span class=\"ranks_desc_art\"> rank</span></a> : 958</div></div></div></div><div class=\"album_card\"><div class=\"rank\">74</div><div class=\"cover\"><img class=\"pic\" onerror=\"this.src='../includes/default.png';this.onerror='';\" src=\"../covers/24200.jpg\"/></div><div class=\"data_col\"><div class=\"album\"><a href=\"https://bestsellingalbums.org/album/24200\">DAMN.</a></div><div class=\"artist\"><a href=\"https://bestsellingalbums.org/artist/6902\" title=\"KENDRICK LAMAR album sales\">KENDRICK LAMAR</a></div><div class=\"sales\">Sales: 4,255,414</div><div class=\"rank_mobile\">Rankings:</div><div class=\"ranks_row\"><div class=\"ranks\"><a href=\"https://bestsellingalbums.org/year/2017\" title=\"Best-selling albums of 2017\"><span class=\"ranks_desc_art\">Rank in </span>2017</a> : 7</div><div class=\"ranks\"><a href=\"https://bestsellingalbums.org/decade/2010\" title=\"Best-selling albums of 2010's\"><span class=\"ranks_desc_art\">Rank in </span>2010's</a>: 74</div><div class=\"ranks\"><a href=\"https://bestsellingalbums.org/overall\" title=\"Best-selling albums of all time\">Overall<span class=\"ranks_desc_art\"> rank</span></a> : 959</div></div></div></div><div class=\"album_card\"><div class=\"rank\">75</div><div class=\"cover\"><img class=\"pic\" onerror=\"this.src='../includes/default.png';this.onerror='';\" src=\"../covers/6776.jpg\"/></div><div class=\"data_col\"><div class=\"album\"><a href=\"https://bestsellingalbums.org/album/6776\">24K MAGIC</a></div><div class=\"artist\"><a href=\"https://bestsellingalbums.org/artist/1870\" title=\"BRUNO MARS album sales\">BRUNO MARS</a></div><div class=\"sales\">Sales: 4,251,343</div><div class=\"rank_mobile\">Rankings:</div><div class=\"ranks_row\"><div class=\"ranks\"><a href=\"https://bestsellingalbums.org/year/2016\" title=\"Best-selling albums of 2016\"><span class=\"ranks_desc_art\">Rank in </span>2016</a> : 5</div><div class=\"ranks\"><a href=\"https://bestsellingalbums.org/decade/2010\" title=\"Best-selling albums of 2010's\"><span class=\"ranks_desc_art\">Rank in </span>2010's</a>: 75</div><div class=\"ranks\"><a href=\"https://bestsellingalbums.org/overall\" title=\"Best-selling albums of all time\">Overall<span class=\"ranks_desc_art\"> rank</span></a> : 960</div></div></div></div><div class=\"album_card\"><div class=\"rank\">76</div><div class=\"cover\"><img class=\"pic\" onerror=\"this.src='../includes/default.png';this.onerror='';\" src=\"../covers/43008.jpg\"/></div><div class=\"data_col\"><div class=\"album\"><a href=\"https://bestsellingalbums.org/album/43008\">GUARDIANS OF THE GALAXY - AWESOME MIX VOL. 1</a></div><div class=\"artist\"><a href=\"https://bestsellingalbums.org/artist/12207\" title=\"SOUNDTRACK album sales\">SOUNDTRACK</a></div><div class=\"sales\">Sales: 4,206,458</div><div class=\"rank_mobile\">Rankings:</div><div class=\"ranks_row\"><div class=\"ranks\"><a href=\"https://bestsellingalbums.org/year/2014\" title=\"Best-selling albums of 2014\"><span class=\"ranks_desc_art\">Rank in </span>2014</a> : 6</div><div class=\"ranks\"><a href=\"https://bestsellingalbums.org/decade/2010\" title=\"Best-selling albums of 2010's\"><span class=\"ranks_desc_art\">Rank in </span>2010's</a>: 76</div><div class=\"ranks\"><a href=\"https://bestsellingalbums.org/overall\" title=\"Best-selling albums of all time\">Overall<span class=\"ranks_desc_art\"> rank</span></a> : 969</div></div></div></div><div class=\"album_card\"><div class=\"rank\">77</div><div class=\"cover\"><img class=\"pic\" onerror=\"this.src='../includes/default.png';this.onerror='';\" src=\"../covers/28038.jpg\"/></div><div class=\"data_col\"><div class=\"album\"><a href=\"https://bestsellingalbums.org/album/28038\">CRASH MY PARTY</a></div><div class=\"artist\"><a href=\"https://bestsellingalbums.org/artist/8094\" title=\"LUKE BRYAN album sales\">LUKE BRYAN</a></div><div class=\"sales\">Sales: 4,160,000</div><div class=\"rank_mobile\">Rankings:</div><div class=\"ranks_row\"><div class=\"ranks\"><a href=\"https://bestsellingalbums.org/year/2013\" title=\"Best-selling albums of 2013\"><span class=\"ranks_desc_art\">Rank in </span>2013</a> : 9</div><div class=\"ranks\"><a href=\"https://bestsellingalbums.org/decade/2010\" title=\"Best-selling albums of 2010's\"><span class=\"ranks_desc_art\">Rank in </span>2010's</a>: 77</div><div class=\"ranks\"><a href=\"https://bestsellingalbums.org/overall\" title=\"Best-selling albums of all time\">Overall<span class=\"ranks_desc_art\"> rank</span></a> : 982</div></div></div></div><div class=\"album_card\"><div class=\"rank\">78</div><div class=\"cover\"><img class=\"pic\" onerror=\"this.src='../includes/default.png';this.onerror='';\" src=\"../covers/28044.jpg\"/></div><div class=\"data_col\"><div class=\"album\"><a href=\"https://bestsellingalbums.org/album/28044\">TAILGATES &amp; TANLINES</a></div><div class=\"artist\"><a href=\"https://bestsellingalbums.org/artist/8094\" title=\"LUKE BRYAN album sales\">LUKE BRYAN</a></div><div class=\"sales\">Sales: 4,143,000</div><div class=\"rank_mobile\">Rankings:</div><div class=\"ranks_row\"><div class=\"ranks\"><a href=\"https://bestsellingalbums.org/year/2011\" title=\"Best-selling albums of 2011\"><span class=\"ranks_desc_art\">Rank in </span>2011</a> : 12</div><div class=\"ranks\"><a href=\"https://bestsellingalbums.org/decade/2010\" title=\"Best-selling albums of 2010's\"><span class=\"ranks_desc_art\">Rank in </span>2010's</a>: 78</div><div class=\"ranks\"><a href=\"https://bestsellingalbums.org/overall\" title=\"Best-selling albums of all time\">Overall<span class=\"ranks_desc_art\"> rank</span></a> : 985</div></div></div></div><div class=\"album_card\"><div class=\"rank\">79</div><div class=\"cover\"><img class=\"pic\" onerror=\"this.src='../includes/default.png';this.onerror='';\" src=\"../covers/23309.jpg\"/></div><div class=\"data_col\"><div class=\"album\"><a href=\"https://bestsellingalbums.org/album/23309\">BELIEVE</a></div><div class=\"artist\"><a href=\"https://bestsellingalbums.org/artist/6646\" title=\"JUSTIN BIEBER album sales\">JUSTIN BIEBER</a></div><div class=\"sales\">Sales: 4,141,507</div><div class=\"rank_mobile\">Rankings:</div><div class=\"ranks_row\"><div class=\"ranks\"><a href=\"https://bestsellingalbums.org/year/2012\" title=\"Best-selling albums of 2012\"><span class=\"ranks_desc_art\">Rank in </span>2012</a> : 11</div><div class=\"ranks\"><a href=\"https://bestsellingalbums.org/decade/2010\" title=\"Best-selling albums of 2010's\"><span class=\"ranks_desc_art\">Rank in </span>2010's</a>: 79</div><div class=\"ranks\"><a href=\"https://bestsellingalbums.org/overall\" title=\"Best-selling albums of all time\">Overall<span class=\"ranks_desc_art\"> rank</span></a> : 986</div></div></div></div><div class=\"album_card\"><div class=\"rank\">80</div><div class=\"cover\"><img class=\"pic\" onerror=\"this.src='../includes/default.png';this.onerror='';\" src=\"../covers/27358.jpg\"/></div><div class=\"data_col\"><div class=\"album\"><a href=\"https://bestsellingalbums.org/album/27358\">PURE HEROINE</a></div><div class=\"artist\"><a href=\"https://bestsellingalbums.org/artist/7886\" title=\"LORDE album sales\">LORDE</a></div><div class=\"sales\">Sales: 4,126,198</div><div class=\"rank_mobile\">Rankings:</div><div class=\"ranks_row\"><div class=\"ranks\"><a href=\"https://bestsellingalbums.org/year/2013\" title=\"Best-selling albums of 2013\"><span class=\"ranks_desc_art\">Rank in </span>2013</a> : 10</div><div class=\"ranks\"><a href=\"https://bestsellingalbums.org/decade/2010\" title=\"Best-selling albums of 2010's\"><span class=\"ranks_desc_art\">Rank in </span>2010's</a>: 80</div><div class=\"ranks\"><a href=\"https://bestsellingalbums.org/overall\" title=\"Best-selling albums of all time\">Overall<span class=\"ranks_desc_art\"> rank</span></a> : 994</div></div></div></div><input name=\"IL_IN_ARTICLE\" type=\"hidden\"/><div class=\"album_card\"><div class=\"rank\">81</div><div class=\"cover\"><img class=\"pic\" onerror=\"this.src='../includes/default.png';this.onerror='';\" src=\"../covers/10004.jpg\"/></div><div class=\"data_col\"><div class=\"album\"><a href=\"https://bestsellingalbums.org/album/10004\">RANDOM ACCESS MEMORIES</a></div><div class=\"artist\"><a href=\"https://bestsellingalbums.org/artist/2807\" title=\"DAFT PUNK album sales\">DAFT PUNK</a></div><div class=\"sales\">Sales: 4,123,427</div><div class=\"rank_mobile\">Rankings:</div><div class=\"ranks_row\"><div class=\"ranks\"><a href=\"https://bestsellingalbums.org/year/2013\" title=\"Best-selling albums of 2013\"><span class=\"ranks_desc_art\">Rank in </span>2013</a> : 11</div><div class=\"ranks\"><a href=\"https://bestsellingalbums.org/decade/2010\" title=\"Best-selling albums of 2010's\"><span class=\"ranks_desc_art\">Rank in </span>2010's</a>: 81</div><div class=\"ranks\"><a href=\"https://bestsellingalbums.org/overall\" title=\"Best-selling albums of all time\">Overall<span class=\"ranks_desc_art\"> rank</span></a> : 995</div></div></div></div><div class=\"album_card\"><div class=\"rank\">82</div><div class=\"cover\"><img class=\"pic\" onerror=\"this.src='../includes/default.png';this.onerror='';\" src=\"../covers/20999.jpg\"/></div><div class=\"data_col\"><div class=\"album\"><a href=\"https://bestsellingalbums.org/album/20999\">MY KINDA PARTY</a></div><div class=\"artist\"><a href=\"https://bestsellingalbums.org/artist/6018\" title=\"JASON ALDEAN album sales\">JASON ALDEAN</a></div><div class=\"sales\">Sales: 4,115,000</div><div class=\"rank_mobile\">Rankings:</div><div class=\"ranks_row\"><div class=\"ranks\"><a href=\"https://bestsellingalbums.org/year/2010\" title=\"Best-selling albums of 2010\"><span class=\"ranks_desc_art\">Rank in </span>2010</a> : 8</div><div class=\"ranks\"><a href=\"https://bestsellingalbums.org/decade/2010\" title=\"Best-selling albums of 2010's\"><span class=\"ranks_desc_art\">Rank in </span>2010's</a>: 82</div><div class=\"ranks\"><a href=\"https://bestsellingalbums.org/overall\" title=\"Best-selling albums of all time\">Overall<span class=\"ranks_desc_art\"> rank</span></a> : 998</div></div></div></div><div class=\"album_card\"><div class=\"rank\">83</div><div class=\"cover\"><img class=\"pic\" onerror=\"this.src='../includes/default.png';this.onerror='';\" src=\"../covers/30206.jpg\"/></div><div class=\"data_col\"><div class=\"album\"><a href=\"https://bestsellingalbums.org/album/30206\">TITLE</a></div><div class=\"artist\"><a href=\"https://bestsellingalbums.org/artist/8726\" title=\"MEGHAN TRAINOR album sales\">MEGHAN TRAINOR</a></div><div class=\"sales\">Sales: 4,095,000</div><div class=\"rank_mobile\">Rankings:</div><div class=\"ranks_row\"><div class=\"ranks\"><a href=\"https://bestsellingalbums.org/year/2015\" title=\"Best-selling albums of 2015\"><span class=\"ranks_desc_art\">Rank in </span>2015</a> : 8</div><div class=\"ranks\"><a href=\"https://bestsellingalbums.org/decade/2010\" title=\"Best-selling albums of 2010's\"><span class=\"ranks_desc_art\">Rank in </span>2010's</a>: 83</div><div class=\"ranks\"><a href=\"https://bestsellingalbums.org/overall\" title=\"Best-selling albums of all time\">Overall<span class=\"ranks_desc_art\"> rank</span></a> : 1020</div></div></div></div><div class=\"album_card\"><div class=\"rank\">84</div><div class=\"cover\"><img class=\"pic\" onerror=\"this.src='../includes/default.png';this.onerror='';\" src=\"../covers/39971.jpg\"/></div><div class=\"data_col\"><div class=\"album\"><a href=\"https://bestsellingalbums.org/album/39971\">MONTEVALLO</a></div><div class=\"artist\"><a href=\"https://bestsellingalbums.org/artist/11434\" title=\"SAM HUNT album sales\">SAM HUNT</a></div><div class=\"sales\">Sales: 4,080,000</div><div class=\"rank_mobile\">Rankings:</div><div class=\"ranks_row\"><div class=\"ranks\"><a href=\"https://bestsellingalbums.org/year/2014\" title=\"Best-selling albums of 2014\"><span class=\"ranks_desc_art\">Rank in </span>2014</a> : 7</div><div class=\"ranks\"><a href=\"https://bestsellingalbums.org/decade/2010\" title=\"Best-selling albums of 2010's\"><span class=\"ranks_desc_art\">Rank in </span>2010's</a>: 84</div><div class=\"ranks\"><a href=\"https://bestsellingalbums.org/overall\" title=\"Best-selling albums of all time\">Overall<span class=\"ranks_desc_art\"> rank</span></a> : 1021</div></div></div></div><div class=\"album_card\"><div class=\"rank\">85</div><div class=\"cover\"><img class=\"pic\" onerror=\"this.src='../includes/default.png';this.onerror='';\" src=\"../covers/12450.jpg\"/></div><div class=\"data_col\"><div class=\"album\"><a href=\"https://bestsellingalbums.org/album/12450\">MORE LIFE</a></div><div class=\"artist\"><a href=\"https://bestsellingalbums.org/artist/3522\" title=\"DRAKE album sales\">DRAKE</a></div><div class=\"sales\">Sales: 4,005,250</div><div class=\"rank_mobile\">Rankings:</div><div class=\"ranks_row\"><div class=\"ranks\"><a href=\"https://bestsellingalbums.org/year/2017\" title=\"Best-selling albums of 2017\"><span class=\"ranks_desc_art\">Rank in </span>2017</a> : 8</div><div class=\"ranks\"><a href=\"https://bestsellingalbums.org/decade/2010\" title=\"Best-selling albums of 2010's\"><span class=\"ranks_desc_art\">Rank in </span>2010's</a>: 85</div><div class=\"ranks\"><a href=\"https://bestsellingalbums.org/overall\" title=\"Best-selling albums of all time\">Overall<span class=\"ranks_desc_art\"> rank</span></a> : 1043</div></div></div></div><div class=\"album_card\"><div class=\"rank\">86</div><div class=\"cover\"><img class=\"pic\" onerror=\"this.src='../includes/default.png';this.onerror='';\" src=\"../covers/46964.jpg\"/></div><div class=\"data_col\"><div class=\"album\"><a href=\"https://bestsellingalbums.org/album/46964\">THE LUMINEERS</a></div><div class=\"artist\"><a href=\"https://bestsellingalbums.org/artist/13083\" title=\"THE LUMINEERS album sales\">THE LUMINEERS</a></div><div class=\"sales\">Sales: 3,962,500</div><div class=\"rank_mobile\">Rankings:</div><div class=\"ranks_row\"><div class=\"ranks\"><a href=\"https://bestsellingalbums.org/year/2012\" title=\"Best-selling albums of 2012\"><span class=\"ranks_desc_art\">Rank in </span>2012</a> : 12</div><div class=\"ranks\"><a href=\"https://bestsellingalbums.org/decade/2010\" title=\"Best-selling albums of 2010's\"><span class=\"ranks_desc_art\">Rank in </span>2010's</a>: 86</div><div class=\"ranks\"><a href=\"https://bestsellingalbums.org/overall\" title=\"Best-selling albums of all time\">Overall<span class=\"ranks_desc_art\"> rank</span></a> : 1073</div></div></div></div><div class=\"album_card\"><div class=\"rank\">87</div><div class=\"cover\"><img class=\"pic\" onerror=\"this.src='../includes/default.png';this.onerror='';\" src=\"../covers/24371.jpg\"/></div><div class=\"data_col\"><div class=\"album\"><a href=\"https://bestsellingalbums.org/album/24371\">ANIMAL / ANIMAL + CANNIBAL</a></div><div class=\"artist\"><a href=\"https://bestsellingalbums.org/artist/6936\" title=\"KESHA album sales\">KESHA</a></div><div class=\"sales\">Sales: 3,915,000</div><div class=\"rank_mobile\">Rankings:</div><div class=\"ranks_row\"><div class=\"ranks\"><a href=\"https://bestsellingalbums.org/year/2010\" title=\"Best-selling albums of 2010\"><span class=\"ranks_desc_art\">Rank in </span>2010</a> : 9</div><div class=\"ranks\"><a href=\"https://bestsellingalbums.org/decade/2010\" title=\"Best-selling albums of 2010's\"><span class=\"ranks_desc_art\">Rank in </span>2010's</a>: 87</div><div class=\"ranks\"><a href=\"https://bestsellingalbums.org/overall\" title=\"Best-selling albums of all time\">Overall<span class=\"ranks_desc_art\"> rank</span></a> : 1075</div></div></div></div><div class=\"album_card\"><div class=\"rank\">88</div><div class=\"cover\"><img class=\"pic\" onerror=\"this.src='../includes/default.png';this.onerror='';\" src=\"../covers/9350.jpg\"/></div><div class=\"data_col\"><div class=\"album\"><a href=\"https://bestsellingalbums.org/album/9350\">GHOST STORIES</a></div><div class=\"artist\"><a href=\"https://bestsellingalbums.org/artist/2587\" title=\"COLDPLAY album sales\">COLDPLAY</a></div><div class=\"sales\">Sales: 3,904,911</div><div class=\"rank_mobile\">Rankings:</div><div class=\"ranks_row\"><div class=\"ranks\"><a href=\"https://bestsellingalbums.org/year/2014\" title=\"Best-selling albums of 2014\"><span class=\"ranks_desc_art\">Rank in </span>2014</a> : 8</div><div class=\"ranks\"><a href=\"https://bestsellingalbums.org/decade/2010\" title=\"Best-selling albums of 2010's\"><span class=\"ranks_desc_art\">Rank in </span>2010's</a>: 88</div><div class=\"ranks\"><a href=\"https://bestsellingalbums.org/overall\" title=\"Best-selling albums of all time\">Overall<span class=\"ranks_desc_art\"> rank</span></a> : 1079</div></div></div></div><div class=\"album_card\"><div class=\"rank\">89</div><div class=\"cover\"><img class=\"pic\" onerror=\"this.src='../includes/default.png';this.onerror='';\" src=\"../covers/13427.jpg\"/></div><div class=\"data_col\"><div class=\"album\"><a href=\"https://bestsellingalbums.org/album/13427\">DIAMONDS</a></div><div class=\"artist\"><a href=\"https://bestsellingalbums.org/artist/3836\" title=\"ELTON JOHN album sales\">ELTON JOHN</a></div><div class=\"sales\">Sales: 3,870,000</div><div class=\"rank_mobile\">Rankings:</div><div class=\"ranks_row\"><div class=\"ranks\"><a href=\"https://bestsellingalbums.org/year/2017\" title=\"Best-selling albums of 2017\"><span class=\"ranks_desc_art\">Rank in </span>2017</a> : 9</div><div class=\"ranks\"><a href=\"https://bestsellingalbums.org/decade/2010\" title=\"Best-selling albums of 2010's\"><span class=\"ranks_desc_art\">Rank in </span>2010's</a>: 89</div><div class=\"ranks\"><a href=\"https://bestsellingalbums.org/overall\" title=\"Best-selling albums of all time\">Overall<span class=\"ranks_desc_art\"> rank</span></a> : 1086</div></div></div></div><div class=\"album_card\"><div class=\"rank\">90</div><div class=\"cover\"><img class=\"pic\" onerror=\"this.src='../includes/default.png';this.onerror='';\" src=\"../covers/3328.jpg\"/></div><div class=\"data_col\"><div class=\"album\"><a href=\"https://bestsellingalbums.org/album/3328\">THANK U, NEXT</a></div><div class=\"artist\"><a href=\"https://bestsellingalbums.org/artist/868\" title=\"ARIANA GRANDE album sales\">ARIANA GRANDE</a></div><div class=\"sales\">Sales: 3,775,436</div><div class=\"rank_mobile\">Rankings:</div><div class=\"ranks_row\"><div class=\"ranks\"><a href=\"https://bestsellingalbums.org/year/2019\" title=\"Best-selling albums of 2019\"><span class=\"ranks_desc_art\">Rank in </span>2019</a> : 8</div><div class=\"ranks\"><a href=\"https://bestsellingalbums.org/decade/2010\" title=\"Best-selling albums of 2010's\"><span class=\"ranks_desc_art\">Rank in </span>2010's</a>: 90</div><div class=\"ranks\"><a href=\"https://bestsellingalbums.org/overall\" title=\"Best-selling albums of all time\">Overall<span class=\"ranks_desc_art\"> rank</span></a> : 1105</div></div></div></div><input name=\"IL_IN_ARTICLE\" type=\"hidden\"/><div class=\"album_card\"><div class=\"rank\">91</div><div class=\"cover\"><img class=\"pic\" onerror=\"this.src='../includes/default.png';this.onerror='';\" src=\"../covers/43242.jpg\"/></div><div class=\"data_col\"><div class=\"album\"><a href=\"https://bestsellingalbums.org/album/43242\">MOANA</a></div><div class=\"artist\"><a href=\"https://bestsellingalbums.org/artist/12207\" title=\"SOUNDTRACK album sales\">SOUNDTRACK</a></div><div class=\"sales\">Sales: 3,767,078</div><div class=\"rank_mobile\">Rankings:</div><div class=\"ranks_row\"><div class=\"ranks\"><a href=\"https://bestsellingalbums.org/year/2016\" title=\"Best-selling albums of 2016\"><span class=\"ranks_desc_art\">Rank in </span>2016</a> : 6</div><div class=\"ranks\"><a href=\"https://bestsellingalbums.org/decade/2010\" title=\"Best-selling albums of 2010's\"><span class=\"ranks_desc_art\">Rank in </span>2010's</a>: 91</div><div class=\"ranks\"><a href=\"https://bestsellingalbums.org/overall\" title=\"Best-selling albums of all time\">Overall<span class=\"ranks_desc_art\"> rank</span></a> : 1106</div></div></div></div><div class=\"album_card\"><div class=\"rank\">92</div><div class=\"cover\"><img class=\"pic\" onerror=\"this.src='../includes/default.png';this.onerror='';\" src=\"../covers/24201.jpg\"/></div><div class=\"data_col\"><div class=\"album\"><a href=\"https://bestsellingalbums.org/album/24201\">GOOD KID, M.A.A.D. CITY</a></div><div class=\"artist\"><a href=\"https://bestsellingalbums.org/artist/6902\" title=\"KENDRICK LAMAR album sales\">KENDRICK LAMAR</a></div><div class=\"sales\">Sales: 3,757,000</div><div class=\"rank_mobile\">Rankings:</div><div class=\"ranks_row\"><div class=\"ranks\"><a href=\"https://bestsellingalbums.org/year/2012\" title=\"Best-selling albums of 2012\"><span class=\"ranks_desc_art\">Rank in </span>2012</a> : 13</div><div class=\"ranks\"><a href=\"https://bestsellingalbums.org/decade/2010\" title=\"Best-selling albums of 2010's\"><span class=\"ranks_desc_art\">Rank in </span>2010's</a>: 92</div><div class=\"ranks\"><a href=\"https://bestsellingalbums.org/overall\" title=\"Best-selling albums of all time\">Overall<span class=\"ranks_desc_art\"> rank</span></a> : 1111</div></div></div></div><div class=\"album_card\"><div class=\"rank\">93</div><div class=\"cover\"><img class=\"pic\" onerror=\"this.src='../includes/default.png';this.onerror='';\" src=\"../covers/15972.jpg\"/></div><div class=\"data_col\"><div class=\"album\"><a href=\"https://bestsellingalbums.org/album/15972\">SOME NIGHTS</a></div><div class=\"artist\"><a href=\"https://bestsellingalbums.org/artist/4494\" title=\"FUN. album sales\">FUN.</a></div><div class=\"sales\">Sales: 3,720,000</div><div class=\"rank_mobile\">Rankings:</div><div class=\"ranks_row\"><div class=\"ranks\"><a href=\"https://bestsellingalbums.org/year/2012\" title=\"Best-selling albums of 2012\"><span class=\"ranks_desc_art\">Rank in </span>2012</a> : 14</div><div class=\"ranks\"><a href=\"https://bestsellingalbums.org/decade/2010\" title=\"Best-selling albums of 2010's\"><span class=\"ranks_desc_art\">Rank in </span>2010's</a>: 93</div><div class=\"ranks\"><a href=\"https://bestsellingalbums.org/overall\" title=\"Best-selling albums of all time\">Overall<span class=\"ranks_desc_art\"> rank</span></a> : 1117</div></div></div></div><div class=\"album_card\"><div class=\"rank\">94</div><div class=\"cover\"><img class=\"pic\" onerror=\"this.src='../includes/default.png';this.onerror='';\" src=\"../covers/31123.jpg\"/></div><div class=\"data_col\"><div class=\"album\"><a href=\"https://bestsellingalbums.org/album/31123\">BANGERZ</a></div><div class=\"artist\"><a href=\"https://bestsellingalbums.org/artist/8966\" title=\"MILEY CYRUS album sales\">MILEY CYRUS</a></div><div class=\"sales\">Sales: 3,712,500</div><div class=\"rank_mobile\">Rankings:</div><div class=\"ranks_row\"><div class=\"ranks\"><a href=\"https://bestsellingalbums.org/year/2013\" title=\"Best-selling albums of 2013\"><span class=\"ranks_desc_art\">Rank in </span>2013</a> : 12</div><div class=\"ranks\"><a href=\"https://bestsellingalbums.org/decade/2010\" title=\"Best-selling albums of 2010's\"><span class=\"ranks_desc_art\">Rank in </span>2010's</a>: 94</div><div class=\"ranks\"><a href=\"https://bestsellingalbums.org/overall\" title=\"Best-selling albums of all time\">Overall<span class=\"ranks_desc_art\"> rank</span></a> : 1120</div></div></div></div><div class=\"album_card\"><div class=\"rank\">95</div><div class=\"cover\"><img class=\"pic\" onerror=\"this.src='../includes/default.png';this.onerror='';\" src=\"../covers/6857.jpg\"/></div><div class=\"data_col\"><div class=\"album\"><a href=\"https://bestsellingalbums.org/album/6857\">LOVE YOURSELF: TEAR</a></div><div class=\"artist\"><a href=\"https://bestsellingalbums.org/artist/1884\" title=\"BTS (방탄소년단) album sales\">BTS (방탄소년단)</a></div><div class=\"sales\">Sales: 3,702,456</div><div class=\"rank_mobile\">Rankings:</div><div class=\"ranks_row\"><div class=\"ranks\"><a href=\"https://bestsellingalbums.org/year/2018\" title=\"Best-selling albums of 2018\"><span class=\"ranks_desc_art\">Rank in </span>2018</a> : 9</div><div class=\"ranks\"><a href=\"https://bestsellingalbums.org/decade/2010\" title=\"Best-selling albums of 2010's\"><span class=\"ranks_desc_art\">Rank in </span>2010's</a>: 95</div><div class=\"ranks\"><a href=\"https://bestsellingalbums.org/overall\" title=\"Best-selling albums of all time\">Overall<span class=\"ranks_desc_art\"> rank</span></a> : 1123</div></div></div></div><div class=\"album_card\"><div class=\"rank\">96</div><div class=\"cover\"><img class=\"pic\" onerror=\"this.src='../includes/default.png';this.onerror='';\" src=\"../covers/4973.jpg\"/></div><div class=\"data_col\"><div class=\"album\"><a href=\"https://bestsellingalbums.org/album/4973\">LEMONADE</a></div><div class=\"artist\"><a href=\"https://bestsellingalbums.org/artist/1402\" title=\"BEYONCÉ album sales\">BEYONCÉ</a></div><div class=\"sales\">Sales: 3,671,560</div><div class=\"rank_mobile\">Rankings:</div><div class=\"ranks_row\"><div class=\"ranks\"><a href=\"https://bestsellingalbums.org/year/2016\" title=\"Best-selling albums of 2016\"><span class=\"ranks_desc_art\">Rank in </span>2016</a> : 7</div><div class=\"ranks\"><a href=\"https://bestsellingalbums.org/decade/2010\" title=\"Best-selling albums of 2010's\"><span class=\"ranks_desc_art\">Rank in </span>2010's</a>: 96</div><div class=\"ranks\"><a href=\"https://bestsellingalbums.org/overall\" title=\"Best-selling albums of all time\">Overall<span class=\"ranks_desc_art\"> rank</span></a> : 1126</div></div></div></div><div class=\"album_card\"><div class=\"rank\">97</div><div class=\"cover\"><img class=\"pic\" onerror=\"this.src='../includes/default.png';this.onerror='';\" src=\"../covers/23636.jpg\"/></div><div class=\"data_col\"><div class=\"album\"><a href=\"https://bestsellingalbums.org/album/23636\">THE LIFE OF PABLO</a></div><div class=\"artist\"><a href=\"https://bestsellingalbums.org/artist/6733\" title=\"KANYE WEST album sales\">KANYE WEST</a></div><div class=\"sales\">Sales: 3,640,511</div><div class=\"rank_mobile\">Rankings:</div><div class=\"ranks_row\"><div class=\"ranks\"><a href=\"https://bestsellingalbums.org/year/2016\" title=\"Best-selling albums of 2016\"><span class=\"ranks_desc_art\">Rank in </span>2016</a> : 8</div><div class=\"ranks\"><a href=\"https://bestsellingalbums.org/decade/2010\" title=\"Best-selling albums of 2010's\"><span class=\"ranks_desc_art\">Rank in </span>2010's</a>: 97</div><div class=\"ranks\"><a href=\"https://bestsellingalbums.org/overall\" title=\"Best-selling albums of all time\">Overall<span class=\"ranks_desc_art\"> rank</span></a> : 1135</div></div></div></div><div class=\"album_card\"><div class=\"rank\">98</div><div class=\"cover\"><img class=\"pic\" onerror=\"this.src='../includes/default.png';this.onerror='';\" src=\"../covers/13381.jpg\"/></div><div class=\"data_col\"><div class=\"album\"><a href=\"https://bestsellingalbums.org/album/13381\">HALCYON</a></div><div class=\"artist\"><a href=\"https://bestsellingalbums.org/artist/3817\" title=\"ELLIE GOULDING album sales\">ELLIE GOULDING</a></div><div class=\"sales\">Sales: 3,635,000</div><div class=\"rank_mobile\">Rankings:</div><div class=\"ranks_row\"><div class=\"ranks\"><a href=\"https://bestsellingalbums.org/year/2012\" title=\"Best-selling albums of 2012\"><span class=\"ranks_desc_art\">Rank in </span>2012</a> : 15</div><div class=\"ranks\"><a href=\"https://bestsellingalbums.org/decade/2010\" title=\"Best-selling albums of 2010's\"><span class=\"ranks_desc_art\">Rank in </span>2010's</a>: 98</div><div class=\"ranks\"><a href=\"https://bestsellingalbums.org/overall\" title=\"Best-selling albums of all time\">Overall<span class=\"ranks_desc_art\"> rank</span></a> : 1139</div></div></div></div><div class=\"album_card\"><div class=\"rank\">99</div><div class=\"cover\"><img class=\"pic\" onerror=\"this.src='../includes/default.png';this.onerror='';\" src=\"../covers/3324.jpg\"/></div><div class=\"data_col\"><div class=\"album\"><a href=\"https://bestsellingalbums.org/album/3324\">DANGEROUS WOMAN</a></div><div class=\"artist\"><a href=\"https://bestsellingalbums.org/artist/868\" title=\"ARIANA GRANDE album sales\">ARIANA GRANDE</a></div><div class=\"sales\">Sales: 3,632,374</div><div class=\"rank_mobile\">Rankings:</div><div class=\"ranks_row\"><div class=\"ranks\"><a href=\"https://bestsellingalbums.org/year/2016\" title=\"Best-selling albums of 2016\"><span class=\"ranks_desc_art\">Rank in </span>2016</a> : 9</div><div class=\"ranks\"><a href=\"https://bestsellingalbums.org/decade/2010\" title=\"Best-selling albums of 2010's\"><span class=\"ranks_desc_art\">Rank in </span>2010's</a>: 99</div><div class=\"ranks\"><a href=\"https://bestsellingalbums.org/overall\" title=\"Best-selling albums of all time\">Overall<span class=\"ranks_desc_art\"> rank</span></a> : 1141</div></div></div></div><div class=\"album_card\"><div class=\"rank\">100</div><div class=\"cover\"><img class=\"pic\" onerror=\"this.src='../includes/default.png';this.onerror='';\" src=\"../covers/56028.jpg\"/></div><div class=\"data_col\"><div class=\"album\"><a href=\"https://bestsellingalbums.org/album/56028\">17</a></div><div class=\"artist\"><a href=\"https://bestsellingalbums.org/artist/14362\" title=\"XXXTENTACION album sales\">XXXTENTACION</a></div><div class=\"sales\">Sales: 3,625,650</div><div class=\"rank_mobile\">Rankings:</div><div class=\"ranks_row\"><div class=\"ranks\"><a href=\"https://bestsellingalbums.org/year/2017\" title=\"Best-selling albums of 2017\"><span class=\"ranks_desc_art\">Rank in </span>2017</a> : 10</div><div class=\"ranks\"><a href=\"https://bestsellingalbums.org/decade/2010\" title=\"Best-selling albums of 2010's\"><span class=\"ranks_desc_art\">Rank in </span>2010's</a>: 100</div><div class=\"ranks\"><a href=\"https://bestsellingalbums.org/overall\" title=\"Best-selling albums of all time\">Overall<span class=\"ranks_desc_art\"> rank</span></a> : 1144</div></div></div></div><div class=\"pages_row\"><div class=\"page_item\"><a href=\"https://bestsellingalbums.org/decade/2010\">prev</a></div><div class=\"page_item\"><a href=\"https://bestsellingalbums.org/decade/2010\">1</a></div><div class=\"current_page\">2</div><div class=\"page_item\"><a href=\"https://bestsellingalbums.org/decade/2010-3\">3</a></div><div class=\"no_link\">...</div><div class=\"page_item\"><a href=\"https://bestsellingalbums.org/decade/2010-251\">251</a></div><div class=\"page_item\"><a href=\"https://bestsellingalbums.org/decade/2010-3\">next</a></div></div>\n",
      "</div><!-- .entry-content -->\n",
      "</main><!-- .site-main -->\n",
      "</div><!-- .content-area -->\n",
      "</div><!-- .site-content -->\n",
      "<footer class=\"site-footer\" id=\"colophon\" role=\"contentinfo\">\n",
      "</footer><!-- .site-footer -->\n",
      "<script src=\"https://bestsellingalbums.org/wp-content/themes/twentyfifteen/js/skip-link-focus-fix.js?ver=20141028\"></script>\n",
      "<script>\n",
      "    var screenReaderText = {\"expand\":\"<span class=\\\"screen-reader-text\\\">expand child menu<\\/span>\",\"collapse\":\"<span class=\\\"screen-reader-text\\\">collapse child menu<\\/span>\"};\n",
      "</script>\n",
      "<script src=\"https://bestsellingalbums.org/wp-content/themes/twentyfifteen/js/functions.js?ver=20171218\"></script>\n",
      "<script src=\"https://bestsellingalbums.org/wp-includes/js/wp-embed.min.js?ver=5.4.7\"></script>\n",
      "<script type=\"text/javascript\">\n",
      "    var infolinks_pid = 3414279;\n",
      "    var infolinks_wsid = 0;\n",
      "</script>\n",
      "<script src=\"//resources.infolinks.com/js/infolinks_main.js\" type=\"text/javascript\"></script>\n",
      "</div></body>\n",
      "</html>\n",
      "\n"
     ]
    },
    {
     "ename": "NameError",
     "evalue": "name 'timer' is not defined",
     "output_type": "error",
     "traceback": [
      "\u001b[0;31m---------------------------------------------------------------------------\u001b[0m",
      "\u001b[0;31mNameError\u001b[0m                                 Traceback (most recent call last)",
      "Cell \u001b[0;32mIn[48], line 6\u001b[0m\n\u001b[1;32m      4\u001b[0m url \u001b[38;5;241m=\u001b[39m \u001b[38;5;124mf\u001b[39m\u001b[38;5;124m\"\u001b[39m\u001b[38;5;132;01m{\u001b[39;00mbase_url\u001b[38;5;132;01m}\u001b[39;00m\u001b[38;5;132;01m{\u001b[39;00murl_number\u001b[38;5;132;01m}\u001b[39;00m\u001b[38;5;124m\"\u001b[39m\n\u001b[1;32m      5\u001b[0m \u001b[38;5;28mprint\u001b[39m(makeSoup(url))\n\u001b[0;32m----> 6\u001b[0m timer(\u001b[38;5;241m5\u001b[39m,\u001b[38;5;241m10\u001b[39m)\n",
      "\u001b[0;31mNameError\u001b[0m: name 'timer' is not defined"
     ]
    }
   ],
   "source": [
    "base_url = \"https://bestsellingalbums.org/decade/2010-\"\n",
    "\n",
    "for url_number in range(2,4):\n",
    "    url = f\"{base_url}{url_number}\"\n",
    "    print(makeSoup(url))\n",
    "    timer(5,10)\n",
    "\n",
    "print"
   ]
  },
  {
   "cell_type": "markdown",
   "metadata": {},
   "source": [
    "## Scraping/Downloading Web Documents\n",
    "\n",
    "You want to create a dataset that tracks how many companies the <a href=\"https://www.sec.gov/litigation/suspensions.shtml\">SEC suspended</a> between 2024 and 2004 (and for what reasons).\n",
    "\n",
    "We want to write a scraper that aggregates:\n",
    "\n",
    "* Date of suspension\n",
    "* Company name\n",
    "* Order\n",
    "* Release (the PDFs in the XX-YYYYY format\n",
    "\n",
    "The challenge? All that info is held in the PDFs.\n",
    "\n",
    "We will need to download all the PDFs before we can analyze the info.\n",
    "\n",
    "## Practice Site\n",
    "\n",
    "We'll practice the required techniques <a href=\"https://sandeepmj.github.io/scrape-example-page/pages.html\">on this demo site</a> by:\n",
    "\n",
    "1. downloading all ```txt``` files.\n",
    "2. downloading all ```pdf``` files.\n",
    "3. Perhaps all files at one time."
   ]
  },
  {
   "cell_type": "code",
   "execution_count": 52,
   "metadata": {},
   "outputs": [],
   "source": [
    "import time\n",
    "from random import uniform"
   ]
  },
  {
   "cell_type": "code",
   "execution_count": 58,
   "metadata": {},
   "outputs": [
    {
     "data": {
      "text/plain": [
       "<html lang=\"en\">\n",
       "<head>\n",
       "<!-- Makes the page responsive and scaled to be read easily -->\n",
       "<meta content=\"width=device-width, initial-scale=1\" name=\"viewport\"/>\n",
       "<!-- Links to stylesheet -->\n",
       "<link href=\"style.css\" rel=\"stylesheet\" type=\"text/css\"/>\n",
       "<!-- Remember to update page title -->\n",
       "<title>List of Documents</title>\n",
       "</head>\n",
       "<body>\n",
       "<!-- All content goes here -->\n",
       "<div class=\"container\">\n",
       "<h1>Documents to Download</h1>\n",
       "<li>Junk Li <a href=\"\">tag 1</a></li>\n",
       "<li>Junk Li <a href=\"\">tag 2</a></li>\n",
       "<ul class=\"txts downloadable\">\n",
       "<p class=\"pages\">Download this first set of text documents</p>\n",
       "<li>Text Document <a href=\"files/text_doc_01.txt\">1</a> </li>\n",
       "<li>Text Document <a href=\"files/text_doc_02.txt\">2</a></li>\n",
       "<li>Text Document <a href=\"files/text_doc_03.txt\">3</a></li>\n",
       "<li>Text Document <a href=\"files/text_doc_04.txt\">4</a></li>\n",
       "<li>Text Document <a href=\"files/text_doc_05.txt\">5</a></li>\n",
       "<li>Text Document <a href=\"files/text_doc_06.txt\">6</a></li>\n",
       "<li>Text Document <a href=\"files/text_doc_07.txt\">7</a></li>\n",
       "<li>Text Document <a href=\"files/text_doc_08.txt\">8</a></li>\n",
       "<li>Text Document <a href=\"files/text_doc_09.txt\">9</a></li>\n",
       "<li>Text Document <a href=\"files/text_doc_10.txt\">10</a></li>\n",
       "</ul>\n",
       "<li>Junk Li <a href=\"\">tag 3</a></li>\n",
       "<li>Junk Li <a href=\"\">tag 4</a></li>\n",
       "<ul class=\"pdfs downloadable\">\n",
       "<p class=\"pages\">Download this list of PDFs</p>\n",
       "<li>PDF Document <a href=\"files/pdf_1.pdf\">1</a> </li>\n",
       "<li>PDF Document <a href=\"files/pdf_2.pdf\">2</a></li>\n",
       "<li>PDF Document <a href=\"files/pdf_3.pdf\">3</a></li>\n",
       "<li>PDF Document <a href=\"files/pdf_4.pdf\">4</a></li>\n",
       "<li>PDF Document <a href=\"files/pdf_5.pdf\">5</a></li>\n",
       "<li>PDF Document <a href=\"files/pdf_6.pdf\">6</a></li>\n",
       "<li>PDF Document <a href=\"files/pdf_7.pdf\">7</a></li>\n",
       "<li>PDF Document <a href=\"files/pdf_8.pdf\">8</a></li>\n",
       "<li>PDF Document <a href=\"files/pdf_9.pdf\">9</a></li>\n",
       "<li>PDF Document <a href=\"files/pdf_10.pdf\">10</a></li>\n",
       "</ul>\n",
       "<li>Junk Li <a href=\"\">tag 5</a></li>\n",
       "<li>Junk Li <a href=\"\">tag 6</a></li>\n",
       "<ul class=\"txts downloadable\">\n",
       "<p class=\"pages\">Download this second set of text documents</p>\n",
       "<li>Text Document <a href=\"files/text_doc_A.txt\">1</a> </li>\n",
       "<li>Text Document <a href=\"files/text_doc_B.txt\">2</a></li>\n",
       "<li>Text Document <a href=\"files/text_doc_C.txt\">3</a></li>\n",
       "<li>Text Document <a href=\"files/text_doc_D.txt\">4</a></li>\n",
       "<li>Text Document <a href=\"files/text_doc_E.txt\">5</a></li>\n",
       "<li>Text Document <a href=\"files/text_doc_F.txt\">6</a></li>\n",
       "<li>Text Document <a href=\"files/text_doc_G.txt\">7</a></li>\n",
       "<li>Text Document <a href=\"files/text_doc_H.txt\">8</a></li>\n",
       "<li>Text Document <a href=\"files/text_doc_I.txt\">9</a></li>\n",
       "<li>Text Document <a href=\"files/text_doc_J.txt\">10</a></li>\n",
       "</ul>\n",
       "</div>\n",
       "</body>\n",
       "</html>"
      ]
     },
     "execution_count": 58,
     "metadata": {},
     "output_type": "execute_result"
    }
   ],
   "source": [
    "url = \"https://sandeepmj.github.io/scrape-example-page/pages.html\"\n",
    "soup = makeSoup(url)\n",
    "soup"
   ]
  },
  {
   "cell_type": "code",
   "execution_count": 64,
   "metadata": {},
   "outputs": [
    {
     "data": {
      "text/plain": [
       "[<ul class=\"txts downloadable\">\n",
       " <p class=\"pages\">Download this first set of text documents</p>\n",
       " <li>Text Document <a href=\"files/text_doc_01.txt\">1</a> </li>\n",
       " <li>Text Document <a href=\"files/text_doc_02.txt\">2</a></li>\n",
       " <li>Text Document <a href=\"files/text_doc_03.txt\">3</a></li>\n",
       " <li>Text Document <a href=\"files/text_doc_04.txt\">4</a></li>\n",
       " <li>Text Document <a href=\"files/text_doc_05.txt\">5</a></li>\n",
       " <li>Text Document <a href=\"files/text_doc_06.txt\">6</a></li>\n",
       " <li>Text Document <a href=\"files/text_doc_07.txt\">7</a></li>\n",
       " <li>Text Document <a href=\"files/text_doc_08.txt\">8</a></li>\n",
       " <li>Text Document <a href=\"files/text_doc_09.txt\">9</a></li>\n",
       " <li>Text Document <a href=\"files/text_doc_10.txt\">10</a></li>\n",
       " </ul>,\n",
       " <ul class=\"txts downloadable\">\n",
       " <p class=\"pages\">Download this second set of text documents</p>\n",
       " <li>Text Document <a href=\"files/text_doc_A.txt\">1</a> </li>\n",
       " <li>Text Document <a href=\"files/text_doc_B.txt\">2</a></li>\n",
       " <li>Text Document <a href=\"files/text_doc_C.txt\">3</a></li>\n",
       " <li>Text Document <a href=\"files/text_doc_D.txt\">4</a></li>\n",
       " <li>Text Document <a href=\"files/text_doc_E.txt\">5</a></li>\n",
       " <li>Text Document <a href=\"files/text_doc_F.txt\">6</a></li>\n",
       " <li>Text Document <a href=\"files/text_doc_G.txt\">7</a></li>\n",
       " <li>Text Document <a href=\"files/text_doc_H.txt\">8</a></li>\n",
       " <li>Text Document <a href=\"files/text_doc_I.txt\">9</a></li>\n",
       " <li>Text Document <a href=\"files/text_doc_J.txt\">10</a></li>\n",
       " </ul>]"
      ]
     },
     "execution_count": 64,
     "metadata": {},
     "output_type": "execute_result"
    }
   ],
   "source": [
    "# narrow to class\n",
    "targets = soup.find_all(\"ul\", class_= \"txts\") # remember- txts downloadable means they are two different classes. \n",
    "targets"
   ]
  },
  {
   "cell_type": "code",
   "execution_count": 92,
   "metadata": {},
   "outputs": [
    {
     "data": {
      "text/plain": [
       "['files/text_doc_A.txt']"
      ]
     },
     "execution_count": 92,
     "metadata": {},
     "output_type": "execute_result"
    }
   ],
   "source": [
    "# just trying something out - from \n",
    "\n",
    "target_list = []\n",
    "for target in targets:\n",
    " a_tag = target.find(\"a\")\n",
    "href = a_tag.get(\"href\")\n",
    "target_list.append(href)\n",
    "\n",
    "target_list"
   ]
  },
  {
   "cell_type": "code",
   "execution_count": 107,
   "metadata": {},
   "outputs": [
    {
     "data": {
      "text/plain": [
       "[[<a href=\"files/text_doc_01.txt\">1</a>,\n",
       "  <a href=\"files/text_doc_02.txt\">2</a>,\n",
       "  <a href=\"files/text_doc_03.txt\">3</a>,\n",
       "  <a href=\"files/text_doc_04.txt\">4</a>,\n",
       "  <a href=\"files/text_doc_05.txt\">5</a>,\n",
       "  <a href=\"files/text_doc_06.txt\">6</a>,\n",
       "  <a href=\"files/text_doc_07.txt\">7</a>,\n",
       "  <a href=\"files/text_doc_08.txt\">8</a>,\n",
       "  <a href=\"files/text_doc_09.txt\">9</a>,\n",
       "  <a href=\"files/text_doc_10.txt\">10</a>],\n",
       " [<a href=\"files/text_doc_A.txt\">1</a>,\n",
       "  <a href=\"files/text_doc_B.txt\">2</a>,\n",
       "  <a href=\"files/text_doc_C.txt\">3</a>,\n",
       "  <a href=\"files/text_doc_D.txt\">4</a>,\n",
       "  <a href=\"files/text_doc_E.txt\">5</a>,\n",
       "  <a href=\"files/text_doc_F.txt\">6</a>,\n",
       "  <a href=\"files/text_doc_G.txt\">7</a>,\n",
       "  <a href=\"files/text_doc_H.txt\">8</a>,\n",
       "  <a href=\"files/text_doc_I.txt\">9</a>,\n",
       "  <a href=\"files/text_doc_J.txt\">10</a>]]"
      ]
     },
     "execution_count": 107,
     "metadata": {},
     "output_type": "execute_result"
    }
   ],
   "source": [
    "atags = [atag.find_all(\"a\") for atag in targets]\n",
    "atags"
   ]
  },
  {
   "cell_type": "code",
   "execution_count": 109,
   "metadata": {},
   "outputs": [],
   "source": [
    "# to flatten list- import itertool\n",
    "from itertools import chain"
   ]
  },
  {
   "cell_type": "code",
   "execution_count": 76,
   "metadata": {},
   "outputs": [
    {
     "ename": "NameError",
     "evalue": "name 'atags' is not defined",
     "output_type": "error",
     "traceback": [
      "\u001b[0;31m---------------------------------------------------------------------------\u001b[0m",
      "\u001b[0;31mNameError\u001b[0m                                 Traceback (most recent call last)",
      "Cell \u001b[0;32mIn[76], line 1\u001b[0m\n\u001b[0;32m----> 1\u001b[0m flat_targets \u001b[38;5;241m=\u001b[39m chain\u001b[38;5;241m.\u001b[39mfrom_iterable(atags)\n",
      "\u001b[0;31mNameError\u001b[0m: name 'atags' is not defined"
     ]
    }
   ],
   "source": [
    "flat_targets = chain.from_iterable(atags)"
   ]
  },
  {
   "cell_type": "code",
   "execution_count": 94,
   "metadata": {},
   "outputs": [
    {
     "ename": "NameError",
     "evalue": "name 'item' is not defined",
     "output_type": "error",
     "traceback": [
      "\u001b[0;31m---------------------------------------------------------------------------\u001b[0m",
      "\u001b[0;31mNameError\u001b[0m                                 Traceback (most recent call last)",
      "Cell \u001b[0;32mIn[94], line 4\u001b[0m\n\u001b[1;32m      1\u001b[0m \u001b[38;5;66;03m# capture \u001b[39;00m\n\u001b[1;32m      2\u001b[0m base_url \u001b[38;5;241m=\u001b[39m \u001b[38;5;124m\"\u001b[39m\u001b[38;5;124mhttps://sandeepmj.github.io/scrape-example-page/pages.html\u001b[39m\u001b[38;5;124m\"\u001b[39m\n\u001b[0;32m----> 4\u001b[0m urls \u001b[38;5;241m=\u001b[39m [base_url \u001b[38;5;241m+\u001b[39m item\u001b[38;5;241m.\u001b[39mfind]\n",
      "\u001b[0;31mNameError\u001b[0m: name 'item' is not defined"
     ]
    }
   ],
   "source": [
    "# capture \n",
    "base_url = \"https://sandeepmj.github.io/scrape-example-page/pages.html\"\n",
    "\n",
    "urls = [base_url + item.find]"
   ]
  },
  {
   "cell_type": "code",
   "execution_count": 97,
   "metadata": {},
   "outputs": [
    {
     "name": "stdout",
     "output_type": "stream",
     "text": [
      "Requirement already satisfied: wget in /opt/anaconda3/lib/python3.12/site-packages (3.2)\n",
      "Note: you may need to restart the kernel to use updated packages.\n"
     ]
    }
   ],
   "source": [
    "pip install wget"
   ]
  },
  {
   "cell_type": "code",
   "execution_count": 101,
   "metadata": {},
   "outputs": [],
   "source": [
    "import wget"
   ]
  },
  {
   "cell_type": "code",
   "execution_count": 103,
   "metadata": {},
   "outputs": [
    {
     "ename": "NameError",
     "evalue": "name 'urls' is not defined",
     "output_type": "error",
     "traceback": [
      "\u001b[0;31m---------------------------------------------------------------------------\u001b[0m",
      "\u001b[0;31mNameError\u001b[0m                                 Traceback (most recent call last)",
      "Cell \u001b[0;32mIn[103], line 2\u001b[0m\n\u001b[1;32m      1\u001b[0m \u001b[38;5;66;03m# download all\u001b[39;00m\n\u001b[0;32m----> 2\u001b[0m \u001b[38;5;28;01mfor\u001b[39;00m i, link \u001b[38;5;129;01min\u001b[39;00m \u001b[38;5;28menumerate\u001b[39m(urls, start \u001b[38;5;241m=\u001b[39m\u001b[38;5;241m1\u001b[39m):\n\u001b[1;32m      3\u001b[0m     \u001b[38;5;28mprint\u001b[39m(\u001b[38;5;124mf\u001b[39m\u001b[38;5;124m\"\u001b[39m\u001b[38;5;124mDownloading link \u001b[39m\u001b[38;5;132;01m{\u001b[39;00mi\u001b[38;5;132;01m}\u001b[39;00m\u001b[38;5;124m of \u001b[39m\u001b[38;5;132;01m{\u001b[39;00m\u001b[38;5;28mlen\u001b[39m(urls)\u001b[38;5;132;01m}\u001b[39;00m\u001b[38;5;124m\"\u001b[39m)\n\u001b[1;32m      4\u001b[0m     wget\u001b[38;5;241m.\u001b[39mdownload(link)\n",
      "\u001b[0;31mNameError\u001b[0m: name 'urls' is not defined"
     ]
    }
   ],
   "source": [
    "# download all - this will downlaod all the text documents\n",
    "for i, link in enumerate(urls, start =1):\n",
    "    print(f\"Downloading link {i} of {len(urls)}\")\n",
    "    wget.download(link)\n",
    "    timer(10,20)"
   ]
  }
 ],
 "metadata": {
  "celltoolbar": "Slideshow",
  "colab": {
   "collapsed_sections": [
    "u1gQhop93U1m",
    "KEs8xN58isXw"
   ],
   "provenance": []
  },
  "kernelspec": {
   "display_name": "Python [conda env:base] *",
   "language": "python",
   "name": "conda-base-py"
  },
  "language_info": {
   "codemirror_mode": {
    "name": "ipython",
    "version": 3
   },
   "file_extension": ".py",
   "mimetype": "text/x-python",
   "name": "python",
   "nbconvert_exporter": "python",
   "pygments_lexer": "ipython3",
   "version": "3.12.7"
  }
 },
 "nbformat": 4,
 "nbformat_minor": 4
}
